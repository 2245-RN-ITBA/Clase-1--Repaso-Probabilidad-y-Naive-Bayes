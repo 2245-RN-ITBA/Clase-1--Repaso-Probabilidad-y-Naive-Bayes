{
  "nbformat": 4,
  "nbformat_minor": 0,
  "metadata": {
    "colab": {
      "name": "Naive Bayes para TNG.ipynb",
      "version": "0.3.2",
      "provenance": []
    },
    "kernelspec": {
      "name": "python3",
      "display_name": "Python 3"
    }
  },
  "cells": [
    {
      "cell_type": "markdown",
      "metadata": {
        "id": "IA6S2yzbRSFp",
        "colab_type": "text"
      },
      "source": [
        "# Naive Bayes para TNG\n",
        "\n",
        "En el reciente caso las probabilidades de ocurrencia de H o T quedaban multiplicadas ya que se asume independencia entre una tirada y otra de la moneda.\n",
        "Naive Bayes es una técnica estadística que consiste en repetir el método anterior en problemas cuyos sucesos no son independientes, pero suponiendo independencia.\n",
        "Pongamos como ejemplo la clasificación de artículos periodísticos. En este caso podríamos estimar la probabilidad de ocurrencia de cada palabra según la categoría a la que pertenece el artículo.\n",
        "\n",
        "Veamos un ejemplo concreto"
      ]
    },
    {
      "cell_type": "code",
      "metadata": {
        "id": "riD0miw6ROwv",
        "colab_type": "code",
        "colab": {
          "base_uri": "https://localhost:8080/",
          "height": 52
        },
        "outputId": "312a7652-e88d-42be-ea38-dd0fa8b32580"
      },
      "source": [
        "#Loading the data set - training data.\n",
        "from sklearn.datasets import fetch_20newsgroups\n",
        "twenty_train = fetch_20newsgroups(subset='train', shuffle=True)"
      ],
      "execution_count": 1,
      "outputs": [
        {
          "output_type": "stream",
          "text": [
            "Downloading 20news dataset. This may take a few minutes.\n",
            "Downloading dataset from https://ndownloader.figshare.com/files/5975967 (14 MB)\n"
          ],
          "name": "stderr"
        }
      ]
    },
    {
      "cell_type": "code",
      "metadata": {
        "id": "Uz6bIrZ5RXoy",
        "colab_type": "code",
        "colab": {
          "base_uri": "https://localhost:8080/",
          "height": 34
        },
        "outputId": "579a6647-c845-4ee6-c8c2-4ec8ff2dce35"
      },
      "source": [
        "twenty_train.keys()"
      ],
      "execution_count": 2,
      "outputs": [
        {
          "output_type": "execute_result",
          "data": {
            "text/plain": [
              "dict_keys(['data', 'filenames', 'target_names', 'target', 'DESCR'])"
            ]
          },
          "metadata": {
            "tags": []
          },
          "execution_count": 2
        }
      ]
    },
    {
      "cell_type": "code",
      "metadata": {
        "id": "q7mopXZNRZZV",
        "colab_type": "code",
        "colab": {
          "base_uri": "https://localhost:8080/",
          "height": 34
        },
        "outputId": "a268f583-2227-4d63-e451-95027da3c0cf"
      },
      "source": [
        "len(twenty_train.data) #Cantidad de artículos periodísticos"
      ],
      "execution_count": 3,
      "outputs": [
        {
          "output_type": "execute_result",
          "data": {
            "text/plain": [
              "11314"
            ]
          },
          "metadata": {
            "tags": []
          },
          "execution_count": 3
        }
      ]
    },
    {
      "cell_type": "code",
      "metadata": {
        "id": "Vvp0LHmARbkp",
        "colab_type": "code",
        "colab": {
          "base_uri": "https://localhost:8080/",
          "height": 34
        },
        "outputId": "19048b30-724f-4f27-8c4e-860c5ec10c3d"
      },
      "source": [
        "len(twenty_train[\"target\"]) #Cantidad de clasificaciones. Debería coincidir con la cantidad de artículos"
      ],
      "execution_count": 4,
      "outputs": [
        {
          "output_type": "execute_result",
          "data": {
            "text/plain": [
              "11314"
            ]
          },
          "metadata": {
            "tags": []
          },
          "execution_count": 4
        }
      ]
    },
    {
      "cell_type": "code",
      "metadata": {
        "id": "SOFd2RZmRdxl",
        "colab_type": "code",
        "colab": {
          "base_uri": "https://localhost:8080/",
          "height": 34
        },
        "outputId": "2559e0b9-fc42-41a4-9bbb-f3ef7f0247ab"
      },
      "source": [
        "twenty_train[\"target\"] #Clasificaciones de los artículos"
      ],
      "execution_count": 5,
      "outputs": [
        {
          "output_type": "execute_result",
          "data": {
            "text/plain": [
              "array([7, 4, 4, ..., 3, 1, 8])"
            ]
          },
          "metadata": {
            "tags": []
          },
          "execution_count": 5
        }
      ]
    },
    {
      "cell_type": "code",
      "metadata": {
        "id": "nDyjNvNhRf2I",
        "colab_type": "code",
        "colab": {
          "base_uri": "https://localhost:8080/",
          "height": 369
        },
        "outputId": "f980b575-c82e-4b5f-b9b3-5e5a11e41f26"
      },
      "source": [
        "twenty_train[\"target_names\"] #Referencia de las clasificaciones. "
      ],
      "execution_count": 6,
      "outputs": [
        {
          "output_type": "execute_result",
          "data": {
            "text/plain": [
              "['alt.atheism',\n",
              " 'comp.graphics',\n",
              " 'comp.os.ms-windows.misc',\n",
              " 'comp.sys.ibm.pc.hardware',\n",
              " 'comp.sys.mac.hardware',\n",
              " 'comp.windows.x',\n",
              " 'misc.forsale',\n",
              " 'rec.autos',\n",
              " 'rec.motorcycles',\n",
              " 'rec.sport.baseball',\n",
              " 'rec.sport.hockey',\n",
              " 'sci.crypt',\n",
              " 'sci.electronics',\n",
              " 'sci.med',\n",
              " 'sci.space',\n",
              " 'soc.religion.christian',\n",
              " 'talk.politics.guns',\n",
              " 'talk.politics.mideast',\n",
              " 'talk.politics.misc',\n",
              " 'talk.religion.misc']"
            ]
          },
          "metadata": {
            "tags": []
          },
          "execution_count": 6
        }
      ]
    },
    {
      "cell_type": "code",
      "metadata": {
        "id": "zdtQydMjRhf6",
        "colab_type": "code",
        "colab": {
          "base_uri": "https://localhost:8080/",
          "height": 34
        },
        "outputId": "6d731222-14cd-45eb-da5b-d0512935c497"
      },
      "source": [
        "len(twenty_train[\"target_names\"]) #Cantidad de categorías"
      ],
      "execution_count": 7,
      "outputs": [
        {
          "output_type": "execute_result",
          "data": {
            "text/plain": [
              "20"
            ]
          },
          "metadata": {
            "tags": []
          },
          "execution_count": 7
        }
      ]
    },
    {
      "cell_type": "code",
      "metadata": {
        "id": "miSp1rx1RjgJ",
        "colab_type": "code",
        "colab": {
          "base_uri": "https://localhost:8080/",
          "height": 54
        },
        "outputId": "26476ac3-c4fc-4c25-ad36-646782eb649a"
      },
      "source": [
        "twenty_train.data[0] # Primer artículo"
      ],
      "execution_count": 8,
      "outputs": [
        {
          "output_type": "execute_result",
          "data": {
            "text/plain": [
              "\"From: lerxst@wam.umd.edu (where's my thing)\\nSubject: WHAT car is this!?\\nNntp-Posting-Host: rac3.wam.umd.edu\\nOrganization: University of Maryland, College Park\\nLines: 15\\n\\n I was wondering if anyone out there could enlighten me on this car I saw\\nthe other day. It was a 2-door sports car, looked to be from the late 60s/\\nearly 70s. It was called a Bricklin. The doors were really small. In addition,\\nthe front bumper was separate from the rest of the body. This is \\nall I know. If anyone can tellme a model name, engine specs, years\\nof production, where this car is made, history, or whatever info you\\nhave on this funky looking car, please e-mail.\\n\\nThanks,\\n- IL\\n   ---- brought to you by your neighborhood Lerxst ----\\n\\n\\n\\n\\n\""
            ]
          },
          "metadata": {
            "tags": []
          },
          "execution_count": 8
        }
      ]
    },
    {
      "cell_type": "code",
      "metadata": {
        "id": "0xfjYn2JRlY4",
        "colab_type": "code",
        "colab": {
          "base_uri": "https://localhost:8080/",
          "height": 34
        },
        "outputId": "ac20f13e-185e-4d04-c985-b23d0871cc38"
      },
      "source": [
        "twenty_train.target[0] #Código de clasificación del primer artículo"
      ],
      "execution_count": 9,
      "outputs": [
        {
          "output_type": "execute_result",
          "data": {
            "text/plain": [
              "7"
            ]
          },
          "metadata": {
            "tags": []
          },
          "execution_count": 9
        }
      ]
    },
    {
      "cell_type": "code",
      "metadata": {
        "id": "qB8ExWd0RnN3",
        "colab_type": "code",
        "colab": {
          "base_uri": "https://localhost:8080/",
          "height": 34
        },
        "outputId": "1371a8c3-1aac-4b01-afe9-bcec4fc1b77c"
      },
      "source": [
        "twenty_train.target_names[7] #Clasificación del primer artículo"
      ],
      "execution_count": 10,
      "outputs": [
        {
          "output_type": "execute_result",
          "data": {
            "text/plain": [
              "'rec.autos'"
            ]
          },
          "metadata": {
            "tags": []
          },
          "execution_count": 10
        }
      ]
    },
    {
      "cell_type": "markdown",
      "metadata": {
        "id": "nQs2GOhhRsYr",
        "colab_type": "text"
      },
      "source": [
        "En resumen, tenemos un dataset que contiene 11314 artículos periodísticos, clasificados en 20 tipos.\n",
        "Ahora vamos a armar un bag of words y a filtrar un poco el vocabulario.\n",
        "\n",
        "Vamos a aplicar el siguiente procesamiento:\n",
        "\n",
        "- Tokenization (nltk)\n",
        "- Lemmatization (nltk)\n",
        "- Stop Words (nltk)\n",
        "- Stemming (nltk)\n",
        "- Filtrado de palabras\n",
        "- Obtención del vocabulario (countvectorizer)\n",
        "- Estimación de la probabilidad de ocurrencia de cada palabra para cada categoría\n",
        "- Estimación de la probabilidad de cada categoría\n",
        "\n",
        "Mas info en:\n",
        "http://text-processing.com/demo/stem/"
      ]
    },
    {
      "cell_type": "code",
      "metadata": {
        "id": "D7O62OWzRotM",
        "colab_type": "code",
        "colab": {
          "base_uri": "https://localhost:8080/",
          "height": 406
        },
        "outputId": "65abc31d-114e-456f-9526-33167e538811"
      },
      "source": [
        "import nltk\n",
        "from nltk.tokenize import word_tokenize\n",
        "from nltk.stem import PorterStemmer, WordNetLemmatizer\n",
        "from nltk.corpus import stopwords\n",
        "nltk.download('wordnet')\n",
        "nltk.download('punkt')\n",
        "nltk.download('stopwords')\n",
        "lemmatizer = WordNetLemmatizer()\n",
        "stemmer = PorterStemmer()\n",
        "#for art in twenty_train.data:\n",
        "art=twenty_train.data[0]\n",
        "tok=word_tokenize(art)\n",
        "print(\"\\nArtículo tokenizado:\")\n",
        "print(tok)\n",
        "lem=[lemmatizer.lemmatize(x,pos='v') for x in tok]\n",
        "print(\"\\nLematización\")\n",
        "print(lem)\n",
        "stop = [x for x in lem if x not in stopwords.words('english')]\n",
        "print(\"\\nEliminando stopwords:\")\n",
        "print(stop)\n",
        "stem=[stemmer.stem(x) for x in stop]\n",
        "print(\"\\nAplicando stemming\")\n",
        "print(stem)\n",
        "alpha=[x for x in stem if x.isalpha()]\n",
        "print(\"\\nFiltrando no-palabras:\")\n",
        "print(alpha)"
      ],
      "execution_count": 11,
      "outputs": [
        {
          "output_type": "stream",
          "text": [
            "[nltk_data] Downloading package wordnet to /root/nltk_data...\n",
            "[nltk_data]   Unzipping corpora/wordnet.zip.\n",
            "[nltk_data] Downloading package punkt to /root/nltk_data...\n",
            "[nltk_data]   Unzipping tokenizers/punkt.zip.\n",
            "[nltk_data] Downloading package stopwords to /root/nltk_data...\n",
            "[nltk_data]   Unzipping corpora/stopwords.zip.\n",
            "\n",
            "Artículo tokenizado:\n",
            "['From', ':', 'lerxst', '@', 'wam.umd.edu', '(', 'where', \"'s\", 'my', 'thing', ')', 'Subject', ':', 'WHAT', 'car', 'is', 'this', '!', '?', 'Nntp-Posting-Host', ':', 'rac3.wam.umd.edu', 'Organization', ':', 'University', 'of', 'Maryland', ',', 'College', 'Park', 'Lines', ':', '15', 'I', 'was', 'wondering', 'if', 'anyone', 'out', 'there', 'could', 'enlighten', 'me', 'on', 'this', 'car', 'I', 'saw', 'the', 'other', 'day', '.', 'It', 'was', 'a', '2-door', 'sports', 'car', ',', 'looked', 'to', 'be', 'from', 'the', 'late', '60s/', 'early', '70s', '.', 'It', 'was', 'called', 'a', 'Bricklin', '.', 'The', 'doors', 'were', 'really', 'small', '.', 'In', 'addition', ',', 'the', 'front', 'bumper', 'was', 'separate', 'from', 'the', 'rest', 'of', 'the', 'body', '.', 'This', 'is', 'all', 'I', 'know', '.', 'If', 'anyone', 'can', 'tellme', 'a', 'model', 'name', ',', 'engine', 'specs', ',', 'years', 'of', 'production', ',', 'where', 'this', 'car', 'is', 'made', ',', 'history', ',', 'or', 'whatever', 'info', 'you', 'have', 'on', 'this', 'funky', 'looking', 'car', ',', 'please', 'e-mail', '.', 'Thanks', ',', '-', 'IL', '--', '--', 'brought', 'to', 'you', 'by', 'your', 'neighborhood', 'Lerxst', '--', '--']\n",
            "\n",
            "Lematización\n",
            "['From', ':', 'lerxst', '@', 'wam.umd.edu', '(', 'where', \"'s\", 'my', 'thing', ')', 'Subject', ':', 'WHAT', 'car', 'be', 'this', '!', '?', 'Nntp-Posting-Host', ':', 'rac3.wam.umd.edu', 'Organization', ':', 'University', 'of', 'Maryland', ',', 'College', 'Park', 'Lines', ':', '15', 'I', 'be', 'wonder', 'if', 'anyone', 'out', 'there', 'could', 'enlighten', 'me', 'on', 'this', 'car', 'I', 'saw', 'the', 'other', 'day', '.', 'It', 'be', 'a', '2-door', 'sport', 'car', ',', 'look', 'to', 'be', 'from', 'the', 'late', '60s/', 'early', '70s', '.', 'It', 'be', 'call', 'a', 'Bricklin', '.', 'The', 'doors', 'be', 'really', 'small', '.', 'In', 'addition', ',', 'the', 'front', 'bumper', 'be', 'separate', 'from', 'the', 'rest', 'of', 'the', 'body', '.', 'This', 'be', 'all', 'I', 'know', '.', 'If', 'anyone', 'can', 'tellme', 'a', 'model', 'name', ',', 'engine', 'specs', ',', 'years', 'of', 'production', ',', 'where', 'this', 'car', 'be', 'make', ',', 'history', ',', 'or', 'whatever', 'info', 'you', 'have', 'on', 'this', 'funky', 'look', 'car', ',', 'please', 'e-mail', '.', 'Thanks', ',', '-', 'IL', '--', '--', 'bring', 'to', 'you', 'by', 'your', 'neighborhood', 'Lerxst', '--', '--']\n",
            "\n",
            "Eliminando stopwords:\n",
            "['From', ':', 'lerxst', '@', 'wam.umd.edu', '(', \"'s\", 'thing', ')', 'Subject', ':', 'WHAT', 'car', '!', '?', 'Nntp-Posting-Host', ':', 'rac3.wam.umd.edu', 'Organization', ':', 'University', 'Maryland', ',', 'College', 'Park', 'Lines', ':', '15', 'I', 'wonder', 'anyone', 'could', 'enlighten', 'car', 'I', 'saw', 'day', '.', 'It', '2-door', 'sport', 'car', ',', 'look', 'late', '60s/', 'early', '70s', '.', 'It', 'call', 'Bricklin', '.', 'The', 'doors', 'really', 'small', '.', 'In', 'addition', ',', 'front', 'bumper', 'separate', 'rest', 'body', '.', 'This', 'I', 'know', '.', 'If', 'anyone', 'tellme', 'model', 'name', ',', 'engine', 'specs', ',', 'years', 'production', ',', 'car', 'make', ',', 'history', ',', 'whatever', 'info', 'funky', 'look', 'car', ',', 'please', 'e-mail', '.', 'Thanks', ',', '-', 'IL', '--', '--', 'bring', 'neighborhood', 'Lerxst', '--', '--']\n",
            "\n",
            "Aplicando stemming\n",
            "['from', ':', 'lerxst', '@', 'wam.umd.edu', '(', \"'s\", 'thing', ')', 'subject', ':', 'what', 'car', '!', '?', 'nntp-posting-host', ':', 'rac3.wam.umd.edu', 'organ', ':', 'univers', 'maryland', ',', 'colleg', 'park', 'line', ':', '15', 'I', 'wonder', 'anyon', 'could', 'enlighten', 'car', 'I', 'saw', 'day', '.', 'It', '2-door', 'sport', 'car', ',', 'look', 'late', '60s/', 'earli', '70', '.', 'It', 'call', 'bricklin', '.', 'the', 'door', 'realli', 'small', '.', 'In', 'addit', ',', 'front', 'bumper', 'separ', 'rest', 'bodi', '.', 'thi', 'I', 'know', '.', 'If', 'anyon', 'tellm', 'model', 'name', ',', 'engin', 'spec', ',', 'year', 'product', ',', 'car', 'make', ',', 'histori', ',', 'whatev', 'info', 'funki', 'look', 'car', ',', 'pleas', 'e-mail', '.', 'thank', ',', '-', 'IL', '--', '--', 'bring', 'neighborhood', 'lerxst', '--', '--']\n",
            "\n",
            "Filtrando no-palabras:\n",
            "['from', 'lerxst', 'thing', 'subject', 'what', 'car', 'organ', 'univers', 'maryland', 'colleg', 'park', 'line', 'I', 'wonder', 'anyon', 'could', 'enlighten', 'car', 'I', 'saw', 'day', 'It', 'sport', 'car', 'look', 'late', 'earli', 'It', 'call', 'bricklin', 'the', 'door', 'realli', 'small', 'In', 'addit', 'front', 'bumper', 'separ', 'rest', 'bodi', 'thi', 'I', 'know', 'If', 'anyon', 'tellm', 'model', 'name', 'engin', 'spec', 'year', 'product', 'car', 'make', 'histori', 'whatev', 'info', 'funki', 'look', 'car', 'pleas', 'thank', 'IL', 'bring', 'neighborhood', 'lerxst']\n"
          ],
          "name": "stdout"
        }
      ]
    },
    {
      "cell_type": "code",
      "metadata": {
        "id": "pnd5f_sgRvpL",
        "colab_type": "code",
        "colab": {
          "base_uri": "https://localhost:8080/",
          "height": 34
        },
        "outputId": "bd193ef1-7b60-4fcb-95d1-22e964f1c204"
      },
      "source": [
        "#Procesando todos los artículos:\n",
        "articulos_filtrados=list()\n",
        "for idx in range(len(twenty_train.data)):\n",
        "    if idx%100==0:\n",
        "        print(\"\\r Procesados: {}\".format(idx),end=\"\")\n",
        "    art=twenty_train.data[idx]\n",
        "    tok=word_tokenize(art)\n",
        "    lem=[lemmatizer.lemmatize(x,pos='v') for x in tok]\n",
        "    stop = [x for x in lem if x not in stopwords.words('english')]\n",
        "    stem=[stemmer.stem(x) for x in stop]\n",
        "    alpha=[x for x in stem if x.isalpha()]\n",
        "    articulos_filtrados.append(\" \".join(alpha))"
      ],
      "execution_count": 12,
      "outputs": [
        {
          "output_type": "stream",
          "text": [
            " Procesados: 11300"
          ],
          "name": "stdout"
        }
      ]
    },
    {
      "cell_type": "code",
      "metadata": {
        "id": "66Bidna7R56e",
        "colab_type": "code",
        "colab": {
          "base_uri": "https://localhost:8080/",
          "height": 54
        },
        "outputId": "02c40972-4585-41bd-ada3-13a03ccd9ac6"
      },
      "source": [
        "print(articulos_filtrados[6])"
      ],
      "execution_count": 13,
      "outputs": [
        {
          "output_type": "stream",
          "text": [
            "from bmdelan brian man delaney subject brain tumor treatment thank bmdelan organ univers chicago line there peopl respond request info treatment astrocytoma email I could thank directli prob sean debra sharon So I think I publicli thank everyon thank I sure glad I accident hit rn instead rm I tri delet file last septemb hmmm\n"
          ],
          "name": "stdout"
        }
      ]
    },
    {
      "cell_type": "code",
      "metadata": {
        "id": "aG_DQ7PfSAQ1",
        "colab_type": "code",
        "colab": {}
      },
      "source": [
        "#Salvado del procesamiento a disco:\n",
        "import pickle\n",
        "\n",
        "with open('art_filt.txt', 'wb') as fp:\n",
        "    pickle.dump(articulos_filtrados, fp)"
      ],
      "execution_count": 0,
      "outputs": []
    },
    {
      "cell_type": "code",
      "metadata": {
        "id": "X8ePIL3eSCUO",
        "colab_type": "code",
        "colab": {}
      },
      "source": [
        "with open ('art_filt.txt', 'rb') as fp:\n",
        "    itemlist = pickle.load(fp)"
      ],
      "execution_count": 0,
      "outputs": []
    },
    {
      "cell_type": "code",
      "metadata": {
        "id": "Ep5Ce1ttSEiw",
        "colab_type": "code",
        "colab": {
          "base_uri": "https://localhost:8080/",
          "height": 54
        },
        "outputId": "1e162b3e-c681-4920-8766-c8f25fc8c0d1"
      },
      "source": [
        "print(itemlist[16])"
      ],
      "execution_count": 16,
      "outputs": [
        {
          "output_type": "stream",
          "text": [
            "from ab allen B subject Re tiff philosoph signific organ purdu univers line In articl prestonm martin preston write whi use PD C librari tiff file It take good minut start use app I certainli use whenev I tiff usual work well that point I philosoph oppos complex thi complex lead program poor tiff writer make bizarr file program inabl load tiff imag though save cours gener inabl interchang imag differ environ despit fact think understand tiff As say go It I worri asshol I big troubl misus abus tiff year I chalk immens unnecessari complex format In word tiff spec appendix G page capit emphasi mine the problem sort success tiff design power flexibl expens simplic It take fair amount effort handl option current defin specif probabl NO applic doe A complet job current way sure abl import tiff imag sinc mani applic If program wors applic ca read everi tiff imag mean I might deal whi would I want imag trap format I neither anyon agre anyon cours ab\n"
          ],
          "name": "stdout"
        }
      ]
    },
    {
      "cell_type": "code",
      "metadata": {
        "id": "a49GTIjCSGzy",
        "colab_type": "code",
        "colab": {
          "base_uri": "https://localhost:8080/",
          "height": 122
        },
        "outputId": "d355caa8-896f-4cef-e3ca-284ed1dc7d05"
      },
      "source": [
        "# Extracting features from articles\n",
        "from sklearn.feature_extraction.text import CountVectorizer\n",
        "count_vect = CountVectorizer(max_df=0.8,min_df=10)\n",
        "count_vect.fit(itemlist) #Aprende el vocabulario y le asigna un código a cada palabra"
      ],
      "execution_count": 17,
      "outputs": [
        {
          "output_type": "execute_result",
          "data": {
            "text/plain": [
              "CountVectorizer(analyzer='word', binary=False, decode_error='strict',\n",
              "                dtype=<class 'numpy.int64'>, encoding='utf-8', input='content',\n",
              "                lowercase=True, max_df=0.8, max_features=None, min_df=10,\n",
              "                ngram_range=(1, 1), preprocessor=None, stop_words=None,\n",
              "                strip_accents=None, token_pattern='(?u)\\\\b\\\\w\\\\w+\\\\b',\n",
              "                tokenizer=None, vocabulary=None)"
            ]
          },
          "metadata": {
            "tags": []
          },
          "execution_count": 17
        }
      ]
    },
    {
      "cell_type": "code",
      "metadata": {
        "id": "i5pG8SRgSJUz",
        "colab_type": "code",
        "colab": {
          "base_uri": "https://localhost:8080/",
          "height": 1000
        },
        "outputId": "38cb22ba-c19f-4ca0-9cf0-cf17a1926f43"
      },
      "source": [
        "count_vect.vocabulary_ #Estos son los índices de cada una de las palabras"
      ],
      "execution_count": 18,
      "outputs": [
        {
          "output_type": "execute_result",
          "data": {
            "text/plain": [
              "{'thing': 8119,\n",
              " 'what': 8880,\n",
              " 'car': 1177,\n",
              " 'univers': 8503,\n",
              " 'maryland': 4886,\n",
              " 'colleg': 1519,\n",
              " 'park': 5872,\n",
              " 'wonder': 8981,\n",
              " 'anyon': 358,\n",
              " 'could': 1770,\n",
              " 'enlighten': 2621,\n",
              " 'saw': 7052,\n",
              " 'day': 1983,\n",
              " 'it': 4169,\n",
              " 'sport': 7591,\n",
              " 'look': 4702,\n",
              " 'late': 4510,\n",
              " 'earli': 2464,\n",
              " 'call': 1127,\n",
              " 'the': 8082,\n",
              " 'door': 2354,\n",
              " 'realli': 6566,\n",
              " 'small': 7423,\n",
              " 'in': 3907,\n",
              " 'addit': 86,\n",
              " 'front': 3137,\n",
              " 'bumper': 1061,\n",
              " 'separ': 7182,\n",
              " 'rest': 6759,\n",
              " 'bodi': 892,\n",
              " 'thi': 8111,\n",
              " 'know': 4428,\n",
              " 'if': 3841,\n",
              " 'model': 5163,\n",
              " 'name': 5340,\n",
              " 'engin': 2614,\n",
              " 'spec': 7546,\n",
              " 'year': 9088,\n",
              " 'product': 6315,\n",
              " 'make': 4822,\n",
              " 'histori': 3669,\n",
              " 'whatev': 8881,\n",
              " 'info': 3985,\n",
              " 'pleas': 6120,\n",
              " 'thank': 8078,\n",
              " 'il': 3854,\n",
              " 'bring': 999,\n",
              " 'neighborhood': 5403,\n",
              " 'guy': 3454,\n",
              " 'kuo': 4461,\n",
              " 'si': 7307,\n",
              " 'clock': 1458,\n",
              " 'poll': 6156,\n",
              " 'final': 2954,\n",
              " 'summari': 7824,\n",
              " 'report': 6722,\n",
              " 'keyword': 4381,\n",
              " 'acceler': 36,\n",
              " 'upgrad': 8551,\n",
              " 'washington': 8816,\n",
              " 'fair': 2836,\n",
              " 'number': 5562,\n",
              " 'brave': 971,\n",
              " 'soul': 7516,\n",
              " 'oscil': 5729,\n",
              " 'share': 7239,\n",
              " 'experi': 2780,\n",
              " 'send': 7169,\n",
              " 'brief': 994,\n",
              " 'messag': 5015,\n",
              " 'detail': 2139,\n",
              " 'procedur': 6305,\n",
              " 'top': 8229,\n",
              " 'speed': 7559,\n",
              " 'attain': 532,\n",
              " 'cpu': 1803,\n",
              " 'rat': 6526,\n",
              " 'add': 84,\n",
              " 'card': 1182,\n",
              " 'adapt': 78,\n",
              " 'heat': 3582,\n",
              " 'sink': 7358,\n",
              " 'hour': 3749,\n",
              " 'usag': 8576,\n",
              " 'per': 5971,\n",
              " 'floppi': 3009,\n",
              " 'disk': 2263,\n",
              " 'function': 3157,\n",
              " 'especi': 2689,\n",
              " 'request': 6735,\n",
              " 'summar': 7823,\n",
              " 'next': 5444,\n",
              " 'two': 8398,\n",
              " 'network': 5421,\n",
              " 'knowledg': 4430,\n",
              " 'base': 664,\n",
              " 'answer': 344,\n",
              " 'thoma': 8127,\n",
              " 'willi': 8926,\n",
              " 'pb': 5933,\n",
              " 'question': 6456,\n",
              " 'purdu': 6406,\n",
              " 'comput': 1607,\n",
              " 'distribut': 2294,\n",
              " 'usa': 8573,\n",
              " 'well': 8868,\n",
              " 'folk': 3033,\n",
              " 'mac': 4778,\n",
              " 'plu': 6128,\n",
              " 'give': 3286,\n",
              " 'ghost': 3271,\n",
              " 'weekend': 8855,\n",
              " 'start': 7650,\n",
              " 'life': 4620,\n",
              " 'way': 8827,\n",
              " 'back': 608,\n",
              " 'market': 4867,\n",
              " 'new': 5430,\n",
              " 'machin': 4782,\n",
              " 'bite': 835,\n",
              " 'sooner': 7508,\n",
              " 'intend': 4058,\n",
              " 'pick': 6054,\n",
              " 'powerbook': 6207,\n",
              " 'mayb': 4919,\n",
              " 'bunch': 1062,\n",
              " 'hope': 3726,\n",
              " 'somebodi': 7493,\n",
              " 'anybodi': 355,\n",
              " 'dirt': 2220,\n",
              " 'round': 6933,\n",
              " 'introduct': 4104,\n",
              " 'expect': 2774,\n",
              " 'hear': 3580,\n",
              " 'suppos': 7856,\n",
              " 'appear': 376,\n",
              " 'summer': 7825,\n",
              " 'anymor': 357,\n",
              " 'sinc': 7352,\n",
              " 'access': 39,\n",
              " 'rumor': 6962,\n",
              " 'price': 6274,\n",
              " 'drop': 2405,\n",
              " 'like': 4631,\n",
              " 'one': 5673,\n",
              " 'duo': 2435,\n",
              " 'go': 3321,\n",
              " 'recent': 6583,\n",
              " 'impress': 3901,\n",
              " 'display': 2275,\n",
              " 'probabl': 6300,\n",
              " 'swing': 7906,\n",
              " 'get': 3266,\n",
              " 'rather': 6528,\n",
              " 'feel': 2905,\n",
              " 'much': 5274,\n",
              " 'better': 786,\n",
              " 'yea': 9086,\n",
              " 'great': 3392,\n",
              " 'store': 7718,\n",
              " 'wow': 9016,\n",
              " 'good': 3342,\n",
              " 'solicit': 7485,\n",
              " 'opinion': 5692,\n",
              " 'peopl': 5968,\n",
              " 'use': 8578,\n",
              " 'worth': 9010,\n",
              " 'take': 7947,\n",
              " 'size': 7372,\n",
              " 'money': 5192,\n",
              " 'hit': 3671,\n",
              " 'activ': 72,\n",
              " 'realiz': 6565,\n",
              " 'real': 6560,\n",
              " 'play': 6114,\n",
              " 'around': 441,\n",
              " 'figur': 2947,\n",
              " 'actual': 74,\n",
              " 'daili': 1935,\n",
              " 'might': 5071,\n",
              " 'prove': 6374,\n",
              " 'help': 3604,\n",
              " 'perform': 5979,\n",
              " 'advanc': 110,\n",
              " 'email': 2566,\n",
              " 'post': 6187,\n",
              " 'news': 5438,\n",
              " 'read': 6552,\n",
              " 'time': 8182,\n",
              " 'premium': 6245,\n",
              " 'corner': 1751,\n",
              " 'tom': 8215,\n",
              " 'electr': 2538,\n",
              " 'convict': 1725,\n",
              " 'danger': 1952,\n",
              " 'enemi': 2609,\n",
              " 'truth': 8356,\n",
              " 'lie': 4618,\n",
              " 'nietzsch': 5462,\n",
              " 'jgreen': 4243,\n",
              " 'joe': 4260,\n",
              " 'green': 3399,\n",
              " 're': 6547,\n",
              " 'weitek': 8863,\n",
              " 'harri': 3535,\n",
              " 'system': 7933,\n",
              " 'divis': 2308,\n",
              " 'world': 9002,\n",
              " 'tin': 8188,\n",
              " 'version': 8672,\n",
              " 'robert': 6884,\n",
              " 'rob': 6880,\n",
              " 'write': 9028,\n",
              " 'articl': 455,\n",
              " 'graphic': 3383,\n",
              " 'chip': 1355,\n",
              " 'as': 463,\n",
              " 'far': 2856,\n",
              " 'stuff': 7771,\n",
              " 'pretti': 6265,\n",
              " 'nice': 5452,\n",
              " 'fill': 2950,\n",
              " 'command': 1549,\n",
              " 'requir': 6736,\n",
              " 'four': 3086,\n",
              " 'point': 6140,\n",
              " 'do': 2320,\n",
              " 'inform': 3986,\n",
              " 'corpor': 1754,\n",
              " 'scar': 7062,\n",
              " 'person': 5996,\n",
              " 'sens': 7172,\n",
              " 'humor': 3788,\n",
              " 'jonathan': 4276,\n",
              " 'winter': 8946,\n",
              " 'mcdowel': 4936,\n",
              " 'shuttl': 7305,\n",
              " 'launch': 4520,\n",
              " 'smithsonian': 7435,\n",
              " 'astrophys': 507,\n",
              " 'observatori': 5601,\n",
              " 'cambridg': 1138,\n",
              " 'ma': 4777,\n",
              " 'sci': 7084,\n",
              " 'baker': 626,\n",
              " 'pack': 5811,\n",
              " 'clear': 1437,\n",
              " 'caution': 1234,\n",
              " 'warn': 8805,\n",
              " 'memori': 4990,\n",
              " 'verifi': 8668,\n",
              " 'unexpect': 8485,\n",
              " 'error': 2675,\n",
              " 'sorri': 7513,\n",
              " 'dumb': 2429,\n",
              " 'pariti': 5871,\n",
              " 'previous': 6272,\n",
              " 'condit': 1631,\n",
              " 'waiver': 8780,\n",
              " 'ye': 9085,\n",
              " 'alreadi': 246,\n",
              " 'curiou': 1899,\n",
              " 'mean': 4951,\n",
              " 'quot': 6471,\n",
              " 'my': 5321,\n",
              " 'understand': 8475,\n",
              " 'basic': 670,\n",
              " 'bug': 1044,\n",
              " 'softwar': 7474,\n",
              " 'check': 1325,\n",
              " 'right': 6840,\n",
              " 'valu': 8617,\n",
              " 'yet': 9099,\n",
              " 'set': 7204,\n",
              " 'till': 8179,\n",
              " 'fix': 2982,\n",
              " 'code': 1493,\n",
              " 'possibl': 6186,\n",
              " 'introduc': 4103,\n",
              " 'tell': 8021,\n",
              " 'crew': 1831,\n",
              " 'see': 7143,\n",
              " 'liftoff': 4624,\n",
              " 'ignor': 3844,\n",
              " 'dougla': 2369,\n",
              " 'second': 7129,\n",
              " 'amend': 276,\n",
              " 'idea': 3829,\n",
              " 'cdt': 1246,\n",
              " 'tavar': 7974,\n",
              " 'jrutledg': 4298,\n",
              " 'john': 4263,\n",
              " 'lawrenc': 4525,\n",
              " 'rutledg': 6978,\n",
              " 'massiv': 4893,\n",
              " 'destruct': 2136,\n",
              " 'power': 6206,\n",
              " 'mani': 4841,\n",
              " 'modern': 5166,\n",
              " 'weapon': 8840,\n",
              " 'cost': 1767,\n",
              " 'accident': 42,\n",
              " 'mass': 4889,\n",
              " 'need': 5393,\n",
              " 'control': 1716,\n",
              " 'govern': 3356,\n",
              " 'individu': 3954,\n",
              " 'would': 9014,\n",
              " 'result': 6767,\n",
              " 'needl': 5394,\n",
              " 'death': 2006,\n",
              " 'million': 5089,\n",
              " 'keep': 4358,\n",
              " 'bear': 704,\n",
              " 'state': 7656,\n",
              " 'come': 1542,\n",
              " 'needless': 5395,\n",
              " 'say': 7053,\n",
              " 'disagre': 2225,\n",
              " 'everi': 2732,\n",
              " 'count': 1773,\n",
              " 'you': 9105,\n",
              " 'believ': 744,\n",
              " 'find': 2957,\n",
              " 'hard': 3522,\n",
              " 'support': 7855,\n",
              " 'neighbor': 5402,\n",
              " 'nuclear': 5558,\n",
              " 'biolog': 824,\n",
              " 'nerv': 5411,\n",
              " 'ga': 3176,\n",
              " 'properti': 6348,\n",
              " 'even': 2727,\n",
              " 'agre': 160,\n",
              " 'hand': 3498,\n",
              " 'us': 8572,\n",
              " 'sign': 7323,\n",
              " 'blank': 851,\n",
              " 'of': 5626,\n",
              " 'cours': 1784,\n",
              " 'term': 8048,\n",
              " 'must': 5306,\n",
              " 'defin': 2059,\n",
              " 'bill': 814,\n",
              " 'when': 8886,\n",
              " 'doug': 2367,\n",
              " 'nuke': 5559,\n",
              " 'sarah': 7033,\n",
              " 'bradi': 958,\n",
              " 'street': 7741,\n",
              " 'shotgun': 7290,\n",
              " 'sk': 7374,\n",
              " 'rifl': 6837,\n",
              " 'doubt': 2365,\n",
              " 'allegedli': 225,\n",
              " 'immedi': 3876,\n",
              " 'follow': 3035,\n",
              " 'thousand': 8140,\n",
              " 'kill': 4392,\n",
              " 'handgun': 3501,\n",
              " 'easili': 2474,\n",
              " 'reduc': 6620,\n",
              " 'put': 6417,\n",
              " 'reason': 6571,\n",
              " 'restrict': 6766,\n",
              " 'present': 6252,\n",
              " 'first': 2971,\n",
              " 'argument': 423,\n",
              " 'commonli': 1564,\n",
              " 'switch': 7908,\n",
              " 'topic': 8230,\n",
              " 'evid': 2739,\n",
              " 'show': 7296,\n",
              " 'allow': 235,\n",
              " 'later': 4511,\n",
              " 'analysi': 302,\n",
              " 'consid': 1673,\n",
              " 'anoth': 342,\n",
              " 'class': 1422,\n",
              " 'speak': 7544,\n",
              " 'compani': 1572,\n",
              " 'or': 5704,\n",
              " 'today': 8206,\n",
              " 'special': 7548,\n",
              " 'investor': 4119,\n",
              " 'packet': 5814,\n",
              " 'brian': 991,\n",
              " 'man': 4830,\n",
              " 'brain': 961,\n",
              " 'treatment': 8310,\n",
              " 'chicago': 1343,\n",
              " 'there': 8101,\n",
              " 'respond': 6757,\n",
              " 'directli': 2217,\n",
              " 'prob': 6299,\n",
              " 'sean': 7121,\n",
              " 'sharon': 7242,\n",
              " 'so': 7458,\n",
              " 'think': 8120,\n",
              " 'publicli': 6395,\n",
              " 'everyon': 2735,\n",
              " 'sure': 7862,\n",
              " 'glad': 3291,\n",
              " 'rn': 6874,\n",
              " 'instead': 4036,\n",
              " 'rm': 6872,\n",
              " 'tri': 8318,\n",
              " 'delet': 2072,\n",
              " 'file': 2948,\n",
              " 'last': 4507,\n",
              " 'septemb': 7186,\n",
              " 'hmmm': 3678,\n",
              " 'bgrubb': 797,\n",
              " 'grubb': 3426,\n",
              " 'ide': 3828,\n",
              " 'vs': 8762,\n",
              " 'scsi': 7110,\n",
              " 'mexico': 5034,\n",
              " 'la': 4470,\n",
              " 'cruce': 1854,\n",
              " 'nm': 5482,\n",
              " 'pc': 5935,\n",
              " 'magazin': 4800,\n",
              " 'april': 395,\n",
              " 'although': 253,\n",
              " 'twice': 8394,\n",
              " 'esdi': 2684,\n",
              " 'faster': 2868,\n",
              " 'devic': 2155,\n",
              " 'accept': 38,\n",
              " 'long': 4699,\n",
              " 'stall': 7634,\n",
              " 'incompat': 3927,\n",
              " 'problem': 6303,\n",
              " 'instal': 4032,\n",
              " 'headach': 3568,\n",
              " 'love': 4729,\n",
              " 'writer': 9029,\n",
              " 'stupid': 7774,\n",
              " 'statement': 7657,\n",
              " 'where': 8888,\n",
              " 'list': 4659,\n",
              " 'rang': 6514,\n",
              " 'convinc': 1726,\n",
              " 'absurd': 28,\n",
              " 'alway': 260,\n",
              " 'all': 221,\n",
              " 'inde': 3941,\n",
              " 'with': 8959,\n",
              " 'burst': 1078,\n",
              " 'note': 5522,\n",
              " 'increas': 3935,\n",
              " 'quadra': 6435,\n",
              " 'doe': 2331,\n",
              " 'exist': 2767,\n",
              " 'some': 7492,\n",
              " 'mode': 5162,\n",
              " 'fast': 2867,\n",
              " 'and': 312,\n",
              " 'by': 1098,\n",
              " 'own': 5796,\n",
              " 'data': 1970,\n",
              " 'correct': 1758,\n",
              " 'reach': 6548,\n",
              " 'fact': 2824,\n",
              " 'newsgroup': 5439,\n",
              " 'ibm': 3818,\n",
              " 'sheet': 7255,\n",
              " 'avail': 573,\n",
              " 'ftp': 3143,\n",
              " 'may': 4917,\n",
              " 'still': 7701,\n",
              " 'part': 5881,\n",
              " 'though': 8138,\n",
              " 'document': 2326,\n",
              " 'appl': 379,\n",
              " 'not': 5520,\n",
              " 'maximum': 4915,\n",
              " 'synchron': 7919,\n",
              " 'slower': 7416,\n",
              " 'seem': 7146,\n",
              " 'interfac': 4069,\n",
              " 'drive': 2399,\n",
              " 'which': 8895,\n",
              " 'true': 8347,\n",
              " 'slam': 7388,\n",
              " 'refer': 6627,\n",
              " 'digit': 2194,\n",
              " 'review': 6791,\n",
              " 'oct': 5618,\n",
              " 'win': 8932,\n",
              " 'icon': 3823,\n",
              " 'northern': 5514,\n",
              " 'iowa': 4125,\n",
              " 'download': 2372,\n",
              " 'sever': 7211,\n",
              " 'bmp': 878,\n",
              " 'ca': 1103,\n",
              " 'chang': 1293,\n",
              " 'wallpap': 8790,\n",
              " 'ani': 328,\n",
              " 'appreci': 387,\n",
              " 'thanx': 8079,\n",
              " 'ps': 6383,\n",
              " 'kerr': 4375,\n",
              " 'stan': 7637,\n",
              " 'sigma': 7322,\n",
              " 'design': 2124,\n",
              " 'doubl': 2364,\n",
              " 'illinoi': 3857,\n",
              " 'urbana': 8568,\n",
              " 'joseph': 4281,\n",
              " 'board': 885,\n",
              " 'hardwar': 3528,\n",
              " 'compress': 1600,\n",
              " 'work': 8993,\n",
              " 'also': 248,\n",
              " 'due': 2424,\n",
              " 'licens': 4615,\n",
              " 'technolog': 7997,\n",
              " 'owner': 5797,\n",
              " 'lose': 4711,\n",
              " 'wrong': 9031,\n",
              " 'whether': 8893,\n",
              " 'fault': 2876,\n",
              " 'someth': 7498,\n",
              " 'els': 2561,\n",
              " 'howev': 3758,\n",
              " 'troubl': 8344,\n",
              " 'without': 8964,\n",
              " 'usual': 8588,\n",
              " 'becaus': 711,\n",
              " 'mention': 4996,\n",
              " 'freewar': 3117,\n",
              " 'expans': 2773,\n",
              " 'util': 8592,\n",
              " 'dd': 1995,\n",
              " 'expand': 2772,\n",
              " 'unless': 8510,\n",
              " 'unlik': 8511,\n",
              " 'hole': 3692,\n",
              " 'relat': 6668,\n",
              " 'sad': 6994,\n",
              " 'reluct': 6684,\n",
              " 'buy': 1092,\n",
              " 'but': 1087,\n",
              " 'hey': 3641,\n",
              " 'competit': 1583,\n",
              " 'commun': 1566,\n",
              " 'servic': 7202,\n",
              " 'offic': 5632,\n",
              " 'phone': 6042,\n",
              " 'recommend': 6595,\n",
              " 'duc': 2420,\n",
              " 'expir': 2784,\n",
              " 'sat': 7038,\n",
              " 'gmt': 3318,\n",
              " 'richardson': 6823,\n",
              " 'tx': 8399,\n",
              " 'ducati': 2421,\n",
              " 'gt': 3429,\n",
              " 'how': 3754,\n",
              " 'run': 6964,\n",
              " 'paint': 5824,\n",
              " 'fade': 2831,\n",
              " 'leak': 4544,\n",
              " 'oil': 5641,\n",
              " 'pop': 6169,\n",
              " 'shop': 7280,\n",
              " 'tran': 8278,\n",
              " 'they': 8110,\n",
              " 'sell': 7159,\n",
              " 'bike': 811,\n",
              " 'want': 8798,\n",
              " 'stabl': 7622,\n",
              " 'beemer': 721,\n",
              " 'then': 8092,\n",
              " 'axi': 594,\n",
              " 'motor': 5242,\n",
              " 'honk': 3720,\n",
              " 'therefor': 8104,\n",
              " 'dod': 2328,\n",
              " 'david': 1977,\n",
              " 'bold': 900,\n",
              " 'popular': 6173,\n",
              " 'moral': 5217,\n",
              " 'electron': 2541,\n",
              " 'ericsson': 2668,\n",
              " 'england': 2615,\n",
              " 'jame': 4192,\n",
              " 'owen': 5795,\n",
              " 'previou': 6271,\n",
              " 'rude': 6956,\n",
              " 'hold': 3690,\n",
              " 'end': 2600,\n",
              " 'differ': 2187,\n",
              " 'stick': 7697,\n",
              " 'intent': 4061,\n",
              " 'explain': 2785,\n",
              " 'god': 3326,\n",
              " 'overlook': 5778,\n",
              " 'main': 4815,\n",
              " 'hi': 3644,\n",
              " 'yep': 9095,\n",
              " 'jew': 4239,\n",
              " 'jewish': 4240,\n",
              " 'coven': 1790,\n",
              " 'patriarch': 5915,\n",
              " 'abraham': 20,\n",
              " 'mose': 5229,\n",
              " 'case': 1210,\n",
              " 'establish': 2698,\n",
              " 'mankind': 4845,\n",
              " 'decid': 2022,\n",
              " 'boundari': 943,\n",
              " 'fall': 2842,\n",
              " 'torah': 8233,\n",
              " 'wherea': 8889,\n",
              " 'pharise': 6025,\n",
              " 'ancestor': 309,\n",
              " 'judaism': 4306,\n",
              " 'interpret': 4082,\n",
              " 'lead': 4539,\n",
              " 'essenc': 2694,\n",
              " 'biblic': 802,\n",
              " 'christian': 1368,\n",
              " 'necessarili': 5390,\n",
              " 'indic': 3948,\n",
              " 'anyth': 359,\n",
              " 'outsid': 5763,\n",
              " 'relationship': 6669,\n",
              " 'specul': 7557,\n",
              " 'mind': 5092,\n",
              " 'creat': 1820,\n",
              " 'imag': 3865,\n",
              " 'commit': 1560,\n",
              " 'he': 3566,\n",
              " 'live': 4669,\n",
              " 'christ': 1366,\n",
              " 'exampl': 2750,\n",
              " 'press': 6257,\n",
              " 'argu': 420,\n",
              " 'kind': 4399,\n",
              " 'conclus': 1621,\n",
              " 'upset': 8560,\n",
              " 'cart': 1205,\n",
              " 'script': 7105,\n",
              " 'shaki': 7228,\n",
              " 'foundat': 3084,\n",
              " 'mix': 5142,\n",
              " 'metaphor': 5023,\n",
              " 'littl': 4666,\n",
              " 'jesu': 4237,\n",
              " 'we': 8834,\n",
              " 'record': 6599,\n",
              " 'utter': 8595,\n",
              " 'narr': 5346,\n",
              " 'historian': 3670,\n",
              " 'revel': 6785,\n",
              " 'asid': 474,\n",
              " 'wors': 9006,\n",
              " 'attempt': 533,\n",
              " 'debunk': 2012,\n",
              " 'initi': 4004,\n",
              " 'bibl': 801,\n",
              " 'human': 3783,\n",
              " 'guess': 3437,\n",
              " 'faith': 2840,\n",
              " 'relev': 6674,\n",
              " 'inher': 3998,\n",
              " 'metaphys': 5024,\n",
              " 'multipl': 5286,\n",
              " 'cod': 1492,\n",
              " 'absolut': 25,\n",
              " 'theolog': 8094,\n",
              " 'no': 5485,\n",
              " 'found': 3083,\n",
              " 'parent': 5868,\n",
              " 'child': 1346,\n",
              " 'never': 5428,\n",
              " 'swear': 7897,\n",
              " 'assum': 495,\n",
              " 'simpli': 7344,\n",
              " 'now': 5536,\n",
              " 'trooper': 8342,\n",
              " 'pub': 6393,\n",
              " 'bar': 647,\n",
              " 'children': 1349,\n",
              " 'disobey': 2269,\n",
              " 'inappropri': 3914,\n",
              " 'quit': 6469,\n",
              " 'happi': 3516,\n",
              " 'anim': 329,\n",
              " 'analog': 300,\n",
              " 'water': 8820,\n",
              " 'type': 8401,\n",
              " 'incident': 3922,\n",
              " 'young': 9106,\n",
              " 'direct': 2216,\n",
              " 'older': 5652,\n",
              " 'learn': 4547,\n",
              " 'on': 5670,\n",
              " 'religion': 6682,\n",
              " 'oh': 5637,\n",
              " 'sea': 7117,\n",
              " 'fish': 2976,\n",
              " 'cri': 1832,\n",
              " 'swim': 7905,\n",
              " 'rod': 6897,\n",
              " 'hewlett': 3638,\n",
              " 'packard': 5813,\n",
              " 'fort': 3073,\n",
              " 'collin': 1521,\n",
              " 'co': 1480,\n",
              " 'regard': 6644,\n",
              " 'ms': 5265,\n",
              " 'east': 2475,\n",
              " 'harmoni': 3532,\n",
              " 'rd': 6545,\n",
              " 'space': 7530,\n",
              " 'station': 7659,\n",
              " 'redesign': 6615,\n",
              " 'jsc': 4300,\n",
              " 'altern': 252,\n",
              " 'nasa': 5348,\n",
              " 'lewi': 4599,\n",
              " 'research': 6738,\n",
              " 'center': 1261,\n",
              " 'cleveland': 1444,\n",
              " 'ohio': 5639,\n",
              " 'vnew': 8740,\n",
              " 'kjenk': 4414,\n",
              " 'descript': 2121,\n",
              " 'extern': 2807,\n",
              " 'tank': 7960,\n",
              " 'option': 5703,\n",
              " 'ssf': 7617,\n",
              " 'mark': 4865,\n",
              " 'propos': 6356,\n",
              " 'shea': 7249,\n",
              " 'committe': 1561,\n",
              " 'crystal': 1875,\n",
              " 'citi': 1401,\n",
              " 'receiv': 6582,\n",
              " 'orbit': 5708,\n",
              " 'yo': 9103,\n",
              " 'ken': 4365,\n",
              " 'let': 4589,\n",
              " 'both': 934,\n",
              " 'edit': 2498,\n",
              " 'york': 9104,\n",
              " 'panel': 5841,\n",
              " 'giant': 3273,\n",
              " 'fuel': 3147,\n",
              " 'build': 1048,\n",
              " 'wing': 8940,\n",
              " 'tail': 7944,\n",
              " 'remov': 6695,\n",
              " 'current': 1902,\n",
              " 'three': 8144,\n",
              " 'advisori': 119,\n",
              " 'meet': 4970,\n",
              " 'yesterday': 9098,\n",
              " 'low': 4731,\n",
              " 'modular': 5171,\n",
              " 'approach': 389,\n",
              " 'studi': 7768,\n",
              " 'team': 7990,\n",
              " 'reston': 6762,\n",
              " 'locat': 4686,\n",
              " 'respect': 6755,\n",
              " 'key': 4377,\n",
              " 'featur': 2895,\n",
              " 'bu': 1031,\n",
              " 'develop': 2153,\n",
              " 'lockhe': 4689,\n",
              " 'qualifi': 6439,\n",
              " 'st': 7619,\n",
              " 'provid': 6377,\n",
              " 'propuls': 6359,\n",
              " 'manag': 4831,\n",
              " 'air': 178,\n",
              " 'forc': 3049,\n",
              " 'capabl': 1167,\n",
              " 'obtain': 5606,\n",
              " 'flight': 3002,\n",
              " 'solar': 7479,\n",
              " 'array': 445,\n",
              " 'vehicl': 8647,\n",
              " 'fli': 3000,\n",
              " 'arrow': 450,\n",
              " 'optim': 5701,\n",
              " 'environ': 2642,\n",
              " 'mission': 5126,\n",
              " 'sourc': 7520,\n",
              " 'tend': 8038,\n",
              " 'oppos': 5695,\n",
              " 'old': 5651,\n",
              " 'sexist': 7213,\n",
              " 'achiev': 57,\n",
              " 'common': 1563,\n",
              " 'modul': 5170,\n",
              " 'modifi': 5169,\n",
              " 'lab': 4471,\n",
              " 'dock': 2323,\n",
              " 'port': 6177,\n",
              " 'intern': 4078,\n",
              " 'partner': 5891,\n",
              " 'place': 6095,\n",
              " 'nod': 5489,\n",
              " 'habit': 3465,\n",
              " 'esa': 2678,\n",
              " 'perman': 5985,\n",
              " 'presenc': 6251,\n",
              " 'assur': 497,\n",
              " 'return': 6780,\n",
              " 'freedom': 3113,\n",
              " 'deriv': 2117,\n",
              " 'mike': 5075,\n",
              " 'alot': 243,\n",
              " 'assembl': 485,\n",
              " 'inclin': 3923,\n",
              " 'occur': 5615,\n",
              " 'six': 7367,\n",
              " 'phase': 6027,\n",
              " 'transfer': 8285,\n",
              " 'visit': 8728,\n",
              " 'adopt': 106,\n",
              " 'languag': 4494,\n",
              " 'deploy': 2106,\n",
              " 'sometim': 7499,\n",
              " 'toler': 8213,\n",
              " 'thermal': 8107,\n",
              " 'radiat': 6487,\n",
              " 'after': 141,\n",
              " 'more': 5218,\n",
              " 'finish': 2960,\n",
              " 'most': 5234,\n",
              " 'except': 2753,\n",
              " 'major': 4821,\n",
              " 'singl': 7357,\n",
              " 'core': 1745,\n",
              " 'ft': 3142,\n",
              " 'diamet': 2171,\n",
              " 'cylind': 1923,\n",
              " 'slap': 7390,\n",
              " 'nose': 5519,\n",
              " 'cone': 1636,\n",
              " 'attach': 530,\n",
              " 'regular': 6655,\n",
              " 'solid': 7486,\n",
              " 'rocket': 6894,\n",
              " 'complet': 1588,\n",
              " 'grind': 3416,\n",
              " 'integr': 4052,\n",
              " 'mount': 5247,\n",
              " 'protect': 6365,\n",
              " 'debri': 2008,\n",
              " 'centerlin': 1262,\n",
              " 'pressur': 6258,\n",
              " 'volum': 8748,\n",
              " 'approxim': 393,\n",
              " 'cubic': 1886,\n",
              " 'feet': 2906,\n",
              " 'floor': 3008,\n",
              " 'grace': 3367,\n",
              " 'degrad': 2063,\n",
              " 'failur': 2834,\n",
              " 'channel': 1294,\n",
              " 'loop': 4704,\n",
              " 'dual': 2416,\n",
              " 'environment': 2643,\n",
              " 'thru': 8156,\n",
              " 'johnni': 4265,\n",
              " 'lee': 4556,\n",
              " 'move': 5252,\n",
              " 'sale': 7012,\n",
              " 'ub': 8411,\n",
              " 'forsal': 3071,\n",
              " 'behalf': 730,\n",
              " 'brother': 1013,\n",
              " 'offer': 5631,\n",
              " 'black': 843,\n",
              " 'portabl': 6178,\n",
              " 'purchas': 6405,\n",
              " 'cassett': 1215,\n",
              " 'player': 6116,\n",
              " 'equal': 2656,\n",
              " 'high': 3649,\n",
              " 'deck': 2026,\n",
              " 'sound': 7517,\n",
              " 'bet': 781,\n",
              " 'zoom': 9135,\n",
              " 'microscop': 5059,\n",
              " 'made': 4796,\n",
              " 'japan': 4199,\n",
              " 'includ': 3924,\n",
              " 'accessori': 40,\n",
              " 'hair': 3474,\n",
              " 'head': 3567,\n",
              " 'ask': 475,\n",
              " 'bag': 622,\n",
              " 'leather': 4550,\n",
              " 'brand': 966,\n",
              " 'extra': 2810,\n",
              " 'wide': 8914,\n",
              " 'angl': 326,\n",
              " 'spray': 7597,\n",
              " 'steam': 7670,\n",
              " 'dri': 2395,\n",
              " 'iron': 4140,\n",
              " 'contact': 1692,\n",
              " 'repli': 6718,\n",
              " 'expedit': 2775,\n",
              " 'lastli': 4508,\n",
              " 'mathew': 4902,\n",
              " 'polit': 6154,\n",
              " 'atheist': 514,\n",
              " 'manti': 4848,\n",
              " 'consult': 1688,\n",
              " 'uk': 8426,\n",
              " 'rusnew': 6969,\n",
              " 'keith': 4360,\n",
              " 'ryan': 6982,\n",
              " 'almost': 239,\n",
              " 'painless': 5823,\n",
              " 'method': 5027,\n",
              " 'insert': 4023,\n",
              " 'form': 3063,\n",
              " 'ethnic': 2709,\n",
              " 'minor': 5104,\n",
              " 'group': 3422,\n",
              " 'mutil': 5312,\n",
              " 'extermin': 2806,\n",
              " 'unusu': 8542,\n",
              " 'constitut': 1683,\n",
              " 'punish': 6404,\n",
              " 'reciev': 6586,\n",
              " 'trial': 8319,\n",
              " 'standard': 7640,\n",
              " 'happen': 3515,\n",
              " 'japanes': 4200,\n",
              " 'citizen': 1402,\n",
              " 'war': 8799,\n",
              " 'ii': 3846,\n",
              " 'prepar': 6246,\n",
              " 'concentr': 1613,\n",
              " 'camp': 1142,\n",
              " 'short': 7283,\n",
              " 'step': 7680,\n",
              " 'nazi': 5361,\n",
              " 'origin': 5719,\n",
              " 'imprison': 3902,\n",
              " 'solut': 7489,\n",
              " 'dream': 2391,\n",
              " 'partli': 5890,\n",
              " 'afford': 135,\n",
              " 'devast': 2152,\n",
              " 'caus': 1233,\n",
              " 'goer': 3330,\n",
              " 'total': 8241,\n",
              " 'those': 8136,\n",
              " 'gener': 3234,\n",
              " 'die': 2181,\n",
              " 'diseas': 2257,\n",
              " 'ab': 3,\n",
              " 'allen': 227,\n",
              " 'tiff': 8172,\n",
              " 'philosoph': 6039,\n",
              " 'signific': 7326,\n",
              " 'martin': 4880,\n",
              " 'preston': 6260,\n",
              " 'whi': 8894,\n",
              " 'pd': 5940,\n",
              " 'librari': 4613,\n",
              " 'minut': 5107,\n",
              " 'app': 371,\n",
              " 'certainli': 1273,\n",
              " 'whenev': 8887,\n",
              " 'that': 8081,\n",
              " 'complex': 1589,\n",
              " 'program': 6324,\n",
              " 'poor': 6166,\n",
              " 'bizarr': 839,\n",
              " 'inabl': 3908,\n",
              " 'load': 4681,\n",
              " 'save': 7050,\n",
              " 'interchang': 4064,\n",
              " 'despit': 2133,\n",
              " 'worri': 9005,\n",
              " 'asshol': 489,\n",
              " 'big': 806,\n",
              " 'misus': 5133,\n",
              " 'abus': 30,\n",
              " 'immens': 3877,\n",
              " 'unnecessari': 8515,\n",
              " 'format': 3065,\n",
              " 'word': 8991,\n",
              " 'page': 5819,\n",
              " 'capit': 1172,\n",
              " ...}"
            ]
          },
          "metadata": {
            "tags": []
          },
          "execution_count": 18
        }
      ]
    },
    {
      "cell_type": "code",
      "metadata": {
        "id": "IX9uZb5QSMU4",
        "colab_type": "code",
        "colab": {
          "base_uri": "https://localhost:8080/",
          "height": 54
        },
        "outputId": "f416a6cd-05f6-4772-f989-5be52fa8fe06"
      },
      "source": [
        "vocabulary=count_vect.get_feature_names() #Estos nombres de las palabras seleccionadas para el vocabulario, ordenadas por orden alfabético\n",
        "print(vocabulary)"
      ],
      "execution_count": 19,
      "outputs": [
        {
          "output_type": "stream",
          "text": [
            "['aa', 'aaa', 'aaron', 'ab', 'abandon', 'abbrevi', 'abc', 'aberystwyth', 'abid', 'abil', 'abl', 'abnorm', 'aboard', 'abolish', 'abomin', 'abort', 'abound', 'about', 'abov', 'abpsoft', 'abraham', 'abridg', 'abroad', 'absenc', 'absent', 'absolut', 'absorb', 'abstract', 'absurd', 'abund', 'abus', 'ac', 'academ', 'academi', 'academia', 'acc', 'acceler', 'acceller', 'accept', 'access', 'accessori', 'accid', 'accident', 'accommod', 'accomod', 'accompani', 'accompli', 'accomplish', 'accord', 'accordingli', 'account', 'accumul', 'accur', 'accuraci', 'accus', 'ace', 'ach', 'achiev', 'achkar', 'acid', 'ack', 'acker', 'acknowledg', 'aclu', 'acm', 'acquaint', 'acquir', 'acquisit', 'acronym', 'across', 'act', 'action', 'activ', 'activist', 'actual', 'acut', 'ad', 'adam', 'adapt', 'adaptec', 'adaptor', 'adb', 'adc', 'adcom', 'add', 'addict', 'addit', 'addr', 'address', 'adequ', 'adher', 'adirondack', 'adjac', 'adject', 'adjust', 'adl', 'admin', 'administ', 'administr', 'admir', 'admiss', 'admit', 'admittedli', 'adob', 'adolesc', 'adolf', 'adopt', 'adress', 'adrian', 'adult', 'advanc', 'advantag', 'adventist', 'adventur', 'advers', 'advertis', 'advic', 'advis', 'advisor', 'advisori', 'advoc', 'advocaci', 'ae', 'aerial', 'aerodynam', 'aeronaut', 'aerospac', 'aesthet', 'af', 'afair', 'affair', 'affect', 'affili', 'affirm', 'afflict', 'afford', 'afifi', 'aforement', 'afraid', 'africa', 'african', 'after', 'afteral', 'aftermarket', 'afternoon', 'afterward', 'ag', 'again', 'against', 'agdam', 'age', 'agenc', 'agenda', 'agent', 'aggrav', 'aggress', 'agn', 'agnost', 'ago', 'agoni', 'agre', 'agreement', 'agress', 'agricultur', 'ah', 'ahead', 'ahem', 'ahh', 'ahl', 'ahm', 'ahold', 'ahv', 'ai', 'aiaa', 'aid', 'aiken', 'aim', 'aint', 'air', 'airbag', 'aircraft', 'airlin', 'airplan', 'airport', 'aix', 'aj', 'ak', 'aka', 'akin', 'al', 'ala', 'alabama', 'alamo', 'alan', 'alarm', 'alaska', 'albani', 'albeit', 'albert', 'alberta', 'albican', 'album', 'albuquerqu', 'alcohol', 'ale', 'alert', 'alex', 'alexand', 'alfa', 'algorithm', 'algorythm', 'ali', 'alia', 'alias', 'alic', 'alicea', 'alien', 'align', 'alik', 'alink', 'aliv', 'all', 'allah', 'allan', 'alleg', 'allegedli', 'allegheni', 'allen', 'allerg', 'allergi', 'allevi', 'alley', 'alli', 'allianc', 'alloc', 'allow', 'allud', 'almanac', 'almighti', 'almost', 'alomar', 'alon', 'along', 'alot', 'alpha', 'alphabet', 'alreadi', 'alright', 'also', 'alt', 'altar', 'alter', 'altern', 'although', 'altitud', 'alto', 'altogeth', 'aluminum', 'alung', 'alvin', 'alway', 'am', 'ama', 'amanda', 'amateur', 'amaz', 'amazingli', 'ambassador', 'ambigu', 'ambit', 'ambiti', 'ambul', 'amd', 'ame', 'amehdi', 'amen', 'amend', 'america', 'american', 'amherst', 'ami', 'amiga', 'amin', 'amino', 'amir', 'ammend', 'ammo', 'ammunit', 'amnesti', 'amolitor', 'among', 'amongst', 'amount', 'amp', 'ampl', 'amplifi', 'amsterdam', 'amus', 'an', 'ana', 'analog', 'analys', 'analysi', 'analyst', 'analyt', 'analyz', 'anarchi', 'anarchist', 'anatolia', 'ancestor', 'ancestri', 'ancient', 'and', 'anderson', 'andersson', 'andi', 'andr', 'andrea', 'andrew', 'andreychuk', 'andtbacka', 'anecdot', 'angel', 'angelino', 'angelo', 'anger', 'angl', 'angri', 'ani', 'anim', 'ankara', 'ann', 'anna', 'annal', 'annex', 'annihil', 'anniversari', 'announc', 'annoy', 'annual', 'anon', 'anonym', 'anoth', 'ansi', 'answer', 'ant', 'antenna', 'anthoni', 'antibiot', 'anticip', 'antiqu', 'anton', 'antonio', 'anwar', 'anxiou', 'anybodi', 'anyhow', 'anymor', 'anyon', 'anyth', 'anytim', 'anyway', 'anywher', 'aol', 'ap', 'apart', 'api', 'apollo', 'apolog', 'apologist', 'apostl', 'app', 'appal', 'appar', 'apparantli', 'appeal', 'appear', 'appeas', 'append', 'appl', 'applaud', 'applaus', 'applelink', 'appletalk', 'appli', 'applic', 'appoint', 'appreci', 'appressian', 'approach', 'appropri', 'approv', 'approx', 'approxim', 'apr', 'april', 'apt', 'aquina', 'ar', 'arab', 'arabia', 'arafat', 'arbitrari', 'arbitrarili', 'arbor', 'arc', 'arcad', 'archer', 'archi', 'architect', 'architectur', 'archiv', 'are', 'area', 'aren', 'arena', 'arf', 'arg', 'argc', 'argic', 'argu', 'arguabl', 'arguement', 'argument', 'argv', 'ari', 'arian', 'aris', 'aristid', 'arithmet', 'arizona', 'arkansa', 'arlington', 'arm', 'armenia', 'armenian', 'armi', 'armor', 'armori', 'armstrong', 'arnold', 'around', 'arpa', 'arra', 'arrang', 'array', 'arrest', 'arriv', 'arrog', 'arromde', 'arrow', 'arsen', 'art', 'arthur', 'artic', 'articl', 'articul', 'artifact', 'artifici', 'artilleri', 'artist', 'artwork', 'aryan', 'as', 'asap', 'asbesto', 'ascend', 'ascens', 'ascii', 'ash', 'asham', 'ashley', 'asia', 'asian', 'asid', 'ask', 'asleep', 'asp', 'aspect', 'asphalt', 'aspir', 'ass', 'assail', 'assassin', 'assault', 'assembl', 'assert', 'assess', 'asset', 'asshol', 'assign', 'assimil', 'assist', 'associ', 'assort', 'assum', 'assumpt', 'assur', 'astein', 'asteroid', 'astonish', 'astor', 'astray', 'astro', 'astronaut', 'astronom', 'astronomi', 'astrophys', 'asynchron', 'at', 'ata', 'atari', 'atf', 'atheism', 'atheist', 'athen', 'athena', 'athlet', 'ati', 'atkin', 'atla', 'atlant', 'atlanta', 'atleast', 'atm', 'atmospher', 'atom', 'aton', 'atroc', 'att', 'attach', 'attack', 'attain', 'attempt', 'attend', 'attende', 'attent', 'atterlep', 'attest', 'attitud', 'attorney', 'attract', 'attribut', 'au', 'auction', 'aucun', 'audi', 'audienc', 'audio', 'aug', 'augment', 'august', 'augustin', 'aura', 'austin', 'australia', 'australian', 'austria', 'authent', 'author', 'authorit', 'authoritarian', 'authur', 'auto', 'autocad', 'autom', 'automat', 'automobil', 'automot', 'autonomi', 'autr', 'autumn', 'av', 'avail', 'ave', 'aveng', 'avenu', 'averag', 'avg', 'aviat', 'aviv', 'avoid', 'aw', 'await', 'awar', 'award', 'away', 'awd', 'awesom', 'aweto', 'awhil', 'ax', 'axe', 'axelsson', 'axi', 'az', 'azerbaijan', 'azerbaijani', 'azeri', 'azw', 'ba', 'baalk', 'babak', 'babb', 'babe', 'babi', 'babylon', 'bach', 'back', 'backcountri', 'backdoor', 'background', 'backon', 'backup', 'backward', 'bacteri', 'bacteria', 'bad', 'badg', 'badli', 'baerga', 'baffl', 'bag', 'bailey', 'bait', 'bake', 'baker', 'baku', 'balanc', 'baldwin', 'ball', 'ballentin', 'ballist', 'balloon', 'ballot', 'baltimor', 'ban', 'band', 'bandit', 'bandwidth', 'bang', 'bank', 'bankrupt', 'banner', 'baptism', 'baptist', 'baptiz', 'bar', 'barbar', 'barbara', 'barbecu', 'barber', 'bare', 'bargain', 'bark', 'barlow', 'barn', 'baron', 'barrasso', 'barrel', 'barrett', 'barri', 'barrier', 'baru', 'base', 'basebal', 'baseman', 'basement', 'bash', 'basi', 'basic', 'basil', 'basketbal', 'bass', 'bastard', 'bat', 'batch', 'bate', 'batf', 'bath', 'bathroom', 'batman', 'battalion', 'batter', 'batteri', 'battl', 'battlefield', 'baud', 'bay', 'baylor', 'bayonet', 'bb', 'bbc', 'bc', 'bclark', 'bd', 'bdi', 'bdira', 'be', 'beach', 'beacon', 'beal', 'beam', 'bean', 'bear', 'beast', 'beastmast', 'beat', 'beauchain', 'beauti', 'beaverton', 'becaus', 'beck', 'beckman', 'becom', 'becuas', 'bed', 'bedford', 'bedroom', 'bee', 'beef', 'beemer', 'been', 'beep', 'beer', 'befor', 'beforehand', 'beg', 'begin', 'beginn', 'behalf', 'behanna', 'behav', 'behavior', 'behaviour', 'behind', 'behold', 'bei', 'beirut', 'bel', 'beleiv', 'belfour', 'belgium', 'belief', 'believ', 'beliv', 'bell', 'bellcor', 'belli', 'bellovin', 'bellow', 'belong', 'belov', 'below', 'belt', 'beltway', 'ben', 'bench', 'benchmark', 'bend', 'benedikt', 'benefici', 'benefit', 'benevol', 'benign', 'benjamin', 'bennett', 'benson', 'beranek', 'beretta', 'berg', 'berkeley', 'berlin', 'bernard', 'bernoulli', 'bernstein', 'berri', 'berryhil', 'bertrand', 'besid', 'best', 'bet', 'beta', 'beth', 'bethesda', 'betray', 'better', 'between', 'betz', 'beverag', 'beverli', 'bewar', 'beyer', 'beyond', 'bezier', 'bg', 'bgardner', 'bgrubb', 'bh', 'bi', 'bia', 'bibl', 'biblic', 'bibliographi', 'bicycl', 'bid', 'big', 'bigger', 'biggest', 'bigot', 'bigotri', 'bike', 'biker', 'bil', 'bill', 'billboard', 'billi', 'billion', 'bin', 'binari', 'bind', 'bingo', 'bio', 'biochemistri', 'biolog', 'bird', 'birmingham', 'birth', 'birthday', 'bisexu', 'bishop', 'bissda', 'bissel', 'bit', 'bitch', 'bite', 'bitmap', 'bitnet', 'bitter', 'bizarr', 'bj', 'bk', 'bl', 'black', 'blackhawk', 'blacksburg', 'blackshaw', 'blade', 'blah', 'blain', 'blame', 'blank', 'blanket', 'blast', 'blaster', 'blatant', 'blatantli', 'blaze', 'blazer', 'bldg', 'bleed', 'bless', 'blh', 'blind', 'blindli', 'blink', 'blip', 'bliss', 'block', 'blood', 'bloodi', 'bloom', 'blow', 'blue', 'blur', 'blurb', 'blvd', 'bm', 'bmp', 'bmw', 'bmwmoa', 'bn', 'bnc', 'bnr', 'bo', 'board', 'boast', 'boat', 'bob', 'bobb', 'bobbi', 'boca', 'bodi', 'bodili', 'boe', 'bogg', 'bogu', 'bohr', 'boil', 'bois', 'bold', 'bolero', 'bolt', 'bomb', 'bombard', 'bomber', 'bond', 'bone', 'bonner', 'bontchev', 'bonu', 'book', 'bookstor', 'boom', 'boomer', 'boon', 'boost', 'booster', 'boot', 'booth', 'borden', 'border', 'bore', 'bori', 'borland', 'born', 'borrow', 'bosco', 'bosnia', 'bosnian', 'bosox', 'boss', 'boston', 'botch', 'both', 'bother', 'bottl', 'bottleneck', 'bottom', 'boulder', 'boulevard', 'bounc', 'bound', 'boundari', 'bourqu', 'bow', 'bower', 'bowl', 'bowman', 'box', 'boy', 'boycott', 'boyl', 'bp', 'br', 'bracket', 'brad', 'brader', 'bradi', 'bradley', 'brag', 'brain', 'braindead', 'brainwash', 'brake', 'branch', 'brand', 'brandei', 'brandt', 'brass', 'braunschweig', 'brave', 'breach', 'bread', 'break', 'breakdown', 'breaker', 'breakfast', 'breakthrough', 'breakup', 'breast', 'breath', 'breed', 'brendan', 'brent', 'bressler', 'brethren', 'breton', 'brett', 'brewer', 'bri', 'brian', 'brick', 'bridg', 'brief', 'briefli', 'brigham', 'bright', 'brilliant', 'bring', 'brinich', 'bristol', 'brit', 'britain', 'british', 'broad', 'broadcast', 'broadway', 'brochur', 'brock', 'bronx', 'brook', 'brooklin', 'brother', 'broward', 'brown', 'brows', 'bruce', 'bruin', 'bruis', 'bruno', 'brunswick', 'brush', 'brutal', 'brute', 'bryan', 'bs', 'bsd', 'bskendig', 'bt', 'btw', 'bu', 'bubba', 'bubblejet', 'buck', 'bud', 'buddha', 'buddhism', 'buddhist', 'buddi', 'budget', 'buf', 'buffalo', 'buffer', 'bug', 'bugger', 'buggi', 'buick', 'build', 'builder', 'built', 'bulb', 'bulk', 'bull', 'bullet', 'bulletin', 'bulli', 'bullpen', 'bullshit', 'bum', 'bump', 'bumper', 'bunch', 'bundl', 'bunk', 'bunker', 'bunni', 'burden', 'bure', 'bureau', 'bureaucraci', 'bureaucrat', 'burger', 'buri', 'burk', 'burlington', 'burn', 'burnabi', 'burst', 'burstein', 'burster', 'burton', 'bush', 'busi', 'buss', 'bust', 'buster', 'but', 'butcher', 'butler', 'butt', 'button', 'buy', 'buyer', 'buzz', 'bv', 'bw', 'bx', 'by', 'bye', 'byler', 'bypass', 'byte', 'ca', 'cab', 'cabal', 'cabin', 'cabinet', 'cabl', 'cach', 'cad', 'caf', 'cafe', 'caffein', 'cage', 'cager', 'cain', 'cake', 'cal', 'calcul', 'calder', 'calendar', 'calgari', 'calib', 'calibr', 'calif', 'california', 'call', 'callback', 'caller', 'callison', 'calm', 'calmli', 'caltech', 'calvin', 'cam', 'camaro', 'cambodia', 'cambridg', 'camden', 'camel', 'camera', 'camp', 'campaign', 'campbel', 'campu', 'camri', 'can', 'canada', 'canadian', 'canadien', 'canal', 'canberra', 'cancel', 'cancer', 'candi', 'candid', 'candida', 'cannon', 'canon', 'canseco', 'cant', 'canterburi', 'canuck', 'canva', 'canyon', 'cap', 'capabl', 'capac', 'capacit', 'capacitor', 'cape', 'capit', 'capita', 'capitalist', 'captain', 'captur', 'car', 'caralv', 'carb', 'carbon', 'carcinogen', 'card', 'carderock', 'cardin', 'care', 'career', 'cargo', 'cari', 'carl', 'carleton', 'carlo', 'carlton', 'carnegi', 'carol', 'carolina', 'caronni', 'carpent', 'carpet', 'carr', 'carri', 'carriag', 'carrier', 'carrol', 'carson', 'cart', 'carter', 'cartridg', 'carv', 'casar', 'case', 'casey', 'cash', 'casper', 'cassel', 'cassett', 'cast', 'castl', 'castro', 'casual', 'casualti', 'cat', 'catalog', 'catbyt', 'catch', 'catcher', 'categor', 'categori', 'caterpillar', 'cathol', 'cattl', 'caucasian', 'caucasu', 'caus', 'caution', 'cautiou', 'caveat', 'cb', 'cbc', 'cbr', 'cc', 'ccd', 'ccw', 'cd', 'cdc', 'cdrom', 'cdt', 'ce', 'ceas', 'ceccarelli', 'ceil', 'celebr', 'celesti', 'cell', 'cellar', 'cellular', 'censor', 'censorship', 'censu', 'cent', 'centaur', 'center', 'centerlin', 'centr', 'central', 'centri', 'centron', 'centuri', 'ceo', 'cereal', 'ceremoni', 'cern', 'certain', 'certainli', 'certainti', 'certif', 'certifi', 'ceux', 'cf', 'cfb', 'cg', 'cga', 'ch', 'chain', 'chair', 'chairman', 'challeng', 'chamber', 'champ', 'champion', 'championship', 'chan', 'chanc', 'chang', 'channel', 'chant', 'chao', 'chap', 'chapel', 'chapman', 'chapter', 'char', 'charact', 'character', 'characterist', 'charg', 'charger', 'chariti', 'charl', 'charley', 'charli', 'charlottesvil', 'charm', 'chart', 'charter', 'chase', 'chassi', 'chastiti', 'chat', 'chatham', 'cheap', 'cheaper', 'cheapest', 'cheapli', 'cheat', 'check', 'checker', 'cheek', 'cheer', 'chees', 'chelio', 'chelmsford', 'chemic', 'chemist', 'chemistri', 'chen', 'cherri', 'chest', 'chevi', 'chevron', 'chew', 'chhabra', 'chi', 'chicago', 'chicken', 'chief', 'child', 'childhood', 'childish', 'children', 'chill', 'chin', 'china', 'chines', 'chintan', 'chip', 'chipset', 'chiu', 'chocol', 'choic', 'choke', 'choos', 'chop', 'chord', 'choru', 'chri', 'christ', 'christi', 'christian', 'christma', 'christoph', 'chrome', 'chronic', 'chronicl', 'chrysler', 'chuck', 'chuckl', 'chunk', 'church', 'churchil', 'ci', 'cia', 'cica', 'cigarett', 'cincinnati', 'cipher', 'ciphertext', 'cipriani', 'circa', 'circl', 'circuit', 'circuitri', 'circul', 'circular', 'circumcis', 'circumfer', 'circumst', 'cirru', 'cisc', 'citat', 'cite', 'citi', 'citizen', 'citizenship', 'civic', 'civil', 'civilian', 'cjackson', 'ckinci', 'cl', 'claim', 'clair', 'clamp', 'clara', 'claremont', 'clarif', 'clarifi', 'clarinet', 'clariti', 'clark', 'clarkson', 'clash', 'class', 'classi', 'classic', 'classif', 'classifi', 'classroom', 'claud', 'claudio', 'claus', 'claw', 'clay', 'clayton', 'clean', 'cleaner', 'cleans', 'clear', 'clearanc', 'clearer', 'clearli', 'clemen', 'clement', 'clemson', 'cleveland', 'clever', 'clh', 'click', 'client', 'cliff', 'climat', 'climb', 'clinic', 'clinton', 'clip', 'clipper', 'clive', 'cloak', 'clock', 'clockwis', 'clone', 'close', 'closer', 'closest', 'closet', 'closur', 'cloth', 'cloud', 'clown', 'club', 'clue', 'clueless', 'cluster', 'clutch', 'clyde', 'cm', 'cmk', 'cmo', 'cmu', 'cnn', 'co', 'coach', 'coal', 'coalit', 'coast', 'coat', 'coax', 'cobb', 'cobra', 'cocain', 'cochran', 'cock', 'cod', 'code', 'codec', 'codifi', 'coerc', 'coercion', 'coexist', 'coffe', 'coffey', 'coffman', 'cognit', 'cohen', 'coher', 'coil', 'coin', 'coincid', 'coincident', 'col', 'cold', 'cole', 'coleman', 'colin', 'collabor', 'collaps', 'colleagu', 'collect', 'collector', 'colleg', 'collid', 'collin', 'collingridg', 'collis', 'colon', 'colonel', 'coloni', 'color', 'colorado', 'colormap', 'colour', 'colt', 'columbia', 'columbu', 'column', 'com', 'comatos', 'comb', 'combat', 'combin', 'combo', 'combust', 'come', 'comeback', 'comedi', 'comet', 'comfort', 'comic', 'comm', 'command', 'commemor', 'commenc', 'comment', 'commentari', 'commer', 'commerc', 'commerci', 'commi', 'commiss', 'commission', 'commit', 'committe', 'commodor', 'common', 'commonli', 'commonwealth', 'commun', 'communion', 'communist', 'commut', 'comp', 'compact', 'compani', 'companion', 'compaq', 'compar', 'comparison', 'compart', 'compass', 'compat', 'compel', 'compens', 'compet', 'competit', 'competitor', 'compil', 'complain', 'complaint', 'complet', 'complex', 'compli', 'complianc', 'complic', 'compliment', 'compon', 'compos', 'composit', 'compound', 'comprehend', 'comprehens', 'compress', 'compressor', 'compris', 'compromis', 'compton', 'compuls', 'compuserv', 'comput', 'con', 'concaten', 'conceal', 'conced', 'conceiv', 'concentr', 'concept', 'conceptu', 'concern', 'concert', 'concess', 'concis', 'conclud', 'conclus', 'concord', 'concordia', 'concour', 'concret', 'concur', 'concurr', 'concuss', 'condemn', 'condens', 'condit', 'conditt', 'condon', 'conduct', 'conductor', 'cone', 'conf', 'confer', 'confess', 'confid', 'confidenti', 'config', 'configur', 'confin', 'confirm', 'confisc', 'conflict', 'conform', 'confront', 'confus', 'congeni', 'congratul', 'congreg', 'congress', 'congression', 'conjoin', 'conjunct', 'connect', 'connecticut', 'connector', 'conner', 'connor', 'conquer', 'conquest', 'conscienc', 'consciou', 'conscious', 'consecut', 'consensu', 'consent', 'consequ', 'conserv', 'consid', 'consider', 'consist', 'consol', 'consolid', 'consortium', 'conspiraci', 'constant', 'constantli', 'constitu', 'constitut', 'constrain', 'constraint', 'constru', 'construct', 'consult', 'consum', 'consumpt', 'cont', 'contact', 'contain', 'contamin', 'contempl', 'contemporari', 'contempt', 'contend', 'content', 'contest', 'context', 'contin', 'continent', 'conting', 'continu', 'contour', 'contract', 'contractor', 'contradict', 'contradictori', 'contrari', 'contrast', 'contrib', 'contribut', 'contributor', 'control', 'controversi', 'conven', 'conveni', 'convent', 'convers', 'convert', 'convex', 'convey', 'convict', 'convinc', 'cook', 'cookamunga', 'cooki', 'cookson', 'cool', 'cooper', 'coordin', 'cop', 'cope', 'copenhagen', 'copi', 'copper', 'coprocessor', 'copyright', 'cor', 'cord', 'cordial', 'cordless', 'core', 'corel', 'coreldraw', 'corinthian', 'corn', 'cornel', 'corner', 'corolla', 'corp', 'corpor', 'corps', 'corpu', 'corrado', 'correct', 'correctli', 'correl', 'correspond', 'corrupt', 'corval', 'corvett', 'cosmic', 'cosmo', 'cost', 'costa', 'costli', 'could', 'council', 'counsel', 'count', 'counter', 'counterpart', 'counterst', 'counti', 'countless', 'countri', 'coup', 'coupl', 'courag', 'courier', 'cours', 'court', 'courtesi', 'courtnal', 'cousin', 'cousineau', 'coven', 'coventri', 'cover', 'coverag', 'covert', 'covington', 'cow', 'coward', 'cowboy', 'cox', 'cp', 'cpr', 'cpsr', 'cpu', 'cr', 'crack', 'cracker', 'cradl', 'craft', 'craig', 'cramer', 'crank', 'crap', 'crari', 'crash', 'craven', 'crawl', 'cray', 'crazi', 'cream', 'creat', 'creation', 'creationist', 'creativ', 'creator', 'creatur', 'credenc', 'credibl', 'credit', 'creed', 'creep', 'crew', 'cri', 'crime', 'crimin', 'crippl', 'crisi', 'crisp', 'criteria', 'criterion', 'critic', 'critiqu', 'crohn', 'croir', 'croni', 'crook', 'crop', 'cross', 'crosspost', 'crow', 'crowd', 'crowley', 'crown', 'crt', 'cruce', 'crucial', 'crucifi', 'crucifixion', 'crude', 'cruel', 'cruelti', 'cruis', 'cruiser', 'crunch', 'cruncher', 'crusad', 'crush', 'cruz', 'crypt', 'cryptanalysi', 'crypto', 'cryptograph', 'cryptographi', 'cryptolog', 'cryptosystem', 'crystal', 'cs', 'csc', 'csh', 'csiro', 'ct', 'ctr', 'ctrl', 'cu', 'cub', 'cube', 'cubic', 'cullen', 'culmin', 'cult', 'cultist', 'cultur', 'cum', 'cunningham', 'cup', 'cupertino', 'curcio', 'cure', 'curios', 'curiou', 'curious', 'currenc', 'current', 'curs', 'cursor', 'curt', 'curtain', 'curti', 'curv', 'custodi', 'custom', 'cut', 'cute', 'cutoff', 'cv', 'cview', 'cw', 'cwru', 'cx', 'cy', 'cyberspac', 'cycl', 'cyclon', 'cylind', 'cynic', 'cypress', 'cypru', 'cyrix', 'czech', 'da', 'dad', 'daddi', 'daemon', 'dahlen', 'daigl', 'daili', 'daker', 'dakota', 'dale', 'dalhousi', 'dalla', 'damag', 'dame', 'dammit', 'damn', 'damnat', 'damphouss', 'dan', 'dana', 'danc', 'dane', 'dang', 'danger', 'daniel', 'danni', 'dare', 'daric', 'dariu', 'dark', 'darken', 'darker', 'darkman', 'darn', 'darrel', 'darren', 'darryl', 'dartmouth', 'daryl', 'dash', 'dat', 'data', 'databas', 'date', 'daughter', 'dave', 'davet', 'davi', 'david', 'davidian', 'davidson', 'davidsson', 'dawn', 'dawson', 'day', 'daylight', 'daytim', 'dayton', 'db', 'dbd', 'dbernard', 'dc', 'dcd', 'dchhabra', 'dcr', 'dcx', 'dd', 'dduff', 'de', 'dead', 'deadli', 'deadlin', 'deal', 'dealer', 'dealership', 'dean', 'dear', 'death', 'debat', 'debri', 'debt', 'debug', 'debugg', 'debunk', 'dec', 'decad', 'decay', 'deceit', 'deceiv', 'decemb', 'decenso', 'decent', 'decept', 'decid', 'decim', 'deciph', 'decis', 'deck', 'declar', 'declin', 'decnet', 'decod', 'decor', 'decre', 'decreas', 'decrypt', 'decstat', 'decvax', 'dedic', 'deduc', 'deduct', 'deed', 'deem', 'deep', 'deepak', 'deeper', 'deepli', 'deer', 'default', 'defeat', 'defect', 'defenc', 'defend', 'defens', 'defenseless', 'defenseman', 'defensemen', 'defi', 'defici', 'deficit', 'defin', 'definit', 'deforest', 'degener', 'degrad', 'degre', 'dehydr', 'deir', 'deiti', 'del', 'delawar', 'delay', 'deleg', 'delet', 'deliber', 'delic', 'delight', 'deliv', 'deliveri', 'dell', 'delta', 'delus', 'delux', 'demand', 'demer', 'demo', 'democraci', 'democrat', 'demograph', 'demolish', 'demon', 'demonstr', 'den', 'deni', 'denial', 'denmark', 'denni', 'denomin', 'denot', 'denounc', 'dens', 'densiti', 'dent', 'denver', 'depart', 'depend', 'deplor', 'deploy', 'deport', 'deposit', 'depress', 'depriv', 'dept', 'depth', 'deputi', 'der', 'derbi', 'derek', 'deriv', 'descend', 'descent', 'describ', 'descript', 'desert', 'deserv', 'design', 'desir', 'desk', 'deskjet', 'desktop', 'desonia', 'despair', 'desper', 'despis', 'despit', 'destin', 'destroy', 'destruct', 'det', 'detach', 'detail', 'detect', 'detector', 'deter', 'deterior', 'determin', 'deterr', 'deton', 'detriment', 'detroit', 'deuterium', 'deuteronomi', 'dev', 'devast', 'develop', 'deviat', 'devic', 'devil', 'devis', 'devoid', 'devot', 'devout', 'dh', 'di', 'diabet', 'diagnos', 'diagnosi', 'diagnost', 'diagram', 'dial', 'dialog', 'dialogu', 'diamet', 'diamond', 'diari', 'dice', 'dick', 'dictat', 'dictatorship', 'dictionari', 'did', 'didnt', 'die', 'diego', 'diet', 'dietari', 'dietz', 'diff', 'differ', 'differenti', 'difficult', 'difficulti', 'diffus', 'dig', 'digest', 'digit', 'digniti', 'digress', 'dilemma', 'dillon', 'dilut', 'dim', 'dime', 'dimens', 'dimension', 'diminish', 'din', 'dineen', 'ding', 'dinner', 'diod', 'dip', 'diplomaci', 'diplomat', 'dippold', 'dir', 'dire', 'direct', 'directli', 'director', 'directori', 'dirt', 'dirti', 'disabl', 'disadvantag', 'disagr', 'disagre', 'disappear', 'disappoint', 'disapprov', 'disarm', 'disassembl', 'disast', 'disbelief', 'disbeliev', 'disc', 'discard', 'discern', 'discharg', 'discipl', 'disciplin', 'disclaim', 'disclos', 'disclosur', 'discomfort', 'disconnect', 'discontinu', 'discount', 'discourag', 'discours', 'discov', 'discoveri', 'discredit', 'discrep', 'discret', 'discrimin', 'discus', 'discuss', 'diseas', 'disguis', 'disgust', 'dish', 'dishonest', 'disinform', 'disk', 'diskett', 'dislik', 'dismantl', 'dismiss', 'disobedi', 'disobey', 'disord', 'disorgan', 'dispens', 'dispers', 'displac', 'display', 'dispos', 'disproportion', 'disprov', 'disput', 'disregard', 'disrupt', 'dissemin', 'dissid', 'dissolv', 'dist', 'distanc', 'distant', 'distinct', 'distinctli', 'distinguish', 'distort', 'distract', 'distress', 'distribut', 'distributor', 'district', 'disturb', 'dither', 'ditto', 'div', 'dive', 'diverg', 'divers', 'divert', 'divid', 'dividian', 'divin', 'divis', 'divorc', 'dixon', 'dizzi', 'dj', 'dl', 'dlecoint', 'dm', 'dma', 'dmm', 'dn', 'dna', 'do', 'dobb', 'doc', 'dock', 'doctor', 'doctrin', 'document', 'documentari', 'dod', 'dodg', 'dodger', 'doe', 'doesnt', 'dog', 'dogma', 'dogmat', 'doh', 'dollar', 'dolphin', 'domain', 'dome', 'domest', 'domi', 'domin', 'dominion', 'domino', 'don', 'donald', 'donat', 'donb', 'donna', 'donnelli', 'dont', 'doom', 'door', 'doorstep', 'doright', 'dorin', 'dorothi', 'dorsey', 'dortmund', 'dosag', 'dose', 'dot', 'doubl', 'doubt', 'doubter', 'doug', 'dougb', 'dougla', 'down', 'downey', 'download', 'downtown', 'downward', 'dozen', 'dp', 'dpi', 'dr', 'draft', 'drag', 'dragon', 'drain', 'drake', 'dram', 'dramat', 'drastic', 'draw', 'drawback', 'drawer', 'dread', 'dream', 'dresden', 'dress', 'drew', 'dri', 'drift', 'drill', 'drink', 'drive', 'drivel', 'driver', 'driveway', 'dro', 'droopi', 'drop', 'drown', 'drug', 'drum', 'drunken', 'dryden', 'ds', 'dsg', 'dsp', 'dtmedin', 'du', 'dual', 'duan', 'dubiou', 'dublin', 'duc', 'ducati', 'duck', 'dude', 'due', 'duff', 'duh', 'duke', 'dull', 'dumb', 'dumbest', 'dump', 'duncan', 'dunn', 'dunno', 'duo', 'dupe', 'duplic', 'durat', 'dure', 'durham', 'dust', 'dutch', 'duti', 'dwarf', 'dwarner', 'dwell', 'dwi', 'dwight', 'dx', 'dy', 'dye', 'dyer', 'dykstra', 'dynam', 'dynasti', 'dyoung', 'ea', 'each', 'eager', 'eagerli', 'eagl', 'ear', 'earl', 'earli', 'earlier', 'earliest', 'earn', 'earth', 'earthli', 'eas', 'easi', 'easier', 'easiest', 'easili', 'east', 'easter', 'eastern', 'eat', 'eau', 'eavesdrop', 'eb', 'ebosco', 'ebrandt', 'ebright', 'ec', 'eccentr', 'ecclesiast', 'echo', 'eclips', 'econom', 'economi', 'ed', 'eddi', 'eden', 'edg', 'edgar', 'edinburgh', 'edit', 'editor', 'editori', 'edm', 'edmonton', 'edt', 'educ', 'edward', 'ee', 'eec', 'eff', 'effect', 'effici', 'effort', 'eg', 'ega', 'egg', 'ego', 'egreen', 'egypt', 'egyptian', 'eh', 'ehrlich', 'eight', 'eighth', 'eighti', 'eindhoven', 'einstein', 'einstien', 'eisa', 'either', 'eject', 'eklund', 'el', 'elabor', 'elbow', 'elder', 'elderli', 'elec', 'elect', 'electr', 'electrolyt', 'electromagnet', 'electron', 'elektronen', 'element', 'elementari', 'eleph', 'elev', 'eleven', 'eli', 'elia', 'elig', 'elimin', 'eliot', 'elit', 'elizabeth', 'ella', 'elli', 'elliot', 'ellison', 'elm', 'eloqu', 'els', 'elsewher', 'elvi', 'em', 'emac', 'email', 'emb', 'embarass', 'embargo', 'embarrass', 'embassi', 'embrac', 'emerg', 'emerson', 'emin', 'emiss', 'emit', 'emori', 'emot', 'emphas', 'emphasi', 'empir', 'employ', 'employe', 'empti', 'emul', 'en', 'enabl', 'enact', 'encapsul', 'enclav', 'enclos', 'encod', 'encompass', 'encor', 'encount', 'encourag', 'encrypt', 'encyclopedia', 'end', 'endang', 'endeavor', 'endeavour', 'endif', 'endless', 'endors', 'endow', 'endur', 'enemi', 'energi', 'enforc', 'eng', 'engag', 'engin', 'england', 'english', 'englishman', 'enhanc', 'enjoy', 'enlarg', 'enlighten', 'enorm', 'enough', 'enquiri', 'enrich', 'ensu', 'ensur', 'entail', 'enter', 'enterpris', 'entertain', 'enthusiast', 'entir', 'entireti', 'entiti', 'entitl', 'entranc', 'entri', 'entropi', 'envelop', 'envi', 'environ', 'environment', 'envis', 'enzo', 'enzym', 'eo', 'ep', 'epa', 'ephesian', 'epidem', 'episod', 'epistl', 'epson', 'eq', 'equal', 'equat', 'equip', 'equival', 'er', 'era', 'eras', 'erect', 'ergo', 'ergonom', 'eric', 'erickson', 'ericsson', 'erik', 'erl', 'erni', 'eros', 'err', 'erron', 'error', 'erzurum', 'es', 'esa', 'esc', 'escal', 'escap', 'escort', 'escrow', 'esdi', 'eshneken', 'esin', 'esoter', 'esp', 'especi', 'espionag', 'espn', 'espous', 'essay', 'essenc', 'essensa', 'essenti', 'est', 'establish', 'estat', 'esteem', 'estim', 'et', 'etc', 'etern', 'ethan', 'ether', 'ethernet', 'ethic', 'ethnic', 'etxonss', 'etymolog', 'eu', 'eugen', 'euro', 'europ', 'european', 'evacu', 'evad', 'evalu', 'evan', 'evangel', 'evangelist', 'evanston', 'evas', 'eve', 'evelyn', 'even', 'event', 'eventu', 'ever', 'everett', 'everi', 'everybodi', 'everyday', 'everyon', 'everyth', 'everytim', 'everywher', 'evid', 'evil', 'evolut', 'evolutionari', 'evolv', 'ex', 'exact', 'exactli', 'exagger', 'exam', 'examin', 'exampl', 'exceed', 'excel', 'except', 'excerpt', 'excess', 'exchang', 'excit', 'exclud', 'exclus', 'excus', 'exec', 'execut', 'exempt', 'exercis', 'exhaust', 'exhibit', 'exist', 'exit', 'exodu', 'exot', 'exp', 'expand', 'expans', 'expect', 'expedit', 'expel', 'expend', 'expenditur', 'expens', 'experi', 'experiment', 'expert', 'expertis', 'expir', 'explain', 'explan', 'explicit', 'explicitli', 'explod', 'exploit', 'explor', 'explos', 'expo', 'export', 'expos', 'exposur', 'expound', 'express', 'expressli', 'expuls', 'ext', 'extend', 'extens', 'extent', 'exterior', 'extermin', 'extern', 'extinguish', 'extort', 'extra', 'extract', 'extraordinari', 'extrapol', 'extrem', 'extremist', 'eye', 'eyewit', 'faa', 'fabric', 'face', 'fachbereich', 'facil', 'facilit', 'fact', 'faction', 'facto', 'factor', 'factori', 'factual', 'faculti', 'fade', 'fahrenheit', 'fail', 'failur', 'faint', 'fair', 'fairbank', 'fairli', 'fait', 'faith', 'fake', 'fall', 'fallaci', 'fals', 'falsehood', 'fame', 'famili', 'familiar', 'famou', 'fan', 'fanat', 'fanci', 'fantasi', 'fantast', 'faq', 'far', 'fare', 'farenebt', 'farley', 'farm', 'farmer', 'farther', 'fascin', 'fascism', 'fascist', 'fashion', 'fast', 'faster', 'fastest', 'fat', 'fatal', 'fate', 'father', 'fatigu', 'fatwa', 'fault', 'faulti', 'favor', 'favorit', 'favour', 'favourit', 'fax', 'fbi', 'fbihh', 'fc', 'fcc', 'fcrari', 'fd', 'fda', 'fe', 'fear', 'feasibl', 'feast', 'feat', 'featur', 'feb', 'februari', 'fed', 'feder', 'federalist', 'fedorov', 'fee', 'feed', 'feedback', 'feel', 'feet', 'feigenbaum', 'felix', 'fell', 'fellow', 'fellowship', 'felon', 'feloni', 'felt', 'fema', 'femal', 'feminist', 'fenc', 'fender', 'ferment', 'fermi', 'fermilab', 'fertil', 'festiv', 'fetch', 'feustel', 'fever', 'few', 'fewer', 'ff', 'fg', 'fi', 'fiber', 'fiction', 'fiddl', 'fide', 'fido', 'fidonet', 'field', 'fielder', 'fierkelab', 'fifteen', 'fifth', 'fifti', 'fight', 'fighter', 'figur', 'file', 'filenam', 'fill', 'film', 'filter', 'fin', 'final', 'financ', 'financi', 'find', 'fine', 'finger', 'finish', 'finit', 'finland', 'finney', 'finnish', 'fire', 'firearm', 'firepow', 'firm', 'firmli', 'firmwar', 'first', 'firstclass', 'firstli', 'fiscal', 'fischer', 'fish', 'fisher', 'fission', 'fist', 'fit', 'five', 'fix', 'fixat', 'fj', 'fl', 'flag', 'flame', 'flash', 'flashlight', 'flat', 'flatten', 'flavor', 'flaw', 'flee', 'fleet', 'flesh', 'fletcher', 'flex', 'flexibl', 'fli', 'flicker', 'flight', 'flint', 'flip', 'float', 'flock', 'flood', 'floor', 'floppi', 'florida', 'flourish', 'flow', 'flower', 'floyd', 'fluctuat', 'fluid', 'fluke', 'fluoresc', 'flush', 'flybi', 'flyer', 'fm', 'fo', 'foam', 'foard', 'focu', 'fodder', 'foe', 'fog', 'foil', 'foke', 'fold', 'folk', 'folli', 'follow', 'followup', 'font', 'foo', 'food', 'fool', 'foolish', 'foot', 'footag', 'footbal', 'footnot', 'for', 'forb', 'forbid', 'forc', 'forcibl', 'ford', 'forecast', 'foreground', 'foreign', 'foremost', 'forest', 'forev', 'forfeitur', 'forg', 'forget', 'forgiv', 'fork', 'form', 'formal', 'format', 'former', 'formerli', 'formul', 'formula', 'forrest', 'forsal', 'forsberg', 'fort', 'forth', 'forti', 'fortran', 'fortun', 'forum', 'forward', 'fossil', 'foster', 'foul', 'found', 'foundat', 'founder', 'four', 'fourth', 'fox', 'fp', 'fpu', 'fr', 'fractal', 'fraction', 'fraer', 'fragil', 'fragment', 'frame', 'framework', 'franc', 'franchis', 'franci', 'francisco', 'frank', 'frankli', 'franklin', 'frantic', 'fraser', 'fraud', 'freak', 'fred', 'frederick', 'free', 'freedom', 'freeli', 'freeman', 'freenet', 'freewar', 'freeway', 'freez', 'french', 'freq', 'frequenc', 'frequent', 'fresh', 'freshman', 'fri', 'friday', 'friedman', 'friedrich', 'friend', 'friendli', 'friendship', 'frighten', 'fring', 'fritz', 'frog', 'front', 'frontier', 'frost', 'fruit', 'frustrat', 'ft', 'ftp', 'fu', 'fuck', 'fudg', 'fuel', 'fuer', 'fuhr', 'fujitsu', 'fulfil', 'fulk', 'full', 'fuller', 'fulli', 'fun', 'function', 'fund', 'fundament', 'fundamentalist', 'funni', 'furnish', 'further', 'furthermor', 'fuse', 'fusi', 'fusion', 'fuss', 'futil', 'futur', 'fuzzi', 'fwd', 'fx', 'fxwg', 'fyi', 'ga', 'gaa', 'gabriel', 'gadget', 'gag', 'gain', 'gainey', 'gajarski', 'gal', 'galact', 'galarraga', 'galatian', 'galaxi', 'galileo', 'gallagh', 'galley', 'gallichio', 'galvan', 'game', 'gamma', 'gang', 'gap', 'garag', 'garbag', 'garden', 'gardner', 'garfiel', 'gari', 'garrett', 'garrison', 'gartner', 'gasket', 'gasolin', 'gate', 'gatech', 'gateway', 'gather', 'gaudreau', 'gaug', 'gay', 'gaza', 'gazan', 'gb', 'gballent', 'gc', 'gcc', 'gd', 'ge', 'gear', 'geb', 'gee', 'geez', 'gehrel', 'gehrig', 'gel', 'gem', 'gender', 'gene', 'gener', 'genesi', 'genet', 'geni', 'geniu', 'genius', 'genocid', 'gentil', 'gentl', 'gentleman', 'gentli', 'genuin', 'geo', 'geoff', 'geoffrey', 'geograph', 'geolog', 'geometr', 'geometri', 'geophys', 'georg', 'georgetown', 'georgia', 'gerald', 'gerard', 'gerhard', 'german', 'germani', 'germano', 'gerri', 'gestapo', 'gestur', 'get', 'gf', 'gg', 'ggrrrrrr', 'ghetto', 'ghost', 'gi', 'giant', 'gibbon', 'gibson', 'gideon', 'gif', 'gift', 'gig', 'gil', 'gilbert', 'gill', 'gilmour', 'girl', 'girlfriend', 'give', 'given', 'giz', 'gk', 'gl', 'glad', 'gladli', 'glanc', 'glang', 'glare', 'glasgow', 'glass', 'gld', 'glean', 'glen', 'glenden', 'glenn', 'glide', 'glimps', 'glitch', 'global', 'globe', 'glock', 'glori', 'glorifi', 'gloriou', 'glove', 'glow', 'glucos', 'glue', 'glutam', 'gm', 'gmt', 'gnp', 'gnu', 'go', 'goal', 'goali', 'goaltend', 'goat', 'god', 'goddamn', 'goddard', 'goddess', 'goer', 'golan', 'golchowi', 'gold', 'golden', 'golf', 'gon', 'gone', 'gonzal', 'gonzalez', 'goo', 'gooch', 'good', 'goodby', 'goodi', 'gopher', 'gordon', 'gore', 'gorman', 'gosh', 'gospel', 'got', 'gourd', 'gourmet', 'gov', 'gover', 'govern', 'government', 'governor', 'govt', 'goyal', 'gozer', 'gp', 'gq', 'gr', 'grab', 'graca', 'grace', 'grad', 'grade', 'gradi', 'gradient', 'gradual', 'graduat', 'graham', 'grain', 'grammar', 'grand', 'grandfath', 'grandmoth', 'grandpar', 'grant', 'graph', 'graphic', 'grasp', 'grass', 'grate', 'grave', 'gravit', 'graviti', 'gray', 'grayscal', 'great', 'greater', 'greatest', 'greatli', 'greec', 'greed', 'greek', 'green', 'greenbelt', 'greenberg', 'greet', 'greg', 'gregg', 'gregmeist', 'gregori', 'grenad', 'gretzki', 'grey', 'grid', 'gridlock', 'grief', 'griffith', 'grill', 'grin', 'grind', 'grip', 'gripe', 'gross', 'grossli', 'ground', 'group', 'grove', 'grow', 'growth', 'grubb', 'gs', 'gspira', 'gt', 'gtoal', 'gu', 'guarante', 'guard', 'guardian', 'guday', 'guerilla', 'guess', 'guest', 'gui', 'guid', 'guidanc', 'guidelin', 'guilt', 'guilti', 'guis', 'guitar', 'gulf', 'gum', 'gun', 'gunfir', 'gup', 'guru', 'gut', 'guy', 'guyd', 'gv', 'gw', 'gwm', 'gx', 'gxxor', 'ha', 'haa', 'haapanen', 'hab', 'habit', 'hack', 'hacker', 'had', 'haddi', 'hade', 'haggl', 'hail', 'hain', 'hair', 'hal', 'halat', 'half', 'halfway', 'halifax', 'hall', 'hallam', 'halt', 'halv', 'ham', 'hama', 'hamaza', 'hambidg', 'hamburg', 'hamdan', 'hamer', 'hamilton', 'hammer', 'hammerl', 'hamper', 'hampshir', 'hampton', 'han', 'hand', 'handbook', 'hander', 'handgun', 'handheld', 'handi', 'handl', 'handlebar', 'handler', 'handshak', 'handwrit', 'hang', 'hank', 'hannib', 'hanov', 'hansen', 'hanson', 'happen', 'happi', 'happier', 'happili', 'har', 'harass', 'harbor', 'hard', 'harddisk', 'harden', 'harder', 'hardest', 'hardli', 'hardwar', 'harley', 'harm', 'harmon', 'harmoni', 'harold', 'harper', 'harri', 'harrison', 'harsh', 'hart', 'hartford', 'hartman', 'harvard', 'harvey', 'hasan', 'hash', 'hassl', 'hast', 'hasti', 'hat', 'hatch', 'hatcher', 'hate', 'hatr', 'haul', 'hav', 'have', 'haven', 'hawaii', 'hawgood', 'hawk', 'hay', 'hazard', 'hc', 'hci', 'hd', 'hdd', 'he', 'head', 'headach', 'header', 'headlight', 'headlin', 'headphon', 'headquart', 'heal', 'heali', 'healta', 'health', 'healthi', 'heap', 'hear', 'heart', 'heat', 'heater', 'heath', 'heaven', 'heavenli', 'heavi', 'heavier', 'heavili', 'hebrew', 'heck', 'heel', 'heh', 'height', 'heinlein', 'heir', 'held', 'helen', 'helicopt', 'hell', 'hellman', 'hello', 'helmet', 'help', 'helper', 'helpless', 'helsinki', 'hen', 'henc', 'henderson', 'hendrick', 'hennessi', 'henri', 'henrik', 'her', 'hera', 'herb', 'herbert', 'hercul', 'herd', 'here', 'herebi', 'herein', 'heresi', 'heret', 'heritag', 'hernandez', 'herndon', 'hernlem', 'hero', 'heroic', 'heroin', 'herringshaw', 'hesit', 'hess', 'het', 'heterosexu', 'hewlett', 'hex', 'hextal', 'hey', 'hezbollah', 'hf', 'hi', 'hide', 'hideou', 'hierarchi', 'higgin', 'high', 'higher', 'highest', 'highland', 'highli', 'highlight', 'highway', 'hike', 'hilari', 'hill', 'hillari', 'him', 'himself', 'hing', 'hint', 'hip', 'hiram', 'hire', 'hispan', 'histor', 'histori', 'historian', 'hit', 'hite', 'hitler', 'hitter', 'hizbollah', 'hm', 'hmm', 'hmmm', 'hmmmm', 'hn', 'ho', 'hoax', 'hobb', 'hobbi', 'hobokenit', 'hoc', 'hockey', 'hofferbert', 'hog', 'hold', 'holder', 'hole', 'holi', 'holiday', 'holland', 'holli', 'hollow', 'holloway', 'hollywood', 'holm', 'holmdel', 'holocaust', 'home', 'homeland', 'homeless', 'homeopathi', 'homer', 'homerun', 'homewood', 'homework', 'homicid', 'hominem', 'homo', 'homosexu', 'honda', 'honest', 'honesti', 'honestli', 'hong', 'honk', 'honor', 'honour', 'hood', 'hook', 'hop', 'hope', 'hopkin', 'horizon', 'horizont', 'hormon', 'horn', 'hornet', 'horrend', 'horribl', 'horrifi', 'horror', 'hors', 'horsepow', 'hose', 'hospit', 'hossien', 'host', 'hostag', 'hostil', 'hot', 'hotel', 'hotlin', 'hound', 'hour', 'hous', 'household', 'housley', 'houston', 'how', 'howard', 'howdi', 'howel', 'howev', 'howl', 'howland', 'hp', 'hplab', 'hq', 'hr', 'hrivnak', 'hrudey', 'hs', 'hst', 'hsu', 'ht', 'hu', 'huang', 'hub', 'hubbl', 'hudson', 'huey', 'hug', 'huge', 'hugh', 'huh', 'hulk', 'hull', 'human', 'humanist', 'humanitarian', 'humbl', 'humili', 'humor', 'humour', 'hundr', 'hung', 'hungri', 'hunt', 'hunter', 'huntsvil', 'hurl', 'hurri', 'hurrican', 'hurt', 'husband', 'hussein', 'hut', 'hv', 'hw', 'hwang', 'hydro', 'hydrogen', 'hype', 'hypocrisi', 'hypocrit', 'hypothes', 'hypothesi', 'hypothet', 'hyster', 'hz', 'ia', 'ian', 'ibm', 'ic', 'icbm', 'ice', 'iceland', 'icon', 'id', 'ida', 'idacom', 'idaho', 'ide', 'idea', 'ideal', 'idealist', 'ident', 'identif', 'identifi', 'ideolog', 'idf', 'idiot', 'idl', 'ie', 'ieee', 'if', 'iftccu', 'ignit', 'ignor', 'ihl', 'ii', 'iici', 'iicx', 'iifx', 'iii', 'iisi', 'iivx', 'ij', 'il', 'ill', 'illeg', 'illinoi', 'illiter', 'illumin', 'illus', 'illustr', 'ilyess', 'im', 'ima', 'imag', 'imageri', 'imagewrit', 'imagin', 'imaginari', 'imak', 'imam', 'imho', 'imit', 'immacul', 'immatur', 'immedi', 'immens', 'immigr', 'immin', 'immor', 'immort', 'immun', 'imo', 'impact', 'impair', 'impeach', 'imped', 'imperfect', 'imperi', 'implement', 'impli', 'implic', 'implicit', 'implicitli', 'impliment', 'import', 'importantli', 'impos', 'imposs', 'impract', 'impress', 'imprison', 'improp', 'improv', 'impuls', 'impun', 'in', 'inabl', 'inaccur', 'inaccuraci', 'inact', 'inadequ', 'inalien', 'inappropri', 'inc', 'incap', 'incarcer', 'incarn', 'incent', 'inch', 'incid', 'incident', 'inclin', 'includ', 'inclus', 'incom', 'incompat', 'incompet', 'incomplet', 'inconsist', 'inconveni', 'incorpor', 'incorrect', 'incorrectli', 'increas', 'increasingli', 'incred', 'increment', 'incrimin', 'incur', 'inde', 'independ', 'index', 'india', 'indian', 'indiana', 'indianapoli', 'indic', 'indict', 'indigo', 'indiscrimin', 'indisput', 'indistinguish', 'individu', 'indoctrin', 'induc', 'induct', 'industri', 'ineffect', 'ineffici', 'inerr', 'inet', 'inevit', 'inexpens', 'inf', 'infal', 'infam', 'infant', 'infantil', 'infect', 'infecti', 'infer', 'inferior', 'infield', 'infiltr', 'infin', 'infinit', 'infj', 'inflam', 'inflamm', 'inflammatori', 'inflat', 'inflict', 'influenc', 'info', 'inform', 'informat', 'informatik', 'infrar', 'infrastructur', 'infring', 'ing', 'ingest', 'ingr', 'ingredi', 'inhabit', 'inhal', 'inher', 'inherit', 'inhuman', 'inimit', 'iniqu', 'init', 'initi', 'inject', 'injur', 'injuri', 'injustic', 'ink', 'inlin', 'inn', 'inner', 'inning', 'innoc', 'innov', 'input', 'inquir', 'inquiri', 'inquisit', 'insan', 'insect', 'insecur', 'insert', 'insid', 'insight', 'insignific', 'insist', 'inspect', 'inspector', 'inspir', 'inst', 'instal', 'instanc', 'instant', 'instantli', 'instead', 'instig', 'instinct', 'institut', 'instruct', 'instructor', 'instrument', 'insuffici', 'insul', 'insult', 'insur', 'insurrect', 'int', 'intact', 'intak', 'integ', 'integr', 'integra', 'intel', 'intellect', 'intellectu', 'intellig', 'intend', 'intens', 'intensifi', 'intent', 'interact', 'intercept', 'interchang', 'intercon', 'intercours', 'interest', 'interestingli', 'interfac', 'interfer', 'intergraph', 'interim', 'interior', 'interlac', 'interleav', 'intermedi', 'intermitt', 'intern', 'internet', 'interoper', 'interplanetari', 'interpret', 'interrog', 'interrupt', 'intersect', 'interst', 'interv', 'interven', 'intervent', 'interview', 'intestin', 'intifada', 'intim', 'intimid', 'into', 'intoler', 'intox', 'intrepid', 'intrest', 'intrigu', 'intrins', 'intro', 'introduc', 'introduct', 'introductori', 'intrud', 'intrus', 'intuit', 'invad', 'invalid', 'invari', 'invas', 'invent', 'inventor', 'invers', 'invert', 'invest', 'investig', 'investor', 'invis', 'invit', 'invok', 'involv', 'io', 'iowa', 'ip', 'ipc', 'ipser', 'ipx', 'iq', 'ir', 'ira', 'iran', 'iranian', 'iraq', 'iraqi', 'ireland', 'iri', 'irish', 'iron', 'ironi', 'irq', 'irrat', 'irregular', 'irrelev', 'irrespons', 'irrit', 'irv', 'irvin', 'is', 'isa', 'isaac', 'isaiah', 'isbn', 'isdn', 'isi', 'isl', 'islam', 'island', 'isol', 'isra', 'israel', 'israelit', 'isreal', 'issu', 'ist', 'istanbul', 'isu', 'it', 'itali', 'italian', 'itchi', 'item', 'iter', 'ithaca', 'iubac', 'iv', 'ivan', 'ivi', 'ix', 'ja', 'jack', 'jacket', 'jackson', 'jacob', 'jacqu', 'jaeger', 'jagr', 'jail', 'jake', 'jam', 'jame', 'jami', 'jammer', 'jan', 'jane', 'janet', 'januari', 'japan', 'japanes', 'jason', 'jaw', 'jay', 'jayn', 'jazz', 'jb', 'jbrown', 'jc', 'jchen', 'jd', 'je', 'jealousi', 'jean', 'jebright', 'jeep', 'jeesu', 'jeez', 'jeff', 'jefferi', 'jefferson', 'jeffrey', 'jeffri', 'jeh', 'jehovah', 'jek', 'jen', 'jenk', 'jeopardi', 'jeq', 'jeremi', 'jerk', 'jerri', 'jersey', 'jerusalem', 'jess', 'jester', 'jesu', 'jet', 'jew', 'jewish', 'jfc', 'jfk', 'jgreen', 'jim', 'jimf', 'jimmi', 'jj', 'jkn', 'jl', 'jlevin', 'jmd', 'jmeritt', 'jn', 'jnielsen', 'joan', 'job', 'jockey', 'jodfish', 'jodi', 'joe', 'joel', 'johansson', 'john', 'johnh', 'johnni', 'johnson', 'johnston', 'join', 'joint', 'jointli', 'joke', 'jokerit', 'jolla', 'jon', 'jona', 'jonathan', 'jone', 'jordan', 'jorg', 'jose', 'joseph', 'josephu', 'josh', 'joshua', 'joslin', 'journal', 'journalist', 'journey', 'joy', 'joystick', 'jp', 'jpeg', 'jpl', 'jr', 'jrbeach', 'jrm', 'jrogoff', 'jrutledg', 'js', 'jsc', 'jsh', 'jt', 'juan', 'jubile', 'juda', 'judaism', 'jude', 'judg', 'judgement', 'judgment', 'judici', 'judiciari', 'jul', 'juli', 'jumbo', 'jump', 'jumper', 'jumpi', 'jun', 'junction', 'june', 'jungl', 'junior', 'junk', 'jupit', 'juri', 'jurisdict', 'just', 'justic', 'justif', 'justifi', 'justin', 'justli', 'jw', 'jz', 'ka', 'kadi', 'kahn', 'kaldi', 'kansa', 'kar', 'karabag', 'karabagh', 'karabakh', 'karl', 'karma', 'karn', 'karr', 'kathleen', 'kaufman', 'kawasaki', 'kay', 'kb', 'kc', 'kcochran', 'keen', 'keenan', 'keep', 'keeper', 'keith', 'kekul', 'keller', 'kelli', 'kelsey', 'ken', 'kendig', 'kennedi', 'kenneth', 'kenni', 'kent', 'kentucki', 'kermit', 'kernel', 'kerosen', 'kerr', 'kevin', 'key', 'keyboard', 'keyseach', 'keystrok', 'keyword', 'kg', 'kgb', 'kh', 'khan', 'khomeini', 'khz', 'kick', 'kid', 'kidney', 'kiefer', 'kill', 'killer', 'kilomet', 'kilroy', 'kim', 'kimbal', 'kinci', 'kind', 'kinda', 'kindli', 'king', 'kingdom', 'kingman', 'kingston', 'kinsey', 'kipl', 'kirbi', 'kirk', 'kirsch', 'kiss', 'kit', 'kitchen', 'kjenk', 'kk', 'kkeller', 'kkk', 'kludg', 'km', 'knee', 'knew', 'knife', 'knight', 'knive', 'knob', 'knock', 'knot', 'know', 'knowl', 'knowledg', 'knowleg', 'known', 'knox', 'ko', 'kodak', 'kolodni', 'kolstad', 'kong', 'konstantinov', 'koran', 'korea', 'korean', 'koresh', 'kosher', 'kotb', 'kou', 'koufax', 'koutd', 'kovalev', 'kozierok', 'kratz', 'krehbiel', 'kri', 'krillean', 'ks', 'ksand', 'kt', 'ku', 'kubota', 'kulikauska', 'kuo', 'kurd', 'kurdish', 'kurri', 'kurt', 'kuwait', 'kv', 'ky', 'kyle', 'la', 'lab', 'label', 'labor', 'laboratori', 'lack', 'ladi', 'lafayett', 'lafontain', 'lag', 'laissez', 'lake', 'lamb', 'lame', 'lamont', 'lamp', 'lan', 'lanc', 'land', 'landlord', 'landscap', 'lane', 'lang', 'langley', 'languag', 'lankford', 'lantern', 'lap', 'laps', 'laptop', 'larg', 'larger', 'largest', 'larri', 'laser', 'laserjet', 'laserwrit', 'last', 'lastli', 'latch', 'late', 'later', 'latest', 'latin', 'latonia', 'latter', 'lau', 'lauderdal', 'laugh', 'laughter', 'launch', 'launcher', 'laurentian', 'law', 'lawn', 'lawrenc', 'lawsuit', 'lawyer', 'lay', 'layer', 'layout', 'lazaru', 'lazi', 'lb', 'lc', 'lcd', 'lciii', 'ld', 'le', 'lead', 'leader', 'leadership', 'leaf', 'leagu', 'leak', 'lean', 'leap', 'learn', 'leas', 'least', 'leather', 'leav', 'lebanes', 'lebanon', 'lectur', 'led', 'lee', 'leech', 'lefebvr', 'left', 'lefti', 'leftist', 'leftov', 'leg', 'legal', 'legend', 'legion', 'legisl', 'legislatur', 'legit', 'legitim', 'legitimaci', 'lehigh', 'lehman', 'lem', 'lemieux', 'lemon', 'len', 'lend', 'length', 'lengthi', 'lenin', 'lens', 'leo', 'leonard', 'less', 'lesser', 'lesson', 'lest', 'let', 'lethal', 'letter', 'level', 'lever', 'leverag', 'levi', 'levin', 'leviticu', 'lew', 'lewi', 'lewisvil', 'lf', 'lfoard', 'lg', 'lh', 'li', 'liabil', 'liabl', 'liar', 'lib', 'liber', 'libertarian', 'liberti', 'librari', 'licenc', 'licens', 'lick', 'lid', 'lie', 'liek', 'life', 'lifestyl', 'lifetim', 'lift', 'liftoff', 'light', 'lighten', 'lighter', 'lightli', 'lightn', 'liguori', 'like', 'likelihood', 'likewis', 'likud', 'lim', 'limb', 'limbaugh', 'limit', 'lin', 'lincoln', 'linda', 'lindbergh', 'linden', 'lindro', 'lindroo', 'linear', 'liner', 'lineup', 'linguist', 'link', 'linu', 'linux', 'lion', 'lip', 'lippard', 'liquid', 'lisa', 'lisp', 'list', 'listen', 'listserv', 'lite', 'liter', 'literari', 'literatur', 'littl', 'liturgi', 'liu', 'live', 'liver', 'livermor', 'liverpool', 'livesey', 'livingston', 'livni', 'lj', 'lk', 'llama', 'lloyd', 'lo', 'load', 'loan', 'loath', 'lobbi', 'local', 'locat', 'lock', 'locker', 'lockhe', 'lodg', 'log', 'logic', 'login', 'logitech', 'logo', 'loki', 'london', 'lone', 'long', 'longer', 'longest', 'look', 'lookout', 'loop', 'loos', 'loosen', 'lopez', 'loral', 'lord', 'lori', 'lose', 'loser', 'loss', 'lost', 'lot', 'lotsa', 'lotteri', 'lotu', 'lou', 'loud', 'louder', 'loudli', 'loudspeak', 'loui', 'louisiana', 'louisvil', 'louray', 'lousi', 'love', 'lover', 'low', 'lowel', 'lowenstein', 'lower', 'lowest', 'lowli', 'loyal', 'loyalti', 'lp', 'lq', 'ls', 'lsd', 'lt', 'ltd', 'lu', 'lubric', 'luca', 'lucif', 'luck', 'lucki', 'luckili', 'ludicr', 'ludwig', 'lui', 'luke', 'lukewarm', 'lump', 'lunar', 'lunat', 'lunch', 'lung', 'luri', 'luriem', 'lurk', 'lust', 'lustig', 'luther', 'lutheran', 'luxuri', 'lvc', 'lw', 'lx', 'ly', 'lyme', 'lynch', 'lynn', 'ma', 'mac', 'macdonald', 'mace', 'mach', 'machin', 'machineri', 'macinni', 'macintosh', 'mack', 'macki', 'macquari', 'macro', 'macus', 'macweek', 'macworld', 'mad', 'madam', 'maddi', 'made', 'madison', 'mafifi', 'mag', 'magazin', 'magellan', 'magic', 'magick', 'magnet', 'magnifi', 'magnitud', 'magnu', 'magnum', 'mahan', 'mai', 'maidenhead', 'mail', 'mailbox', 'mailer', 'main', 'mainfram', 'mainli', 'mainstream', 'maintain', 'mainten', 'major', 'make', 'makefil', 'maker', 'malcolm', 'male', 'malfunct', 'mall', 'mamayski', 'man', 'manag', 'manchest', 'mandat', 'mandatori', 'mandtbacka', 'mane', 'maneuv', 'mangl', 'mango', 'manhattan', 'mani', 'manifest', 'manipul', 'manitoba', 'mankind', 'manner', 'manson', 'manti', 'manual', 'manufactur', 'manuscript', 'map', 'mapl', 'mar', 'marc', 'march', 'marco', 'marcu', 'margin', 'mari', 'marietta', 'marijuana', 'marin', 'mario', 'mark', 'marka', 'market', 'marketplac', 'markm', 'marku', 'marlboro', 'marlin', 'marquett', 'marri', 'marriag', 'marshal', 'marti', 'martial', 'martian', 'martin', 'martinez', 'martyr', 'marvel', 'marvin', 'marxist', 'maryland', 'mask', 'mason', 'mass', 'massachusett', 'massacr', 'massag', 'massiv', 'master', 'mat', 'match', 'matchup', 'mateo', 'materi', 'math', 'mathemat', 'mathew', 'matrix', 'matt', 'matter', 'matthew', 'mattingli', 'matur', 'matya', 'mau', 'mauric', 'maven', 'max', 'maxim', 'maximum', 'maxtor', 'may', 'mayan', 'mayb', 'mayhew', 'mayn', 'maynard', 'mayo', 'mayor', 'mazda', 'mb', 'mbeav', 'mc', 'mccall', 'mccarthi', 'mccoy', 'mccreari', 'mccullou', 'mcdonald', 'mcdonnel', 'mcdowel', 'mcgill', 'mcguir', 'mcintyr', 'mckay', 'mclean', 'mcmaster', 'mcnc', 'mcovingt', 'mcrae', 'mcsun', 'md', 'me', 'mead', 'meal', 'mean', 'meaning', 'meaningless', 'meantim', 'meanwhil', 'measur', 'meat', 'mechan', 'med', 'meddl', 'media', 'median', 'medic', 'medicin', 'medin', 'mediocr', 'medit', 'mediterranean', 'medium', 'meet', 'meg', 'mega', 'megabyt', 'megatest', 'mehl', 'mein', 'mel', 'melbourn', 'melissa', 'melkonian', 'mellon', 'melt', 'mem', 'member', 'membership', 'meme', 'memo', 'memoir', 'memor', 'memori', 'memphi', 'men', 'menac', 'ment', 'mental', 'mention', 'mentor', 'menu', 'merced', 'mercenari', 'mercer', 'merchandis', 'merchant', 'merci', 'mercuri', 'mere', 'merg', 'merit', 'meritt', 'merlin', 'merril', 'mesh', 'meson', 'mess', 'messag', 'messeng', 'messiah', 'messian', 'messier', 'met', 'metabol', 'metal', 'metaphor', 'metaphys', 'meter', 'methink', 'method', 'methodolog', 'metric', 'metro', 'metropolitan', 'metzger', 'mexican', 'mexico', 'meyer', 'mf', 'mfm', 'mfrhein', 'mg', 'mgr', 'mh', 'mhollowa', 'mhz', 'mi', 'miami', 'miata', 'mice', 'michael', 'michigan', 'mickey', 'micro', 'microcircuit', 'microcomput', 'microcontrol', 'microelectron', 'micron', 'microphon', 'microprocessor', 'microscop', 'microsoft', 'microsystem', 'microwav', 'mid', 'middl', 'midelfort', 'midi', 'midnight', 'midst', 'midwest', 'mieux', 'might', 'mighti', 'migrain', 'migrat', 'mike', 'mikey', 'milan', 'mild', 'mildli', 'mile', 'mileag', 'milit', 'militari', 'militarili', 'militia', 'milk', 'mill', 'miller', 'million', 'milwauke', 'min', 'mind', 'mindless', 'mindset', 'mine', 'miner', 'mini', 'minim', 'minimum', 'minist', 'ministri', 'minneapoli', 'minnesota', 'minor', 'mint', 'minu', 'minut', 'mip', 'mir', 'miracl', 'miracul', 'miranda', 'mirror', 'misc', 'miscellan', 'misconcept', 'miser', 'misguid', 'misinform', 'misinterpret', 'mislead', 'misplac', 'misrepres', 'miss', 'missil', 'mission', 'missionari', 'mississippi', 'missouri', 'mist', 'mistak', 'misunderstand', 'misus', 'mit', 'mitch', 'mitchel', 'mitchum', 'mithra', 'mitig', 'mitr', 'mitsubishi', 'mix', 'mixer', 'mixtur', 'mj', 'mk', 'ml', 'mlb', 'mlee', 'mlindroo', 'mlk', 'mm', 'mmm', 'mn', 'mnemon', 'mo', 'moa', 'mob', 'mobil', 'mock', 'mod', 'mode', 'model', 'modem', 'moder', 'modern', 'modest', 'modif', 'modifi', 'modul', 'modular', 'mogilni', 'moham', 'mohammad', 'mohit', 'mohney', 'moin', 'moistur', 'mola', 'molecul', 'molecular', 'molest', 'molitor', 'mom', 'moment', 'momentum', 'mon', 'monash', 'moncton', 'mond', 'monday', 'money', 'monica', 'monitor', 'monkey', 'monning', 'mono', 'monochrom', 'monopoli', 'monosodium', 'monster', 'mont', 'montana', 'montgomeri', 'month', 'monthli', 'monti', 'montreal', 'monument', 'mood', 'moog', 'moon', 'moonbas', 'moop', 'moor', 'moot', 'moral', 'more', 'moreov', 'morgan', 'morgoth', 'mormon', 'morn', 'moron', 'morri', 'mortal', 'morton', 'moscow', 'mose', 'moslem', 'mosqu', 'moss', 'mossad', 'most', 'mostli', 'mother', 'motherboard', 'motif', 'motion', 'motiv', 'moto', 'motor', 'motorcycl', 'motorcyclist', 'motorola', 'motto', 'mount', 'mountain', 'mourn', 'mous', 'mouth', 'move', 'movement', 'movi', 'mow', 'mozumd', 'mp', 'mpeg', 'mpg', 'mph', 'mq', 'mr', 'mri', 'mrr', 'ms', 'msb', 'msdo', 'msf', 'msg', 'mss', 'mt', 'mtl', 'mu', 'much', 'mucho', 'mudd', 'mueller', 'muenchen', 'muffler', 'mug', 'mule', 'mullen', 'muller', 'multi', 'multimedia', 'multipl', 'multiplex', 'multipli', 'multisync', 'multitask', 'multitud', 'munich', 'municip', 'munit', 'munni', 'murder', 'murphi', 'murray', 'muscl', 'museum', 'music', 'musician', 'muslim', 'mussack', 'mussina', 'must', 'mustang', 'muster', 'mutant', 'mutat', 'mute', 'mutil', 'mutual', 'mv', 'mvanheyn', 'mvp', 'mw', 'mwilson', 'mwm', 'mx', 'my', 'myer', 'mykotronx', 'myriad', 'myrto', 'myself', 'mysteri', 'mystic', 'myth', 'mz', 'na', 'naftali', 'nag', 'nagasiva', 'nah', 'nail', 'naiv', 'nake', 'nambla', 'name', 'nanao', 'nanci', 'nanosecond', 'napalm', 'napoleon', 'narr', 'narrow', 'nasa', 'nashvil', 'nasti', 'nathan', 'nathaniel', 'nation', 'nationalist', 'nationwid', 'nativ', 'natur', 'naval', 'navi', 'navig', 'nazi', 'nazism', 'nb', 'nba', 'nbc', 'nc', 'ncaa', 'ncar', 'ncd', 'ncr', 'ncsa', 'ncsu', 'nd', 'ndallen', 'ndi', 'ndw', 'ne', 'neal', 'near', 'nearbi', 'nearest', 'nearli', 'neat', 'neatli', 'nebraska', 'nec', 'neccessari', 'necess', 'necessari', 'necessarili', 'necessit', 'neck', 'need', 'needl', 'needless', 'neeli', 'neg', 'negat', 'neglect', 'neglig', 'negoti', 'neighbor', 'neighborhood', 'neighbour', 'neil', 'neither', 'nelson', 'neoucom', 'neptun', 'neptunium', 'nerv', 'nervou', 'ness', 'net', 'netcom', 'netherland', 'netland', 'netnew', 'netter', 'netwar', 'network', 'neural', 'neurologist', 'neuron', 'neutral', 'neutron', 'nevada', 'never', 'nevertheless', 'new', 'newark', 'newbi', 'newel', 'newer', 'newest', 'newli', 'newman', 'news', 'newsgroup', 'newslett', 'newspap', 'newsweek', 'newton', 'next', 'nextmail', 'nextstep', 'nf', 'ng', 'nh', 'nhl', 'ni', 'nice', 'nichol', 'nichola', 'nick', 'nickh', 'nicknam', 'nicol', 'niel', 'nielsen', 'niether', 'nietzsch', 'nifti', 'nigel', 'night', 'nightmar', 'nih', 'nil', 'nimast', 'nine', 'ninja', 'ninjait', 'nintendo', 'ninth', 'nissan', 'nist', 'nixon', 'nj', 'njd', 'nl', 'nlu', 'nm', 'nn', 'nne', 'no', 'noah', 'nobl', 'nobodi', 'nod', 'node', 'noel', 'nois', 'noisi', 'nolan', 'nomin', 'non', 'none', 'nonetheless', 'nonexist', 'nonsens', 'noon', 'nope', 'nor', 'nord', 'nordiqu', 'nore', 'norm', 'normal', 'norman', 'norri', 'north', 'northeast', 'northeastern', 'northern', 'northwest', 'northwestern', 'norton', 'norway', 'nose', 'not', 'notabl', 'note', 'notebook', 'noth', 'notic', 'notifi', 'notion', 'notori', 'notr', 'notwithstand', 'nov', 'nova', 'novel', 'novemb', 'novic', 'now', 'nowaday', 'nowher', 'noy', 'npet', 'nr', 'nra', 'nren', 'nrhj', 'nriz', 'ns', 'nsa', 'nsc', 'nsmca', 'nstramer', 'nsw', 'nswc', 'nt', 'nth', 'ntsc', 'nu', 'nubu', 'nuclear', 'nuke', 'null', 'numb', 'number', 'numer', 'nuntiu', 'nurs', 'nut', 'nutrit', 'nutshel', 'nuy', 'nv', 'nw', 'ny', 'nyc', 'nye', 'nyeda', 'nyi', 'nyland', 'nyr', 'nysernet', 'nyt', 'nyx', 'nz', 'oak', 'oakland', 'oat', 'oath', 'ob', 'obedi', 'obes', 'obey', 'obfusc', 'obispo', 'object', 'oblig', 'oblivi', 'obnoxi', 'obo', 'obp', 'obscur', 'observ', 'observatori', 'obsess', 'obsolet', 'obstacl', 'obstruct', 'obtain', 'obviou', 'obvious', 'occas', 'occasion', 'occass', 'occult', 'occup', 'occupi', 'occur', 'occurr', 'ocean', 'oct', 'octob', 'octopu', 'od', 'odd', 'oddli', 'odomet', 'oem', 'of', 'off', 'offenc', 'offend', 'offens', 'offer', 'offic', 'offici', 'offset', 'oft', 'often', 'oh', 'ohanu', 'ohio', 'ohm', 'oil', 'oiler', 'ointment', 'oj', 'ok', 'okay', 'okcforum', 'oklahoma', 'ol', 'olchowi', 'old', 'older', 'oldest', 'oldham', 'ole', 'olerud', 'oliv', 'olivetti', 'olson', 'olwm', 'olymp', 'om', 'omaha', 'omar', 'omiss', 'omit', 'omnipot', 'omnisci', 'omran', 'on', 'onboard', 'onc', 'one', 'oneself', 'ongo', 'onli', 'onlin', 'ont', 'ontario', 'onto', 'onward', 'oo', 'ooop', 'oop', 'op', 'opaqu', 'open', 'openli', 'openlook', 'openwindow', 'oper', 'opinion', 'oppon', 'opportun', 'oppos', 'opposit', 'oppress', 'opt', 'optic', 'optilink', 'optim', 'optimist', 'option', 'or', 'oracl', 'oral', 'orang', 'orbit', 'orchid', 'order', 'ordin', 'ordinari', 'ore', 'oregon', 'organis', 'organiz', 'orgin', 'orient', 'origin', 'oriol', 'oriolefan', 'orion', 'orlando', 'orlean', 'orr', 'orthodox', 'orthogon', 'os', 'oscil', 'oscilloscop', 'osf', 'oslo', 'ostens', 'ot', 'otc', 'other', 'otherwis', 'oto', 'ott', 'ottawa', 'otto', 'ottoman', 'ou', 'ouch', 'ought', 'oulu', 'our', 'out', 'outbreak', 'outcom', 'outdat', 'outdoor', 'outer', 'outfield', 'outgo', 'outlaw', 'outlet', 'outlin', 'outlook', 'output', 'outrag', 'outright', 'outsid', 'outstand', 'outweigh', 'oven', 'over', 'overal', 'overburden', 'overcom', 'overdr', 'overhead', 'overkil', 'overlap', 'overlay', 'overli', 'overload', 'overlook', 'overnight', 'overpass', 'overr', 'overreact', 'overrid', 'overse', 'oversea', 'overthrow', 'overtim', 'overturn', 'overview', 'overwhelm', 'overwhelmingli', 'overwrit', 'ow', 'owe', 'owen', 'own', 'owner', 'ownership', 'ox', 'oxford', 'oxid', 'oxygen', 'oxymoron', 'oz', 'ozal', 'ozon', 'ozzi', 'pa', 'pace', 'pacif', 'pack', 'packag', 'packard', 'packet', 'pad', 'padi', 'padr', 'pagan', 'page', 'pagemak', 'pager', 'pain', 'painless', 'paint', 'pair', 'paj', 'pal', 'palac', 'paladin', 'pale', 'palestin', 'palestinean', 'palestinian', 'palett', 'palm', 'palmer', 'palo', 'pan', 'panason', 'panayiotaki', 'panel', 'panic', 'panix', 'pano', 'pant', 'pantheism', 'panther', 'papal', 'paper', 'paperback', 'paperwork', 'papresco', 'par', 'parabl', 'parad', 'paradigm', 'paradis', 'paradox', 'paragraph', 'parallel', 'paramet', 'paranoia', 'paranoid', 'paraphras', 'parasit', 'parcplac', 'pardon', 'parent', 'pari', 'parish', 'pariti', 'park', 'parker', 'parkway', 'parliament', 'parliamentari', 'parr', 'parrot', 'pars', 'parsli', 'part', 'parti', 'partial', 'particip', 'particl', 'particular', 'particularli', 'partisan', 'partit', 'partli', 'partner', 'partnership', 'pasadena', 'pascal', 'pass', 'passag', 'passeng', 'passer', 'passion', 'passiv', 'passov', 'passport', 'password', 'past', 'pastor', 'pat', 'patch', 'patent', 'path', 'pathet', 'patholog', 'pathway', 'patienc', 'patient', 'patriarch', 'patrick', 'patriot', 'patrol', 'patron', 'pattern', 'patterson', 'patti', 'patton', 'paul', 'paula', 'paulson', 'paus', 'pavement', 'pay', 'paycheck', 'payload', 'payment', 'pb', 'pbwasoh', 'pc', 'pcb', 'pcboard', 'pct', 'pcx', 'pd', 'pdt', 'peac', 'peak', 'peanut', 'pearl', 'pearson', 'peart', 'peculiar', 'pedal', 'pee', 'peer', 'peg', 'pegasu', 'pellet', 'pem', 'pen', 'penal', 'penalti', 'pencil', 'pend', 'penetr', 'penguin', 'penn', 'pennant', 'penni', 'pennsylvania', 'pentium', 'peopl', 'pep', 'pepper', 'per', 'pera', 'perceiv', 'percent', 'percentag', 'percept', 'perfect', 'perfectli', 'perform', 'perhap', 'period', 'peripher', 'perish', 'perl', 'perman', 'permiss', 'permit', 'perpendicular', 'perpetr', 'perpetu', 'perri', 'persecut', 'persever', 'persian', 'persist', 'person', 'personnel', 'perspect', 'persuad', 'persuas', 'pertain', 'perth', 'pertin', 'perturb', 'pervers', 'pervert', 'pet', 'petaluma', 'petch', 'pete', 'peter', 'peterborough', 'peterson', 'petit', 'petri', 'pettefar', 'petti', 'pex', 'pg', 'pgf', 'pgh', 'pgp', 'ph', 'phantom', 'pharise', 'pharvey', 'phase', 'phd', 'phenomena', 'phenomenon', 'phi', 'phig', 'phil', 'philadelphia', 'philip', 'phill', 'philli', 'phillip', 'philosoph', 'philosophi', 'phoenix', 'phone', 'photo', 'photograph', 'photographi', 'photoshop', 'phrase', 'physic', 'physician', 'physicist', 'physiolog', 'pi', 'pic', 'pick', 'picki', 'pickup', 'pictur', 'pie', 'piec', 'pierc', 'pierson', 'pig', 'pilchuck', 'pile', 'pill', 'pillion', 'pilot', 'pim', 'pin', 'pinch', 'pink', 'pinout', 'pioneer', 'pip', 'pipe', 'pipelin', 'pirat', 'piss', 'pistol', 'piston', 'pit', 'pitch', 'pitcher', 'piti', 'pitt', 'pittsburgh', 'pixel', 'pixi', 'pixmap', 'pizza', 'pj', 'pk', 'pkp', 'pl', 'place', 'placebo', 'placement', 'plagu', 'plain', 'plainli', 'plaintext', 'plan', 'plane', 'planet', 'planetari', 'plant', 'plastic', 'plat', 'plate', 'platform', 'platoon', 'platter', 'plausibl', 'play', 'playback', 'player', 'playoff', 'plea', 'plead', 'pleas', 'pleasant', 'pleasur', 'pledg', 'plenti', 'plo', 'plot', 'plotter', 'plu', 'plug', 'plunder', 'pluto', 'plymouth', 'pm', 'pmetzger', 'po', 'pocket', 'poem', 'poet', 'pogrom', 'point', 'pointer', 'pointless', 'poison', 'poke', 'poland', 'polar', 'pole', 'poli', 'polic', 'policeman', 'policemen', 'polici', 'polish', 'polit', 'politician', 'poll', 'pollut', 'poloniu', 'polygon', 'polytechn', 'pomona', 'pompou', 'pond', 'ponder', 'pool', 'poor', 'poorer', 'poorli', 'pop', 'pope', 'popul', 'populac', 'popular', 'popup', 'pork', 'porsch', 'port', 'portabl', 'portal', 'portion', 'portland', 'portray', 'pose', 'posit', 'possess', 'possibl', 'post', 'postag', 'postal', 'poster', 'postmast', 'postscript', 'postul', 'pot', 'potenti', 'potter', 'potvin', 'poulin', 'pound', 'pour', 'pov', 'poverti', 'povray', 'powder', 'powel', 'power', 'powerbook', 'powerless', 'powerpc', 'powerplay', 'pp', 'ppm', 'pr', 'practic', 'practis', 'practition', 'pragmat', 'prais', 'prank', 'pray', 'prayer', 'prb', 'pre', 'preach', 'preacher', 'preamp', 'precaut', 'preced', 'preciou', 'precis', 'preclud', 'predat', 'predecessor', 'predict', 'predomin', 'prefer', 'pregnanc', 'pregnant', 'prejudic', 'preliminari', 'prelud', 'prematur', 'premier', 'premis', 'premium', 'prepar', 'presbyterian', 'prescod', 'prescrib', 'prescript', 'presenc', 'present', 'preserv', 'preset', 'presid', 'presidenti', 'press', 'pressur', 'prestig', 'preston', 'presum', 'presumpt', 'pretend', 'pretext', 'pretti', 'prettier', 'prevail', 'preval', 'prevent', 'preview', 'previou', 'previous', 'prey', 'price', 'pride', 'priest', 'priesthood', 'primari', 'primarili', 'prime', 'primeau', 'primit', 'princ', 'princeton', 'princip', 'principl', 'print', 'printer', 'printf', 'prior', 'prioriti', 'prism', 'prison', 'privaci', 'privat', 'privileg', 'prize', 'pro', 'prob', 'probabl', 'probe', 'probert', 'problem', 'problemat', 'procedur', 'proceed', 'process', 'processor', 'proclaim', 'procomm', 'procur', 'prodigi', 'prodriv', 'produc', 'product', 'prof', 'profess', 'profession', 'professor', 'profil', 'profit', 'profound', 'prog', 'program', 'programm', 'progress', 'prohibit', 'project', 'projector', 'prolong', 'promin', 'promis', 'promiscu', 'promot', 'prompt', 'promptli', 'prone', 'prong', 'pronounc', 'proof', 'prop', 'propag', 'propaganda', 'propagandist', 'propel', 'proper', 'properli', 'properti', 'propheci', 'prophesi', 'prophet', 'propog', 'propoganda', 'propon', 'proport', 'propos', 'proposit', 'proprietari', 'propuls', 'prosecut', 'proselyt', 'prospect', 'prosper', 'prostitut', 'protect', 'protector', 'protein', 'protest', 'protocol', 'proton', 'prototyp', 'proud', 'provabl', 'prove', 'proverb', 'proverbi', 'provid', 'provinc', 'provis', 'provoc', 'provok', 'prowess', 'ps', 'psalm', 'pseudocolor', 'pseudonym', 'psi', 'psych', 'psycholog', 'psyrobtw', 'pt', 'pu', 'pub', 'public', 'publicli', 'publish', 'puck', 'puckett', 'pull', 'puls', 'pump', 'pun', 'punch', 'punish', 'purchas', 'purdu', 'pure', 'purg', 'puriti', 'purpl', 'purport', 'purpos', 'purs', 'pursu', 'pursuit', 'push', 'put', 'puzzl', 'pw', 'pwiseman', 'pyramid', 'pyron', 'pythagorean', 'python', 'qa', 'qax', 'qemm', 'ql', 'qm', 'qq', 'qs', 'qt', 'quack', 'quad', 'quadra', 'quaker', 'qualcomm', 'qualif', 'qualifi', 'qualit', 'qualiti', 'quantifi', 'quantit', 'quantiti', 'quantum', 'quarrel', 'quart', 'quarter', 'quarterli', 'que', 'quebec', 'queen', 'queer', 'queri', 'quest', 'question', 'qui', 'quibbl', 'quick', 'quickdraw', 'quicker', 'quickli', 'quicktim', 'quiet', 'quieter', 'quietli', 'quinn', 'quist', 'quit', 'quo', 'quot', 'quotat', 'quran', 'ra', 'rabbi', 'rabbit', 'rabid', 'rabin', 'race', 'racer', 'racial', 'racism', 'racist', 'rack', 'radar', 'radial', 'radiat', 'radic', 'radio', 'radioact', 'radiu', 'rag', 'rage', 'ragraca', 'raid', 'raider', 'rail', 'rain', 'rainer', 'rais', 'ralli', 'ralph', 'ram', 'rambl', 'ramif', 'ramsey', 'ranch', 'ranck', 'rand', 'randal', 'randi', 'random', 'randomli', 'rang', 'ranger', 'rank', 'rant', 'rap', 'rape', 'rapid', 'rapidli', 'rapist', 'rare', 'rash', 'raster', 'rat', 'rate', 'rather', 'ratio', 'ration', 'rational', 'rauser', 'rave', 'ravi', 'raw', 'rawlinson', 'ray', 'raymond', 'rayssd', 'raytrac', 'razi', 'rbi', 'rc', 'rca', 'rd', 'rdippold', 're', 'reach', 'react', 'reaction', 'reactor', 'read', 'readabl', 'reader', 'readi', 'readili', 'readm', 'reaffirm', 'reagan', 'real', 'reali', 'realis', 'realist', 'realiti', 'realiz', 'realli', 'realm', 'reap', 'rear', 'reardon', 'reason', 'reassur', 'rebel', 'reboot', 'rebound', 'rebuild', 'rebutt', 'rec', 'recal', 'recchi', 'receipt', 'receiv', 'recent', 'recept', 'recess', 'reciev', 'recip', 'recipi', 'reckless', 'reckon', 'recogn', 'recognis', 'recognit', 'recomend', 'recommend', 'reconcil', 'reconsid', 'reconstruct', 'record', 'recours', 'recov', 'recoveri', 'recreat', 'recruit', 'rectangl', 'rectangular', 'rectifi', 'recur', 'recurr', 'recycl', 'red', 'redeem', 'redelf', 'redempt', 'redesign', 'redicul', 'redirect', 'redistribut', 'redraw', 'reduc', 'reduct', 'redund', 'redwood', 'reed', 'reedr', 'ref', 'refer', 'refere', 'referr', 'refin', 'reflect', 'reform', 'reformat', 'refrain', 'refresh', 'refug', 'refuge', 'refund', 'refus', 'refut', 'reg', 'regain', 'regan', 'regard', 'regardless', 'regener', 'regim', 'region', 'regist', 'registr', 'registri', 'regress', 'regret', 'regul', 'regular', 'regularli', 'rehabilit', 'reich', 'reichel', 'reid', 'reign', 'reincarn', 'reinforc', 'reinstal', 'reiter', 'reject', 'rel', 'relat', 'relationship', 'relativist', 'relax', 'relay', 'releas', 'relev', 'reli', 'reliabl', 'relianc', 'relief', 'reliev', 'relig', 'religi', 'religion', 'reload', 'reluct', 'rem', 'remain', 'remaind', 'remark', 'remeb', 'remedi', 'rememb', 'remind', 'remiss', 'remot', 'remov', 'renaiss', 'renam', 'render', 'rene', 'renew', 'reno', 'renounc', 'renssela', 'rent', 'rental', 'rep', 'repaint', 'repair', 'repar', 'repeal', 'repeat', 'repeatedli', 'repent', 'repetit', 'rephras', 'replac', 'replay', 'repli', 'replic', 'replica', 'repo', 'report', 'reportedli', 'repositori', 'repost', 'repres', 'represent', 'repress', 'reprint', 'reproduc', 'reproduct', 'republ', 'republican', 'reput', 'request', 'requir', 'rescu', 'research', 'resembl', 'resent', 'reserv', 'reset', 'resid', 'residenti', 'residu', 'resign', 'resist', 'resistor', 'resiz', 'resolut', 'resolv', 'reson', 'resort', 'resourc', 'respect', 'responc', 'respond', 'respons', 'rest', 'restart', 'restaur', 'reston', 'restor', 'restrain', 'restraint', 'restrict', 'result', 'resum', 'resurrect', 'retail', 'retain', 'retali', 'retard', 'rethink', 'retir', 'retract', 'retreat', 'retriev', 'retrospect', 'return', 'reusabl', 'reuter', 'rev', 'reveal', 'revel', 'reveng', 'revenu', 'rever', 'revers', 'revert', 'review', 'revis', 'revision', 'revisionist', 'revok', 'revolt', 'revolut', 'revolutionari', 'revolv', 'reward', 'rewrit', 'rex', 'rexlex', 'reynold', 'rf', 'rfc', 'rfd', 'rfi', 'rg', 'rgb', 'rgooch', 'rh', 'rhein', 'rhetor', 'rhode', 'ri', 'rib', 'ribbon', 'rice', 'riceburn', 'rich', 'richard', 'richardson', 'richer', 'richk', 'richmond', 'rick', 'rickc', 'rickey', 'rid', 'riddanc', 'riddl', 'ride', 'rider', 'ridg', 'ridicul', 'rifl', 'rifleman', 'rig', 'right', 'righteou', 'righteous', 'rightli', 'rigid', 'rigor', 'riley', 'rim', 'rind', 'ring', 'riordan', 'riot', 'rip', 'ripem', 'ripken', 'risc', 'rise', 'risk', 'riski', 'rite', 'ritual', 'rival', 'river', 'rivest', 'rj', 'rjwade', 'rk', 'rkba', 'rl', 'rlglend', 'rll', 'rlogin', 'rm', 'rmohn', 'rn', 'rnichol', 'ro', 'road', 'roam', 'roar', 'rob', 'robart', 'robberi', 'robbi', 'robert', 'robertson', 'robi', 'robin', 'robinson', 'robitail', 'robot', 'robust', 'rochest', 'rock', 'rocket', 'rocki', 'rockwel', 'rod', 'rodney', 'roenick', 'roger', 'rogoff', 'roland', 'role', 'rolf', 'roll', 'rolla', 'roller', 'rom', 'roman', 'rome', 'ron', 'ronald', 'ronzon', 'roof', 'rooki', 'room', 'roommat', 'root', 'rootstown', 'rope', 'rosa', 'rose', 'rosenau', 'rosicrucian', 'ross', 'roster', 'rotat', 'roth', 'rotor', 'rotten', 'rough', 'roughli', 'round', 'roush', 'rousseau', 'rout', 'routin', 'rover', 'row', 'roy', 'royal', 'royalti', 'royc', 'rp', 'rpm', 'rr', 'rs', 'rsa', 'rscharfi', 'rsilver', 'rt', 'rtp', 'rub', 'rubber', 'rubin', 'rude', 'ruff', 'rug', 'ruin', 'rule', 'ruler', 'rumor', 'rumour', 'run', 'runner', 'rural', 'rush', 'rushdi', 'rusnew', 'russ', 'russel', 'russia', 'russian', 'rust', 'rusti', 'rutger', 'ruth', 'rutledg', 'rvesterm', 'rw', 'rwing', 'ryan', 'rz', 'sa', 'saab', 'sabbath', 'sabin', 'sabr', 'sack', 'sacr', 'sacrafic', 'sacramento', 'sacrific', 'sad', 'saddam', 'sadden', 'saddl', 'sadist', 'sadli', 'safe', 'safeguard', 'safer', 'safeti', 'saftey', 'sahak', 'said', 'sail', 'saint', 'sake', 'salah', 'salari', 'sale', 'salem', 'salesman', 'salmon', 'salt', 'salvat', 'sam', 'same', 'sampl', 'samuel', 'san', 'sanction', 'sand', 'sandberg', 'sander', 'sanderson', 'sandi', 'sandvik', 'sane', 'saniti', 'santa', 'sarah', 'saratoga', 'sarcasm', 'sarcast', 'sasghm', 'sat', 'satan', 'satellit', 'satisfact', 'satisfactori', 'satisfi', 'saturday', 'saturn', 'sauc', 'saudi', 'savag', 'savard', 'save', 'savior', 'saw', 'say', 'sb', 'sc', 'scale', 'scam', 'scan', 'scandal', 'scandinavian', 'scanner', 'scar', 'scare', 'scari', 'scatter', 'scenario', 'scene', 'sceneri', 'sceptic', 'scharfi', 'schaumburg', 'schedul', 'schemat', 'scheme', 'schism', 'schmidl', 'schmidt', 'schneider', 'scholar', 'scholarli', 'scholarship', 'school', 'schwartz', 'sci', 'scienc', 'scientif', 'scientist', 'sco', 'scoop', 'scope', 'score', 'scorer', 'scorn', 'scot', 'scotland', 'scott', 'scout', 'scrambl', 'scrap', 'scratch', 'scream', 'screen', 'screw', 'scribe', 'script', 'scriptur', 'scriptura', 'scroll', 'scrutini', 'scsi', 'scum', 'sd', 'sda', 'sdio', 'sdk', 'se', 'sea', 'seagat', 'seal', 'seam', 'sean', 'search', 'season', 'seat', 'seattl', 'sebastian', 'sec', 'seca', 'second', 'secondari', 'secondli', 'secreci', 'secret', 'secretari', 'secretli', 'sect', 'section', 'sector', 'secular', 'secur', 'sed', 'sedan', 'see', 'seed', 'seek', 'seem', 'seemingli', 'sega', 'segment', 'sehari', 'seiz', 'seizur', 'sel', 'selann', 'seldom', 'select', 'self', 'selfish', 'sell', 'seller', 'semak', 'semant', 'semi', 'semiconductor', 'seminar', 'semtex', 'senat', 'senc', 'send', 'sender', 'senior', 'sens', 'sensat', 'senseless', 'sensibl', 'sensit', 'sensor', 'sentenc', 'sentiment', 'sentra', 'sep', 'separ', 'seper', 'sepinw', 'sepinwal', 'septemb', 'sequenc', 'sera', 'serb', 'serbia', 'serbian', 'serdar', 'seri', 'serial', 'seriou', 'serious', 'sermon', 'serpent', 'serv', 'servant', 'server', 'servic', 'session', 'set', 'seth', 'settl', 'settlement', 'setup', 'seven', 'seventh', 'sever', 'sex', 'sexist', 'sexual', 'sez', 'sf', 'sgi', 'sh', 'shack', 'shade', 'shadow', 'shafer', 'shaft', 'shah', 'shai', 'shaig', 'shake', 'shaki', 'shall', 'shallow', 'shalt', 'shame', 'shamir', 'shanahan', 'shannon', 'shanti', 'shape', 'shapiro', 'share', 'sharewar', 'shark', 'sharon', 'sharp', 'sharpli', 'shatter', 'shaw', 'shawn', 'she', 'shea', 'shear', 'shed', 'sheep', 'sheer', 'sheesh', 'sheet', 'sheffield', 'shelf', 'shell', 'shelter', 'shepherd', 'sherri', 'sherzer', 'shield', 'shift', 'shifter', 'shin', 'shine', 'ship', 'shipment', 'shirt', 'shit', 'shnekendorf', 'sho', 'shock', 'shoe', 'shoei', 'shoot', 'shooter', 'shootout', 'shop', 'shopper', 'shore', 'short', 'shorten', 'shorter', 'shortli', 'shortstop', 'shostack', 'shot', 'shotgun', 'should', 'shoulder', 'shout', 'shove', 'shovel', 'show', 'shower', 'shred', 'shrink', 'shuffl', 'shut', 'shutdown', 'shutout', 'shutter', 'shuttl', 'shz', 'si', 'sic', 'sick', 'sicken', 'sid', 'side', 'sidewalk', 'sieg', 'siemen', 'siemon', 'sierra', 'sig', 'siggraph', 'sigh', 'sight', 'sigma', 'sign', 'signal', 'signatur', 'signific', 'significantli', 'sigsauer', 'sigurdsson', 'silenc', 'silent', 'silicon', 'silli', 'silver', 'silverlin', 'similar', 'similarli', 'simm', 'simmon', 'simon', 'simpl', 'simpler', 'simplest', 'simpli', 'simplic', 'simplifi', 'simplist', 'simpson', 'simul', 'simultan', 'sin', 'sinc', 'sincer', 'sing', 'singapor', 'singer', 'singl', 'sink', 'sinner', 'sinu', 'sinus', 'sir', 'sister', 'sit', 'site', 'situat', 'six', 'sixsmith', 'sixteen', 'sixth', 'sixti', 'size', 'sj', 'sk', 'skate', 'skeptic', 'sketch', 'skew', 'ski', 'skidmor', 'skill', 'skin', 'skip', 'skipjack', 'sky', 'sl', 'slack', 'slam', 'slander', 'slap', 'slash', 'slaughter', 'slave', 'slaveri', 'slay', 'sledd', 'sleep', 'sleev', 'slegg', 'slg', 'slice', 'slick', 'slide', 'slider', 'slight', 'slightest', 'slightli', 'slip', 'slipperi', 'slmr', 'sloan', 'slope', 'sloppi', 'slot', 'slow', 'slower', 'slowli', 'slug', 'slump', 'sm', 'smack', 'smale', 'small', 'smaller', 'smallest', 'smart', 'smartdrv', 'smash', 'smb', 'smear', 'smell', 'smile', 'smiley', 'smith', 'smithsonian', 'smoke', 'smoker', 'smooth', 'smoother', 'smoothli', 'smtp', 'smuggl', 'smuggler', 'smyth', 'snail', 'snake', 'snap', 'snatch', 'sneak', 'snichol', 'snider', 'snip', 'sniper', 'snoop', 'snot', 'snow', 'snyder', 'so', 'soak', 'soap', 'sober', 'soc', 'soccer', 'social', 'socialist', 'societ', 'societi', 'sociolog', 'sock', 'socket', 'sod', 'soderstrom', 'soft', 'softwar', 'soggi', 'soil', 'sol', 'sola', 'solar', 'solari', 'sold', 'solder', 'soldier', 'sole', 'solicit', 'solid', 'solo', 'solomon', 'solut', 'solv', 'somalia', 'some', 'somebodi', 'someday', 'somehow', 'someon', 'someplac', 'someth', 'sometim', 'somewhat', 'somewher', 'son', 'song', 'soni', 'sonic', 'sonoma', 'soon', 'sooner', 'sophist', 'sophomor', 'sore', 'sorenson', 'sorri', 'sort', 'sorta', 'soul', 'sound', 'soundblast', 'soup', 'sourc', 'south', 'southern', 'southwest', 'southwestern', 'souvien', 'sovereignti', 'soviet', 'sox', 'sp', 'space', 'spacecraft', 'spaceflight', 'spain', 'span', 'spanish', 'spar', 'sparc', 'sparcstat', 'spare', 'spark', 'sparki', 'spatial', 'spdcc', 'speak', 'speaker', 'spec', 'speci', 'special', 'specialist', 'specialti', 'specif', 'specifi', 'spectacular', 'spectat', 'spectr', 'spectrum', 'specul', 'speech', 'speed', 'speedi', 'speedo', 'speedomet', 'speedstar', 'spell', 'spencer', 'spend', 'sphere', 'spheric', 'spi', 'spike', 'spill', 'spin', 'spinal', 'spine', 'spinoff', 'spira', 'spirit', 'spiritu', 'spit', 'spite', 'splice', 'splinter', 'split', 'spock', 'spoil', 'spokesman', 'spokesperson', 'sponsor', 'spontan', 'spook', 'sport', 'sporti', 'spot', 'spous', 'spout', 'spp', 'spray', 'spread', 'spreadsheet', 'spring', 'springfield', 'sprite', 'spss', 'spur', 'sq', 'squad', 'squar', 'squash', 'squat', 'squeez', 'squibb', 'squid', 'srb', 'sri', 'ss', 'ssd', 'ssf', 'ssto', 'st', 'stab', 'stabil', 'stabl', 'stack', 'stacker', 'stadium', 'staff', 'staffan', 'stafford', 'stag', 'stage', 'stagger', 'stake', 'stalin', 'stall', 'stamp', 'stampfli', 'stan', 'stanc', 'stand', 'standard', 'standoff', 'standpoint', 'stanford', 'stankowitz', 'stanley', 'star', 'starfleet', 'stark', 'starr', 'start', 'starter', 'startl', 'startup', 'starv', 'stat', 'state', 'statement', 'static', 'station', 'statist', 'statu', 'statut', 'stave', 'stay', 'std', 'steadi', 'steadili', 'steal', 'stealth', 'steam', 'steel', 'steep', 'steer', 'stefan', 'stein', 'steiner', 'steinli', 'steinn', 'stem', 'step', 'steph', 'stephan', 'stephen', 'stephenson', 'stereo', 'stereotyp', 'steril', 'stern', 'sternlight', 'steroid', 'steve', 'steveg', 'steveh', 'steven', 'steveth', 'stewart', 'stick', 'sticker', 'sticki', 'stiff', 'still', 'stimul', 'stimulu', 'sting', 'stink', 'stir', 'stl', 'stock', 'stockholm', 'stockpil', 'stolen', 'stomach', 'stone', 'stoni', 'stoop', 'stop', 'storag', 'store', 'stori', 'storm', 'stove', 'straight', 'straighten', 'straightforward', 'strain', 'strait', 'stramer', 'strand', 'strang', 'stranger', 'strap', 'strateg', 'strategi', 'stratu', 'straw', 'strawberri', 'strawman', 'stray', 'streak', 'stream', 'street', 'strength', 'strengthen', 'stress', 'stretch', 'strict', 'stricter', 'strictli', 'stride', 'strider', 'strife', 'strike', 'string', 'strip', 'strive', 'strnlght', 'stroke', 'strong', 'stronger', 'strongest', 'strongli', 'structur', 'struggl', 'stssdxb', 'stuart', 'stud', 'student', 'studi', 'studio', 'studley', 'stuff', 'stumbl', 'stunt', 'stupid', 'style', 'su', 'sub', 'subaru', 'subdirectori', 'subdivis', 'submarin', 'submiss', 'submit', 'subroutin', 'subscrib', 'subscript', 'subsequ', 'subset', 'subsid', 'subsidi', 'subsidiari', 'substanc', 'substanti', 'substitut', 'subsystem', 'subtl', 'subtract', 'suburb', 'suburban', 'subvert', 'succeed', 'success', 'successor', 'such', 'suck', 'sucker', 'sudburi', 'sudden', 'suddenli', 'sue', 'suffer', 'suffic', 'suffici', 'sugar', 'suggest', 'sui', 'suicid', 'suit', 'suitabl', 'sullivan', 'sum', 'sumgait', 'summar', 'summari', 'summer', 'summon', 'sun', 'sunday', 'sundin', 'suni', 'sunlight', 'sunni', 'sunnyval', 'suno', 'sunris', 'sunroof', 'sunset', 'sunsoft', 'sunview', 'super', 'superb', 'supercomput', 'superfici', 'superhighway', 'superior', 'supernatur', 'supersed', 'superstar', 'superstit', 'supervis', 'supervisor', 'supplement', 'suppli', 'supplier', 'support', 'suppos', 'supposedli', 'suppress', 'supra', 'suprem', 'supris', 'sure', 'surfac', 'surfer', 'surg', 'surgeon', 'surgeri', 'surgic', 'surpass', 'surplu', 'surpris', 'surprisingli', 'surrend', 'surround', 'surveil', 'survey', 'surviv', 'survivor', 'susan', 'suscept', 'suspect', 'suspend', 'suspens', 'suspici', 'suspicion', 'sustain', 'suter', 'sutherland', 'sutter', 'suv', 'suzuki', 'svga', 'svoboda', 'sw', 'swallow', 'swap', 'swear', 'sweat', 'sweden', 'swedish', 'sweep', 'sweet', 'sweeti', 'swell', 'swim', 'swing', 'swiss', 'switch', 'switzerland', 'sword', 'sx', 'sy', 'sydney', 'symbol', 'symmetr', 'sympathi', 'symptom', 'sync', 'synchron', 'synchrotron', 'syndrom', 'synonym', 'synopt', 'syntax', 'synthes', 'synthesi', 'synthet', 'syquest', 'syria', 'syrian', 'sysadmin', 'sysmgr', 'system', 'systemat', 'ta', 'tab', 'tabl', 'tablet', 'tack', 'tactic', 'tad', 'tag', 'taglin', 'tail', 'taint', 'taiwan', 'take', 'taken', 'taker', 'tale', 'talent', 'talk', 'tall', 'tamamidi', 'tammi', 'tampa', 'tamper', 'tan', 'tangibl', 'tank', 'tao', 'tap', 'tape', 'tar', 'target', 'tartar', 'task', 'tast', 'tate', 'tatoo', 'taunt', 'tauru', 'tautolog', 'tavar', 'tax', 'taxat', 'taxi', 'taxpay', 'taylor', 'tb', 'tc', 'tclock', 'tcmay', 'td', 'tdawson', 'te', 'tea', 'teach', 'teacher', 'team', 'tear', 'tech', 'technic', 'technician', 'techniqu', 'technisch', 'technolog', 'ted', 'tedebear', 'tedward', 'tee', 'teel', 'teemu', 'teen', 'teenag', 'teeth', 'teh', 'tek', 'tektronix', 'tel', 'telco', 'telecom', 'telecommun', 'telepathi', 'telephon', 'telephoni', 'telescop', 'televis', 'televison', 'telex', 'tell', 'telnet', 'telo', 'temp', 'temper', 'temperatur', 'tempest', 'templ', 'templat', 'templeton', 'tempor', 'temporari', 'temporarili', 'tempt', 'temptat', 'ten', 'tenant', 'tend', 'tendenc', 'tender', 'tennesse', 'tenni', 'tens', 'tension', 'tent', 'tenth', 'tercel', 'term', 'termin', 'terminolog', 'terrac', 'terrain', 'terresteri', 'terri', 'terribl', 'terrifi', 'territori', 'terror', 'terrorist', 'terziogl', 'terzioglu', 'tesla', 'test', 'testament', 'tester', 'testifi', 'testimoni', 'tex', 'texa', 'text', 'textbook', 'textur', 'tg', 'tgv', 'th', 'tha', 'than', 'thank', 'thanx', 'tharp', 'that', 'the', 'theater', 'theatr', 'thee', 'theft', 'their', 'theism', 'theist', 'them', 'theme', 'then', 'theodor', 'theolog', 'theologian', 'theoret', 'theori', 'theorist', 'ther', 'therapi', 'there', 'thereaft', 'therebi', 'therefor', 'therein', 'thereof', 'thermal', 'these', 'thesi', 'they', 'thi', 'thick', 'thief', 'thier', 'thigh', 'thigpen', 'thin', 'thine', 'thing', 'think', 'thinker', 'third', 'thirst', 'thirteen', 'thirti', 'tho', 'thoma', 'thomasp', 'thompson', 'thomson', 'thor', 'thorn', 'thorough', 'thoroughli', 'thorson', 'those', 'thou', 'though', 'thought', 'thousand', 'thread', 'threat', 'threaten', 'three', 'threshold', 'thrill', 'thrive', 'throat', 'throne', 'throttl', 'through', 'throughout', 'throughput', 'throw', 'thrower', 'thru', 'thrust', 'thruster', 'thu', 'thug', 'thumb', 'thunder', 'thursday', 'thwart', 'thx', 'thyagi', 'ti', 'tick', 'ticket', 'tickl', 'tie', 'tiff', 'tiger', 'tight', 'tighten', 'tightli', 'til', 'tile', 'till', 'tilt', 'tim', 'time', 'timeout', 'timer', 'timmbak', 'timmon', 'timothi', 'tin', 'tini', 'tion', 'tip', 'tire', 'tissu', 'titan', 'titl', 'tkachuk', 'tm', 'tn', 'to', 'toal', 'tobacco', 'tobia', 'tocchet', 'tod', 'todamhyp', 'today', 'todd', 'toe', 'togeth', 'toilet', 'token', 'tokyo', 'toler', 'toll', 'tom', 'tomb', 'tomh', 'tommi', 'tomorrow', 'ton', 'tone', 'toner', 'tongu', 'toni', 'tonight', 'too', 'tool', 'toolkit', 'top', 'topic', 'toplevel', 'tor', 'torah', 'torch', 'toronto', 'torqu', 'torr', 'tortur', 'toshiba', 'toss', 'total', 'totalitarian', 'touch', 'tough', 'tour', 'tourist', 'tournament', 'tout', 'tove', 'tow', 'toward', 'tower', 'town', 'toxic', 'toxin', 'toy', 'toyota', 'tp', 'tq', 'tr', 'trace', 'tracer', 'track', 'tract', 'trade', 'trader', 'tradit', 'traffic', 'tragedi', 'tragic', 'trail', 'trailer', 'train', 'trait', 'trajan', 'trajectori', 'trampl', 'tran', 'tranni', 'tranquil', 'transact', 'transceiv', 'transcend', 'transcript', 'transfer', 'transform', 'transgress', 'transient', 'transistor', 'transit', 'translat', 'transmiss', 'transmit', 'transmitt', 'transpar', 'transplant', 'transport', 'trap', 'trapdoor', 'trash', 'travel', 'travi', 'tray', 'tread', 'treason', 'treasur', 'treasuri', 'treat', 'treati', 'treatment', 'tree', 'trek', 'tremend', 'trench', 'trend', 'trent', 'trevor', 'tri', 'trial', 'triangl', 'triangul', 'tribe', 'tribun', 'trick', 'tricki', 'trickl', 'trident', 'trigger', 'trillion', 'trim', 'triniti', 'trinitron', 'trip', 'tripe', 'tripl', 'tripoli', 'triumf', 'triumph', 'trivia', 'trivial', 'troop', 'trooper', 'trophi', 'troubl', 'troy', 'truck', 'true', 'truecolor', 'trueli', 'truetyp', 'truli', 'trumpet', 'trunk', 'trust', 'trustworthi', 'truth', 'trw', 'tseng', 'tsn', 'tsr', 'tt', 'tte', 'tti', 'ttl', 'tu', 'tub', 'tube', 'tucson', 'tue', 'tuesday', 'tuff', 'tuft', 'tuinstra', 'tuition', 'tulsa', 'tune', 'tunnel', 'turbo', 'ture', 'turgeon', 'turk', 'turkey', 'turkish', 'turkiy', 'turn', 'turner', 'turpin', 'turtl', 'tutori', 'tv', 'tvtwm', 'twelv', 'twenti', 'twice', 'twin', 'twist', 'twm', 'two', 'tx', 'ty', 'type', 'typic', 'typo', 'tyranni', 'tyrant', 'tyre', 'tz', 'ua', 'uaccess', 'uart', 'ub', 'ubiquit', 'uc', 'ucbvax', 'ucc', 'uci', 'ucla', 'ucsd', 'ud', 'ug', 'ugli', 'uh', 'ui', 'uiuc', 'uj', 'uk', 'ulf', 'ultim', 'ultra', 'ultrastor', 'ultrix', 'um', 'umm', 'ummm', 'umpir', 'un', 'unabl', 'unaccept', 'unambigu', 'unanim', 'unapprov', 'unarm', 'unauthent', 'unauthor', 'unawar', 'unbeliev', 'unbias', 'unbreak', 'unc', 'uncertain', 'uncertainti', 'unchang', 'uncl', 'unclear', 'uncomfort', 'uncommon', 'uncompress', 'uncondit', 'unconstitut', 'uncontrol', 'unconvent', 'uncov', 'und', 'undefin', 'undeni', 'under', 'underdog', 'underestim', 'undergo', 'underground', 'underli', 'underlin', 'undermin', 'underneath', 'understand', 'undertak', 'underway', 'undesir', 'undisput', 'undo', 'undocu', 'undoubtedli', 'unemploy', 'unequivoc', 'unexpect', 'unfair', 'unfamiliar', 'unforgiven', 'unfortun', 'unfound', 'unhappi', 'uni', 'unifi', 'uniform', 'uniformli', 'unintent', 'union', 'uniqu', 'unisql', 'unit', 'uniti', 'univ', 'univers', 'universit', 'universitaet', 'unix', 'unjust', 'unknown', 'unlaw', 'unless', 'unlik', 'unlimit', 'unload', 'unlock', 'unnecessari', 'unnecessarili', 'unoc', 'unopen', 'unorgan', 'unpleas', 'unplug', 'unpopular', 'unpreced', 'unpredict', 'unread', 'unreason', 'unrecogn', 'unregist', 'unrel', 'unreli', 'unsaf', 'unsecur', 'unsign', 'unstabl', 'unsubstanti', 'unsuccess', 'unsupport', 'until', 'unto', 'untru', 'unus', 'unusu', 'unwant', 'unwil', 'unworthi', 'uo', 'up', 'upcom', 'updat', 'updatedir', 'upgrad', 'uphold', 'upi', 'upload', 'upon', 'upper', 'uppsala', 'upright', 'upris', 'upset', 'upstair', 'upto', 'upward', 'ur', 'uranium', 'uranu', 'urban', 'urbana', 'urbanachampaign', 'urg', 'urgent', 'us', 'usa', 'usabl', 'usaf', 'usag', 'usc', 'use', 'useful', 'useless', 'usenet', 'user', 'usernam', 'usmail', 'usp', 'usrobot', 'ussr', 'usual', 'ut', 'utah', 'utexa', 'util', 'utopian', 'utrecht', 'utter', 'utterli', 'utzoo', 'uucp', 'uudecod', 'uuencod', 'uunet', 'uupcb', 'uv', 'uw', 'uzi', 'va', 'vac', 'vacat', 'vaccin', 'vacuum', 'vagu', 'vain', 'valentin', 'valeri', 'valid', 'valley', 'valu', 'valuabl', 'valv', 'van', 'vancouv', 'vandal', 'vanderbi', 'vanderbyl', 'vanheyningen', 'vanish', 'vapor', 'vari', 'variabl', 'variant', 'variat', 'varieti', 'variou', 'vast', 'vastli', 'vat', 'vaux', 'vax', 'vbv', 'vcr', 'vd', 'veal', 'vector', 'vega', 'veget', 'vegetarian', 'vehicl', 'veil', 'vein', 'velasco', 'veloc', 'vendor', 'vener', 'veng', 'venom', 'vent', 'ventur', 'ventura', 'venu', 'ver', 'vera', 'verbal', 'verbatim', 'verbeek', 'verdict', 'veri', 'verif', 'verifi', 'vernon', 'vers', 'versa', 'version', 'versu', 'vertic', 'vesa', 'vessel', 'vesselin', 'vest', 'vesterman', 'vet', 'veteran', 'veto', 'vezina', 'vga', 'vh', 'vhf', 'vi', 'via', 'viabl', 'vibrat', 'vic', 'vice', 'vicin', 'viciou', 'victim', 'victor', 'victori', 'victoria', 'video', 'videotap', 'vienna', 'vietnam', 'view', 'viewer', 'viewpoint', 'vike', 'villag', 'vin', 'vinc', 'vincent', 'vintag', 'vinyl', 'viola', 'violat', 'violenc', 'violent', 'viper', 'virgilio', 'virgin', 'virginia', 'viril', 'virtu', 'virtual', 'viru', 'visa', 'visibl', 'vision', 'visit', 'visitor', 'visual', 'vital', 'vitamin', 'vl', 'vladimir', 'vladimirov', 'vlb', 'vlsi', 'vm', 'vnet', 'vnew', 'vo', 'vocal', 'voic', 'void', 'vol', 'volt', 'voltag', 'volum', 'volunt', 'voluntari', 'volvo', 'vomit', 'von', 'vote', 'voter', 'vow', 'vox', 'voyag', 'vp', 'vr', 'vram', 'vs', 'vt', 'vu', 'vulcan', 'vulner', 'vw', 'wa', 'wacko', 'waco', 'wade', 'waffl', 'wag', 'wage', 'wager', 'wagner', 'wagon', 'wail', 'wait', 'waiver', 'wake', 'wale', 'walk', 'walker', 'wall', 'walla', 'wallac', 'wallach', 'wallet', 'wallpap', 'walsh', 'walt', 'walter', 'wan', 'wander', 'wang', 'wangr', 'want', 'war', 'ward', 'ware', 'warfar', 'wari', 'warm', 'warn', 'warner', 'warp', 'warrant', 'warranti', 'warren', 'warrent', 'warrior', 'warsaw', 'wash', 'washer', 'washington', 'wast', 'watch', 'wate', 'water', 'waterloo', 'watson', 'watt', 'wave', 'waveform', 'wax', 'way', 'wayn', 'wb', 'wc', 'wcl', 'wd', 'wdstarr', 'we', 'weak', 'weaken', 'weaker', 'wealth', 'wealthi', 'weapon', 'weaponri', 'wear', 'weari', 'weather', 'weaver', 'web', 'webb', 'weber', 'webster', 'wed', 'wednesday', 'wee', 'weed', 'week', 'weekend', 'weekli', 'weeni', 'weep', 'weigh', 'weight', 'weird', 'weiss', 'weitek', 'welch', 'welcom', 'weld', 'welfar', 'well', 'wellington', 'were', 'wesley', 'west', 'western', 'wet', 'wfan', 'wh', 'whaler', 'whaley', 'wharfi', 'what', 'whatev', 'whatsoev', 'wheat', 'wheel', 'wheeli', 'when', 'whenev', 'where', 'wherea', 'wherebi', 'wherein', 'wherev', 'whether', 'whi', 'which', 'whichev', 'while', 'whine', 'whip', 'whistl', 'whit', 'white', 'whitmor', 'who', 'whoever', 'whole', 'wholesal', 'wholli', 'whore', 'whose', 'wi', 'wibbl', 'wick', 'wide', 'wider', 'widespread', 'widget', 'width', 'wiener', 'wierd', 'wife', 'wil', 'wild', 'wilder', 'will', 'willi', 'william', 'willing', 'willingli', 'wilmington', 'wilson', 'win', 'winbench', 'wind', 'window', 'windshield', 'wine', 'winfax', 'winfield', 'wing', 'wingat', 'winmark', 'winner', 'winnipeg', 'winona', 'winter', 'winword', 'wipe', 'wire', 'wirefram', 'wireless', 'wiretap', 'wisconsin', 'wisdom', 'wise', 'wish', 'wit', 'witch', 'with', 'withdraw', 'wither', 'withhold', 'within', 'without', 'withstand', 'wittgenstein', 'wive', 'wizard', 'wk', 'wlsmith', 'wm', 'wn', 'wo', 'wod', 'woe', 'wolf', 'wolv', 'woman', 'women', 'won', 'wonder', 'wong', 'wont', 'wood', 'wooden', 'woodi', 'woodward', 'woof', 'woop', 'worcest', 'word', 'wordperfect', 'work', 'workabl', 'workaround', 'worker', 'workgroup', 'workplac', 'workshop', 'workspac', 'workstat', 'world', 'worldwid', 'worm', 'worri', 'wors', 'worship', 'worshipp', 'worst', 'worth', 'worthi', 'worthless', 'worthwhil', 'would', 'wound', 'wow', 'wp', 'wq', 'wr', 'wrap', 'wrat', 'wrath', 'wreck', 'wrench', 'wright', 'wrigley', 'wrist', 'write', 'writer', 'written', 'wrong', 'wrt', 'ws', 'wt', 'wtc', 'wtm', 'wtte', 'wu', 'wuarchiv', 'ww', 'wwi', 'wwii', 'wwiz', 'xannounc', 'xavier', 'xcopyarea', 'xcreatewindow', 'xdm', 'xenix', 'xerox', 'xhost', 'xi', 'ximag', 'ximenez', 'xl', 'xlib', 'xlyx', 'xm', 'xmodmap', 'xor', 'xpert', 'xputimag', 'xserver', 'xsun', 'xt', 'xterm', 'xtian', 'xtwindow', 'xv', 'xview', 'xwd', 'xwindow', 'xx', 'xxx', 'xyz', 'ya', 'yah', 'yale', 'yamaha', 'yang', 'yank', 'yanke', 'yard', 'yassin', 'ye', 'yea', 'yeah', 'year', 'yearli', 'yeast', 'yee', 'yeh', 'yell', 'yellow', 'yep', 'yer', 'yerevan', 'yesterday', 'yet', 'yield', 'yigal', 'yn', 'yo', 'york', 'you', 'young', 'younger', 'youngster', 'youngstown', 'yount', 'your', 'youth', 'yr', 'ysebaert', 'yu', 'yugoslavia', 'yup', 'yzerman', 'zbib', 'zealand', 'zen', 'zeo', 'zephyr', 'zero', 'zeu', 'zhamnov', 'zhenghao', 'zinc', 'zionism', 'zionist', 'zip', 'zisfein', 'zone', 'zoolog', 'zoom', 'zubov', 'zurich', 'zyeh', 'zz']\n"
          ],
          "name": "stdout"
        }
      ]
    },
    {
      "cell_type": "code",
      "metadata": {
        "id": "A_xZw2FVSPLC",
        "colab_type": "code",
        "colab": {
          "base_uri": "https://localhost:8080/",
          "height": 52
        },
        "outputId": "93b4feaa-0c79-4f2d-938b-45c3474e5c88"
      },
      "source": [
        "print(vocabulary[641])\n",
        "print(count_vect.vocabulary_[\"bank\"])"
      ],
      "execution_count": 20,
      "outputs": [
        {
          "output_type": "stream",
          "text": [
            "bank\n",
            "641\n"
          ],
          "name": "stdout"
        }
      ]
    },
    {
      "cell_type": "code",
      "metadata": {
        "id": "sq_WEwkaSRPa",
        "colab_type": "code",
        "colab": {}
      },
      "source": [
        "count_vect = CountVectorizer(max_df=0.8,min_df=100)\n",
        "X_train_data=count_vect.fit_transform(articulos_filtrados) #Aprende el vocabulario y le asigna un código a cada palabra"
      ],
      "execution_count": 0,
      "outputs": []
    },
    {
      "cell_type": "code",
      "metadata": {
        "id": "rA-63YvlSUZO",
        "colab_type": "code",
        "colab": {
          "base_uri": "https://localhost:8080/",
          "height": 34
        },
        "outputId": "bf28a979-ca94-42a5-b131-6164732138e2"
      },
      "source": [
        "X_train_data.shape #Para cada documento hay un vector de ocurrencias"
      ],
      "execution_count": 22,
      "outputs": [
        {
          "output_type": "execute_result",
          "data": {
            "text/plain": [
              "(11314, 1924)"
            ]
          },
          "metadata": {
            "tags": []
          },
          "execution_count": 22
        }
      ]
    },
    {
      "cell_type": "code",
      "metadata": {
        "id": "8GLEYki0SWjG",
        "colab_type": "code",
        "colab": {
          "base_uri": "https://localhost:8080/",
          "height": 140
        },
        "outputId": "1bba0a06-e2e6-41f2-c554-ef28f66390b2"
      },
      "source": [
        "X_train_data.toarray() #Es una sparse matrix, vamos a expandirla"
      ],
      "execution_count": 23,
      "outputs": [
        {
          "output_type": "execute_result",
          "data": {
            "text/plain": [
              "array([[0, 0, 0, ..., 0, 0, 0],\n",
              "       [0, 0, 0, ..., 0, 0, 0],\n",
              "       [0, 0, 0, ..., 0, 0, 0],\n",
              "       ...,\n",
              "       [0, 0, 0, ..., 0, 0, 0],\n",
              "       [0, 0, 0, ..., 0, 0, 0],\n",
              "       [0, 0, 0, ..., 0, 0, 0]])"
            ]
          },
          "metadata": {
            "tags": []
          },
          "execution_count": 23
        }
      ]
    },
    {
      "cell_type": "code",
      "metadata": {
        "id": "O_-jRK1QSYgf",
        "colab_type": "code",
        "colab": {
          "base_uri": "https://localhost:8080/",
          "height": 34
        },
        "outputId": "88f1f202-9888-418e-e50b-c29e08fcfcb2"
      },
      "source": [
        "X_train_data.toarray()[0,:].argmax() #Veamos a qué palabra pertenece la máxima ocurrencia en el primer artíclo"
      ],
      "execution_count": 24,
      "outputs": [
        {
          "output_type": "execute_result",
          "data": {
            "text/plain": [
              "262"
            ]
          },
          "metadata": {
            "tags": []
          },
          "execution_count": 24
        }
      ]
    },
    {
      "cell_type": "code",
      "metadata": {
        "id": "g2LgMVKjSb04",
        "colab_type": "code",
        "colab": {
          "base_uri": "https://localhost:8080/",
          "height": 34
        },
        "outputId": "e160e022-2ccb-49a8-e3de-fdce73b7b405"
      },
      "source": [
        "count_vect.vocabulary_[\"car\"] #La máxima ocurrencia pertenece a \"car\""
      ],
      "execution_count": 25,
      "outputs": [
        {
          "output_type": "execute_result",
          "data": {
            "text/plain": [
              "262"
            ]
          },
          "metadata": {
            "tags": []
          },
          "execution_count": 25
        }
      ]
    },
    {
      "cell_type": "code",
      "metadata": {
        "id": "g5c434XBSeCp",
        "colab_type": "code",
        "colab": {}
      },
      "source": [
        "import pandas as pd"
      ],
      "execution_count": 0,
      "outputs": []
    },
    {
      "cell_type": "code",
      "metadata": {
        "id": "WGQa_45nSgAA",
        "colab_type": "code",
        "colab": {
          "base_uri": "https://localhost:8080/",
          "height": 157
        },
        "outputId": "48c64ab4-3360-47e2-9ee3-a7c98f8aaba0"
      },
      "source": [
        "alpha=1.0\n",
        "columns=count_vect.get_feature_names()\n",
        "df=pd.DataFrame(X_train_data.toarray(), columns=columns) # Se suma alpha a un artículo para que el log-likelihood no de -inf\n",
        "print(df.head())"
      ],
      "execution_count": 27,
      "outputs": [
        {
          "output_type": "stream",
          "text": [
            "   abil  abl  about  absolut  abus  academ  ...  yet  york  you  young  your  zero\n",
            "0     0    0      0        0     0       0  ...    0     0    0      0     0     0\n",
            "1     0    0      0        0     0       0  ...    0     0    0      0     0     0\n",
            "2     0    0      0        0     0       0  ...    0     0    0      0     0     0\n",
            "3     0    0      0        0     0       0  ...    0     0    0      0     0     0\n",
            "4     0    0      0        0     0       0  ...    1     0    0      0     0     0\n",
            "\n",
            "[5 rows x 1924 columns]\n"
          ],
          "name": "stdout"
        }
      ]
    },
    {
      "cell_type": "code",
      "metadata": {
        "id": "WgFY2CGnSlPF",
        "colab_type": "code",
        "colab": {
          "base_uri": "https://localhost:8080/",
          "height": 157
        },
        "outputId": "5f8f51e8-ee04-4abd-d0e6-cdb4e8e4f9cc"
      },
      "source": [
        "df[\"target_\"]=twenty_train.target\n",
        "print(df.head())"
      ],
      "execution_count": 28,
      "outputs": [
        {
          "output_type": "stream",
          "text": [
            "   abil  abl  about  absolut  abus  ...  you  young  your  zero  target_\n",
            "0     0    0      0        0     0  ...    0      0     0     0        7\n",
            "1     0    0      0        0     0  ...    0      0     0     0        4\n",
            "2     0    0      0        0     0  ...    0      0     0     0        4\n",
            "3     0    0      0        0     0  ...    0      0     0     0        1\n",
            "4     0    0      0        0     0  ...    0      0     0     0       14\n",
            "\n",
            "[5 rows x 1925 columns]\n"
          ],
          "name": "stdout"
        }
      ]
    },
    {
      "cell_type": "code",
      "metadata": {
        "id": "-NGde386SsQu",
        "colab_type": "code",
        "colab": {
          "base_uri": "https://localhost:8080/",
          "height": 1000
        },
        "outputId": "dac33871-d524-4b39-859b-a38a2e4ee0e6"
      },
      "source": [
        "import numpy as np\n",
        "from matplotlib import pyplot as plt\n",
        "# Importo el paquete para graficar\n",
        "from matplotlib import pyplot as plt\n",
        "\n",
        "N=20 #Cantidad de categorías a filtrar para calcular las probabilidades condicionales\n",
        "\n",
        "p_priori=list() #Inicializo una lista para guardar los vectores de probabilidad de cada palabra, para cada categoría\n",
        "p_model=list() #Inicializo una lista para guardar la probabilidad de ocurrencia de cada categoría\n",
        "\n",
        "num_arts=df.values.shape[0] #Me quedo con la cantidad de artículos\n",
        "num_cols=df.values.shape[1]-1 #Me quedo con la cantidad de palabras en el vocabulario\n",
        "print(\"Cantidad de palabras en el vocabulario:\")\n",
        "print(num_cols)\n",
        "\n",
        "plt.figure(figsize=(20, 5)) #Inicializo el gráfico sobre el que voy a dibujar todas las distribuciones\n",
        "for i in range(20):\n",
        "    p_aux=sum(df.loc[df['target_'] == i].drop('target_',axis=1).values)+alpha #Sumo las ocurrencias para la categoría i y le sumo a todos los valores alpha, para no tener probabilidad cero\n",
        "    print(\"El vector de ocurrencias para la categoría {} cuyo largo es {} es:\".format(i,len(p_aux)))\n",
        "    print(p_aux)\n",
        "    print(\"\\nLog-probabilidad de ocurrencia de cada palabra en el vocabulario, para la categoría:{}\".format(twenty_train[\"target_names\"][i]))\n",
        "    print(p_aux/sum(p_aux))\n",
        "    p_priori.append(np.log(p_aux/sum(p_aux)))\n",
        "    print(\"\\nLog-probabilidad de ocurrencia de la categoría: {}\".format(twenty_train[\"target_names\"][i]))\n",
        "    print(df.loc[df['target_'] == i].shape[0]/num_arts)\n",
        "    p_model.append(np.log(df.loc[df['target_'] == i].shape[0]/num_arts))\n",
        "     # Tamaño del gráfico\n",
        "    plt.plot(p_priori[-1]) # Grafico\n",
        "    #plt.title(title)\n",
        "plt.show()"
      ],
      "execution_count": 29,
      "outputs": [
        {
          "output_type": "stream",
          "text": [
            "Cantidad de palabras en el vocabulario:\n",
            "1924\n",
            "El vector de ocurrencias para la categoría 0 cuyo largo es 1924 es:\n",
            "[26. 51.  3. ... 23. 63.  4.]\n",
            "\n",
            "Log-probabilidad de ocurrencia de cada palabra en el vocabulario, para la categoría:alt.atheism\n",
            "[3.87458274e-04 7.60014306e-04 4.47067239e-05 ... 3.42751550e-04\n",
            " 9.38841202e-04 5.96089652e-05]\n",
            "\n",
            "Log-probabilidad de ocurrencia de la categoría: alt.atheism\n",
            "0.04242531377054976\n",
            "El vector de ocurrencias para la categoría 1 cuyo largo es 1924 es:\n",
            "[ 9. 62.  5. ...  9. 28.  5.]\n",
            "\n",
            "Log-probabilidad de ocurrencia de cada palabra en el vocabulario, para la categoría:comp.graphics\n",
            "[1.74010557e-04 1.19873939e-03 9.66725315e-05 ... 1.74010557e-04\n",
            " 5.41366176e-04 9.66725315e-05]\n",
            "\n",
            "Log-probabilidad de ocurrencia de la categoría: comp.graphics\n",
            "0.05161746508750221\n",
            "El vector de ocurrencias para la categoría 2 cuyo largo es 1924 es:\n",
            "[13. 41.  8. ...  6. 27.  5.]\n",
            "\n",
            "Log-probabilidad de ocurrencia de cada palabra en el vocabulario, para la categoría:comp.os.ms-windows.misc\n",
            "[0.00027294 0.0008608  0.00016796 ... 0.00012597 0.00056687 0.00010498]\n",
            "\n",
            "Log-probabilidad de ocurrencia de la categoría: comp.os.ms-windows.misc\n",
            "0.0522361675799894\n",
            "El vector de ocurrencias para la categoría 3 cuyo largo es 1924 es:\n",
            "[12. 68.  4. ...  4. 17.  7.]\n",
            "\n",
            "Log-probabilidad de ocurrencia de cada palabra en el vocabulario, para la categoría:comp.sys.ibm.pc.hardware\n",
            "[2.43383024e-04 1.37917047e-03 8.11276747e-05 ... 8.11276747e-05\n",
            " 3.44792617e-04 1.41973431e-04]\n",
            "\n",
            "Log-probabilidad de ocurrencia de la categoría: comp.sys.ibm.pc.hardware\n",
            "0.05214778150963408\n",
            "El vector de ocurrencias para la categoría 4 cuyo largo es 1924 es:\n",
            "[ 8. 61. 12. ...  7. 12.  4.]\n",
            "\n",
            "Log-probabilidad de ocurrencia de cada palabra en el vocabulario, para la categoría:comp.sys.mac.hardware\n",
            "[1.84331797e-04 1.40552995e-03 2.76497696e-04 ... 1.61290323e-04\n",
            " 2.76497696e-04 9.21658986e-05]\n",
            "\n",
            "Log-probabilidad de ocurrencia de la categoría: comp.sys.mac.hardware\n",
            "0.05108714866537034\n",
            "El vector de ocurrencias para la categoría 5 cuyo largo es 1924 es:\n",
            "[14. 55.  6. ... 22. 28. 11.]\n",
            "\n",
            "Log-probabilidad de ocurrencia de cada palabra en el vocabulario, para la categoría:comp.windows.x\n",
            "[2.09568289e-04 8.23303994e-04 8.98149811e-05 ... 3.29321598e-04\n",
            " 4.19136579e-04 1.64660799e-04]\n",
            "\n",
            "Log-probabilidad de ocurrencia de la categoría: comp.windows.x\n",
            "0.05241293972070002\n",
            "El vector de ocurrencias para la categoría 6 cuyo largo es 1924 es:\n",
            "[ 5. 12.  7. ...  9. 22.  3.]\n",
            "\n",
            "Log-probabilidad de ocurrencia de cada palabra en el vocabulario, para la categoría:misc.forsale\n",
            "[1.48306342e-04 3.55935220e-04 2.07628878e-04 ... 2.66951415e-04\n",
            " 6.52547903e-04 8.89838049e-05]\n",
            "\n",
            "Log-probabilidad de ocurrencia de la categoría: misc.forsale\n",
            "0.05170585115785752\n",
            "El vector de ocurrencias para la categoría 7 cuyo largo es 1924 es:\n",
            "[ 8. 32. 12. ... 11. 30.  3.]\n",
            "\n",
            "Log-probabilidad de ocurrencia de cada palabra en el vocabulario, para la categoría:rec.autos\n",
            "[1.52992924e-04 6.11971696e-04 2.29489386e-04 ... 2.10365271e-04\n",
            " 5.73723465e-04 5.73723465e-05]\n",
            "\n",
            "Log-probabilidad de ocurrencia de la categoría: rec.autos\n",
            "0.05250132579105533\n",
            "El vector de ocurrencias para la categoría 8 cuyo largo es 1924 es:\n",
            "[13. 25.  6. ...  9. 33. 14.]\n",
            "\n",
            "Log-probabilidad de ocurrencia de cada palabra en el vocabulario, para la categoría:rec.motorcycles\n",
            "[0.00027791 0.00053445 0.00012827 ... 0.0001924  0.00070547 0.00029929]\n",
            "\n",
            "Log-probabilidad de ocurrencia de la categoría: rec.motorcycles\n",
            "0.05285487007247658\n",
            "El vector de ocurrencias para la categoría 9 cuyo largo es 1924 es:\n",
            "[36. 40. 11. ... 82. 10.  7.]\n",
            "\n",
            "Log-probabilidad de ocurrencia de cada palabra en el vocabulario, para la categoría:rec.sport.baseball\n",
            "[0.00071371 0.00079301 0.00021808 ... 0.00162566 0.00019825 0.00013878]\n",
            "\n",
            "Log-probabilidad de ocurrencia de la categoría: rec.sport.baseball\n",
            "0.052766484002121264\n",
            "El vector de ocurrencias para la categoría 10 cuyo largo es 1924 es:\n",
            "[14. 45.  9. ... 34. 10.  5.]\n",
            "\n",
            "Log-probabilidad de ocurrencia de cada palabra en el vocabulario, para la categoría:rec.sport.hockey\n",
            "[2.25392021e-04 7.24474354e-04 1.44894871e-04 ... 5.47380623e-04\n",
            " 1.60994301e-04 8.04971504e-05]\n",
            "\n",
            "Log-probabilidad de ocurrencia de la categoría: rec.sport.hockey\n",
            "0.0530316422131872\n",
            "El vector de ocurrencias para la categoría 11 cuyo largo es 1924 es:\n",
            "[49. 88. 16. ...  4. 20. 13.]\n",
            "\n",
            "Log-probabilidad de ocurrencia de cada palabra en el vocabulario, para la categoría:sci.crypt\n",
            "[5.06475653e-04 9.09588928e-04 1.65379805e-04 ... 4.13449513e-05\n",
            " 2.06724756e-04 1.34371092e-04]\n",
            "\n",
            "Log-probabilidad de ocurrencia de la categoría: sci.crypt\n",
            "0.05258971186141064\n",
            "El vector de ocurrencias para la categoría 12 cuyo largo es 1924 es:\n",
            "[ 6. 52.  3. ...  4. 14. 22.]\n",
            "\n",
            "Log-probabilidad de ocurrencia de cada palabra en el vocabulario, para la categoría:sci.electronics\n",
            "[1.22920593e-04 1.06531181e-03 6.14602966e-05 ... 8.19470622e-05\n",
            " 2.86814718e-04 4.50708842e-04]\n",
            "\n",
            "Log-probabilidad de ocurrencia de la categoría: sci.electronics\n",
            "0.0522361675799894\n",
            "El vector de ocurrencias para la categoría 13 cuyo largo es 1924 es:\n",
            "[13. 51. 11. ... 47. 20.  3.]\n",
            "\n",
            "Log-probabilidad de ocurrencia de cada palabra en el vocabulario, para la categoría:sci.med\n",
            "[1.92778231e-04 7.56283829e-04 1.63120042e-04 ... 6.96967450e-04\n",
            " 2.96581894e-04 4.44872841e-05]\n",
            "\n",
            "Log-probabilidad de ocurrencia de la categoría: sci.med\n",
            "0.05250132579105533\n",
            "El vector de ocurrencias para la categoría 14 cuyo largo es 1924 es:\n",
            "[ 8. 56.  6. ... 17. 16. 16.]\n",
            "\n",
            "Log-probabilidad de ocurrencia de cada palabra en el vocabulario, para la categoría:sci.space\n",
            "[1.13558937e-04 7.94912560e-04 8.51692028e-05 ... 2.41312741e-04\n",
            " 2.27117874e-04 2.27117874e-04]\n",
            "\n",
            "Log-probabilidad de ocurrencia de la categoría: sci.space\n",
            "0.05241293972070002\n",
            "El vector de ocurrencias para la categoría 15 cuyo largo es 1924 es:\n",
            "[32. 65. 10. ... 29. 44.  1.]\n",
            "\n",
            "Log-probabilidad de ocurrencia de cada palabra en el vocabulario, para la categoría:soc.religion.christian\n",
            "[3.67145103e-04 7.45763490e-04 1.14732845e-04 ... 3.32725249e-04\n",
            " 5.04824516e-04 1.14732845e-05]\n",
            "\n",
            "Log-probabilidad de ocurrencia de la categoría: soc.religion.christian\n",
            "0.052943256142831886\n",
            "El vector de ocurrencias para la categoría 16 cuyo largo es 1924 es:\n",
            "[17. 63.  8. ... 14. 44.  8.]\n",
            "\n",
            "Log-probabilidad de ocurrencia de cada palabra en el vocabulario, para la categoría:talk.politics.guns\n",
            "[2.06248104e-04 7.64331210e-04 9.70579315e-05 ... 1.69851380e-04\n",
            " 5.33818623e-04 9.70579315e-05]\n",
            "\n",
            "Log-probabilidad de ocurrencia de la categoría: talk.politics.guns\n",
            "0.048258794414000356\n",
            "El vector de ocurrencias para la categoría 17 cuyo largo es 1924 es:\n",
            "[10. 80. 20. ... 81. 76.  7.]\n",
            "\n",
            "Log-probabilidad de ocurrencia de cada palabra en el vocabulario, para la categoría:talk.politics.mideast\n",
            "[9.22441148e-05 7.37952919e-04 1.84488230e-04 ... 7.47177330e-04\n",
            " 7.01055273e-04 6.45708804e-05]\n",
            "\n",
            "Log-probabilidad de ocurrencia de la categoría: talk.politics.mideast\n",
            "0.04984974368039597\n",
            "El vector de ocurrencias para la categoría 18 cuyo largo es 1924 es:\n",
            "[11. 61.  9. ... 77. 40.  4.]\n",
            "\n",
            "Log-probabilidad de ocurrencia de cada palabra en el vocabulario, para la categoría:talk.politics.misc\n",
            "[1.31006967e-04 7.26493182e-04 1.07187519e-04 ... 9.17048770e-04\n",
            " 4.76388972e-04 4.76388972e-05]\n",
            "\n",
            "Log-probabilidad de ocurrencia de la categoría: talk.politics.misc\n",
            "0.041099522715220084\n",
            "El vector de ocurrencias para la categoría 19 cuyo largo es 1924 es:\n",
            "[ 9. 17.  5. ... 30. 41.  3.]\n",
            "\n",
            "Log-probabilidad de ocurrencia de cada palabra en el vocabulario, para la categoría:talk.religion.misc\n",
            "[1.69840162e-04 3.20809194e-04 9.43556453e-05 ... 5.66133872e-04\n",
            " 7.73716291e-04 5.66133872e-05]\n",
            "\n",
            "Log-probabilidad de ocurrencia de la categoría: talk.religion.misc\n",
            "0.033321548523952624\n"
          ],
          "name": "stdout"
        },
        {
          "output_type": "display_data",
          "data": {
            "image/png": "[encoded data removed]",
            "text/plain": [
              "<Figure size 1440x360 with 1 Axes>"
            ]
          },
          "metadata": {
            "tags": []
          }
        }
      ]
    },
    {
      "cell_type": "code",
      "metadata": {
        "id": "h6vHtHAeSvqs",
        "colab_type": "code",
        "colab": {
          "base_uri": "https://localhost:8080/",
          "height": 421
        },
        "outputId": "8dc923ff-aad6-436b-b282-89a896bb3522"
      },
      "source": [
        "#Agarramos un artículo en particular y calculamos el Likelihood de cada una de las categorías\n",
        "n_art=56\n",
        "print(\"Vamos a calcular los Log-likelihood para cada categoría. Utilizaremos el artículo {}\".format(n_art))\n",
        "print(\"El artículo pertenece a la categoría {}, la cual es {}\".format(twenty_train[\"target\"][n_art], twenty_train[\"target_names\"][twenty_train[\"target\"][n_art] ] ))\n",
        "maxLogL=-float('inf')\n",
        "for i in range(20):\n",
        "    logL=np.dot((X_train_data.toarray()[n_art]),p_priori[i])+p_model[i]\n",
        "    print(\"El log-likelihood para la categoría {} del artículo {} es:{}\".format(i,n_art,logL))\n",
        "    if logL>maxLogL:\n",
        "        maxIdx=i\n",
        "        maxLogL=logL\n",
        "print(\"El Log-likelihood mayor pertenece a la categoría: {}\".format(maxIdx))"
      ],
      "execution_count": 30,
      "outputs": [
        {
          "output_type": "stream",
          "text": [
            "Vamos a calcular los Log-likelihood para cada categoría. Utilizaremos el artículo 56\n",
            "El artículo pertenece a la categoría 7, la cual es rec.autos\n",
            "El log-likelihood para la categoría 0 del artículo 56 es:-992.3237612544019\n",
            "El log-likelihood para la categoría 1 del artículo 56 es:-955.6678567235585\n",
            "El log-likelihood para la categoría 2 del artículo 56 es:-956.0807534413605\n",
            "El log-likelihood para la categoría 3 del artículo 56 es:-943.9567849072215\n",
            "El log-likelihood para la categoría 4 del artículo 56 es:-957.0693638790765\n",
            "El log-likelihood para la categoría 5 del artículo 56 es:-985.0914870522749\n",
            "El log-likelihood para la categoría 6 del artículo 56 es:-961.1427412816205\n",
            "El log-likelihood para la categoría 7 del artículo 56 es:-883.2414924226738\n",
            "El log-likelihood para la categoría 8 del artículo 56 es:-937.6581621605908\n",
            "El log-likelihood para la categoría 9 del artículo 56 es:-1002.3202026301078\n",
            "El log-likelihood para la categoría 10 del artículo 56 es:-993.3567679610702\n",
            "El log-likelihood para la categoría 11 del artículo 56 es:-968.0981257268967\n",
            "El log-likelihood para la categoría 12 del artículo 56 es:-929.6097107835375\n",
            "El log-likelihood para la categoría 13 del artículo 56 es:-968.9175831297672\n",
            "El log-likelihood para la categoría 14 del artículo 56 es:-962.1828801859996\n",
            "El log-likelihood para la categoría 15 del artículo 56 es:-1011.4827284087149\n",
            "El log-likelihood para la categoría 16 del artículo 56 es:-950.8641689425539\n",
            "El log-likelihood para la categoría 17 del artículo 56 es:-1006.0027262382807\n",
            "El log-likelihood para la categoría 18 del artículo 56 es:-1000.6301068923655\n",
            "El log-likelihood para la categoría 19 del artículo 56 es:-976.9528375809344\n",
            "El Log-likelihood mayor pertenece a la categoría: 7\n"
          ],
          "name": "stdout"
        }
      ]
    },
    {
      "cell_type": "code",
      "metadata": {
        "id": "MOqJsVm4Sx8-",
        "colab_type": "code",
        "colab": {
          "base_uri": "https://localhost:8080/",
          "height": 52
        },
        "outputId": "d2595fea-9983-4795-c36b-fe54d6e97f55"
      },
      "source": [
        "from sklearn.naive_bayes import MultinomialNB\n",
        "clf = MultinomialNB()\n",
        "clf.fit(X_train_data.toarray(), twenty_train[\"target\"])\n",
        "print(\"La predicción para el artículo {} es:\".format(n_art))\n",
        "print(clf.predict(X_train_data.toarray()[n_art:n_art+1]))"
      ],
      "execution_count": 31,
      "outputs": [
        {
          "output_type": "stream",
          "text": [
            "La predicción para el artículo 56 es:\n",
            "[7]\n"
          ],
          "name": "stdout"
        }
      ]
    },
    {
      "cell_type": "code",
      "metadata": {
        "id": "Sovo6d9zS0KZ",
        "colab_type": "code",
        "colab": {
          "base_uri": "https://localhost:8080/",
          "height": 34
        },
        "outputId": "a7b08048-61fd-4788-b86a-769777301f01"
      },
      "source": [
        "porc=sum(np.array(clf.predict(X_train_data.toarray()))==np.array(twenty_train[\"target\"]))/11314*100\n",
        "print(\"El porcentaje de artículos clasificados correctamente es: {}%\".format(porc))\n"
      ],
      "execution_count": 32,
      "outputs": [
        {
          "output_type": "stream",
          "text": [
            "El porcentaje de artículos clasificados correctamente es: 84.51476047374933%\n"
          ],
          "name": "stdout"
        }
      ]
    },
    {
      "cell_type": "markdown",
      "metadata": {
        "id": "1rwV9QH_S29Y",
        "colab_type": "text"
      },
      "source": [
        "# Ejercicio de multinomialNB\n",
        "\n",
        "En el caso anterior, para medir la cantidad de artículos clasiicados correctamente se utilizó el mismo subconjunto del dataset que se utilizó para entrenar.\n",
        "\n",
        "Esta medida no es una medida del todo útil, ya que lo que interesa de un clasificador es su capacidad de clasificación de datos que no fueron utilizados para entrenar. Es por eso que se pide, para el clasificador entrenado con el subconjunto de training, cual es el porcentaje de artículos del subconjunto de testing clasificados correctamente. Comparar con el porcentaje anterior y explicar las diferencias.\n",
        "\n",
        "Para este ejercicio se puede utilizar el paquete multinomialNB que se encuentra dentro de naive-bayes en el paquete sklearn.\n",
        "\n",
        "** Importante: para aplicar count vectorizer al dataset de testing sin redefinir el vocabulario, se debe usar el método transform, ya que fit y fit_transform recalculan el vocabulario. **\n",
        "\n",
        "Se puede encontrar mas información del dataset en:\n",
        "\n",
        "http://scikit-learn.org/stable/datasets/twenty_newsgroups.html#newsgroups"
      ]
    },
    {
      "cell_type": "markdown",
      "metadata": {
        "id": "s5AFvPlfS6OO",
        "colab_type": "text"
      },
      "source": [
        "# Solución"
      ]
    },
    {
      "cell_type": "code",
      "metadata": {
        "id": "mIvOl9vCU9uC",
        "colab_type": "code",
        "colab": {}
      },
      "source": [
        ""
      ],
      "execution_count": 0,
      "outputs": []
    }
  ]
}